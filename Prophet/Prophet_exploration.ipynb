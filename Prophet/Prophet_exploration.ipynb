{
 "cells": [
  {
   "cell_type": "code",
   "execution_count": 0,
   "metadata": {
    "application/vnd.databricks.v1+cell": {
     "cellMetadata": {},
     "inputWidgets": {},
     "nuid": "681229c7-3258-46bc-9c3a-c76cef9ba0b6",
     "showTitle": false,
     "title": ""
    }
   },
   "outputs": [],
   "source": [
    "import numpy as np # linear algebra\n",
    "import pandas as pd # data processing, CSV file I/O (e.g. pd.read_csv)\n",
    "\n",
    "import seaborn as sns\n",
    "import matplotlib.pyplot as plt\n",
    "import matplotlib.gridspec as gridspec\n",
    "import regex as re\n",
    "\n",
    "from prophet import Prophet\n",
    "from prophet.plot import add_changepoints_to_plot\n",
    "from prophet.diagnostics import cross_validation\n",
    "from prophet.diagnostics import performance_metrics\n",
    "from prophet.plot import plot_cross_validation_metric\n",
    "\n",
    "\n",
    "from statsmodels.tsa.seasonal import seasonal_decompose\n",
    "#from learntools.time_series.utils import plot_periodogram, seasonal_plot\n",
    "\n",
    "import sktime\n",
    "from sktime.forecasting.model_selection import temporal_train_test_split\n",
    "from sktime.utils.plotting import plot_series\n",
    "from sktime.performance_metrics.forecasting import mean_absolute_percentage_error\n",
    "from sklearn.metrics import mean_squared_error"
   ]
  },
  {
   "cell_type": "markdown",
   "metadata": {
    "application/vnd.databricks.v1+cell": {
     "cellMetadata": {},
     "inputWidgets": {},
     "nuid": "2b84ae51-cfe4-4d11-be75-38f985ccc8d3",
     "showTitle": false,
     "title": ""
    }
   },
   "source": [
    "Functions"
   ]
  },
  {
   "cell_type": "code",
   "execution_count": 0,
   "metadata": {
    "application/vnd.databricks.v1+cell": {
     "cellMetadata": {},
     "inputWidgets": {},
     "nuid": "86f239e7-b6b6-4688-a3c6-23431d5cc300",
     "showTitle": false,
     "title": ""
    }
   },
   "outputs": [],
   "source": [
    "#################\n",
    "### Functions ###\n",
    "#################\n",
    "\n",
    "def get_color(name, number):\n",
    "    pal = list(sns.color_palette(palette=name, n_colors=number).as_hex())\n",
    "    return pal\n",
    "\n",
    "def add_datepart(df, fldname, drop=True, time=False):\n",
    "    \"Helper function that adds columns relevant to a date.\"\n",
    "    fld = df[fldname]\n",
    "    fld_dtype = fld.dtype\n",
    "    if isinstance(fld_dtype, pd.core.dtypes.dtypes.DatetimeTZDtype):\n",
    "        fld_dtype = np.datetime64\n",
    "\n",
    "    if not np.issubdtype(fld_dtype, np.datetime64):\n",
    "        df[fldname] = fld = pd.to_datetime(fld, infer_datetime_format=True)\n",
    "    targ_pre = re.sub('[Dd]ate$', '', fldname)\n",
    "    attr = ['Year', 'Month', 'Week', 'Day', 'Dayofweek', 'Dayofyear',\n",
    "            'Is_month_end', 'Is_month_start', 'Is_quarter_end', 'Is_quarter_start', 'Is_year_end', 'Is_year_start']\n",
    "    if time: attr = attr + ['Hour', 'Minute', 'Second']\n",
    "    for n in attr: df[targ_pre + n] = getattr(fld.dt, n.lower())\n",
    "    df[targ_pre + 'Elapsed'] = fld.astype(np.int64) // 10 ** 9\n",
    "    if drop: df.drop(fldname, axis=1, inplace=True)\n",
    "    \n",
    "def holiday(name):\n",
    "    dset = holidays_events[holidays_events.locale == name]\n",
    "    dset = dset[['date','var']].reset_index(drop=True)\n",
    "    dset.rename(columns = {'var':name}, inplace = True)\n",
    "    dset = dset.drop_duplicates()\n",
    "    return dset    \n",
    "\n",
    "########################\n",
    "### Cross validation ###\n",
    "########################\n",
    "\n",
    "def cv_exam(model, test_df):\n",
    "    \n",
    "    forecast = model.predict(test_df)\n",
    "    df_cv = cross_validation(model, initial='730 days', period='15 days', horizon = '30 days')\n",
    "    df_p = performance_metrics(df_cv)\n",
    "    df_cv['residual'] = df_cv['y'] - df_cv['yhat']\n",
    "    prop_test = pd.merge(test_df,forecast[['yhat','ds']],on=['ds'],how='inner')\n",
    "    prop_test.index = y_test.index\n",
    "    \n",
    "    return df_cv, df_p, forecast, prop_test\n",
    "\n",
    "def perf_vals(dset, meas = 'smape'):\n",
    "    rmse_add = dset.groupby(['Model'])[meas].mean()\n",
    "    rmse_add = pd.DataFrame(rmse_add)\n",
    "    a = rmse_add.sort_values(by = [meas])\n",
    "    \n",
    "    rmse_add = rmse_add.reset_index()\n",
    "    model = rmse_add[rmse_add[meas] == min(rmse_add[meas])]\n",
    "    print(f\"The best model is the {model['Model'].values[0]} model\")\n",
    "\n",
    "    return a"
   ]
  },
  {
   "cell_type": "code",
   "execution_count": 0,
   "metadata": {
    "application/vnd.databricks.v1+cell": {
     "cellMetadata": {},
     "inputWidgets": {},
     "nuid": "3417755c-861c-4ce2-8690-b0076373908c",
     "showTitle": false,
     "title": ""
    }
   },
   "outputs": [],
   "source": [
    "spark.conf.set(\"fs.azure.account.key.ifsandboxstorage.dfs.core.windows.net\", dbutils.secrets.get(scope=\"if-databricks-scope\", key=\"if-storage-key\"))"
   ]
  },
  {
   "cell_type": "code",
   "execution_count": 0,
   "metadata": {
    "application/vnd.databricks.v1+cell": {
     "cellMetadata": {},
     "inputWidgets": {},
     "nuid": "92509715-73a8-4dec-8ff5-0374f00280e0",
     "showTitle": false,
     "title": ""
    }
   },
   "outputs": [],
   "source": [
    "#import pickle with open('FILEPATH/store_sales_by_product_simple.pickle', 'rb') as f:\n",
    "#    data = pickle.load(f) "
   ]
  },
  {
   "cell_type": "code",
   "execution_count": 0,
   "metadata": {
    "application/vnd.databricks.v1+cell": {
     "cellMetadata": {},
     "inputWidgets": {},
     "nuid": "4724426a-7062-445e-8758-994a2b304c51",
     "showTitle": false,
     "title": ""
    }
   },
   "outputs": [],
   "source": [
    "file_location = \"experimental dataset/store-sales/stores.csv\"\n",
    "csvFile = \"abfss://raw@ifsandboxstorage.dfs.core.windows.net/\" + file_location\n",
    "df_raw = spark.read.option(\"header\", \"true\").options(inferSchema='True',delimiter=',').csv(csvFile)\n",
    "stores = df_raw.toPandas()\n",
    "stores.head()"
   ]
  },
  {
   "cell_type": "code",
   "execution_count": 0,
   "metadata": {
    "application/vnd.databricks.v1+cell": {
     "cellMetadata": {},
     "inputWidgets": {},
     "nuid": "fc9bcfef-4e2d-4181-a1f9-0361d8a9dd92",
     "showTitle": false,
     "title": ""
    }
   },
   "outputs": [],
   "source": [
    "file_location = \"experimental dataset/store-sales/train.csv\"\n",
    "csvFile = \"abfss://raw@ifsandboxstorage.dfs.core.windows.net/\" + file_location\n",
    "df_raw = spark.read.option(\"header\", \"true\").options(inferSchema='True',delimiter=',').csv(csvFile)\n",
    "train = df_raw.toPandas()\n",
    "train.head()"
   ]
  },
  {
   "cell_type": "code",
   "execution_count": 0,
   "metadata": {
    "application/vnd.databricks.v1+cell": {
     "cellMetadata": {},
     "inputWidgets": {},
     "nuid": "01fd53ee-c4ac-47a6-8426-d311f201e166",
     "showTitle": false,
     "title": ""
    }
   },
   "outputs": [],
   "source": [
    "file_location = \"experimental dataset/store-sales/store_sales_by_product_simple.pickle\"\n",
    "csvFile = \"abfss://raw@ifsandboxstorage.dfs.core.windows.net/\" + file_location\n",
    "df_raw = pd.read_pickle(re.sub(':', '', f'/{csvFile}')\n",
    "#train = df_raw.toPandas()\n",
    "df_raw.head()"
   ]
  },
  {
   "cell_type": "code",
   "execution_count": 0,
   "metadata": {
    "application/vnd.databricks.v1+cell": {
     "cellMetadata": {},
     "inputWidgets": {},
     "nuid": "0fdcbb95-b7f9-4c0c-919f-81f4bfba7aec",
     "showTitle": false,
     "title": ""
    }
   },
   "outputs": [],
   "source": [
    "#######################\n",
    "### Sales by family ###\n",
    "#######################\n",
    "\n",
    "item_count_m = train.groupby(['family'])['sales'].sum()\n",
    "item_count_m = item_count_m.reset_index()\n",
    "item_count_m = pd.DataFrame(item_count_m)\n",
    "item_count_m = item_count_m.sort_values(['sales'],ascending = False)\n",
    "item_count_ma = item_count_m.iloc[:20,:]\n",
    "item_count_ma = item_count_ma.reset_index(drop=True)\n",
    "item_count_ma.head()"
   ]
  },
  {
   "cell_type": "code",
   "execution_count": 0,
   "metadata": {
    "application/vnd.databricks.v1+cell": {
     "cellMetadata": {},
     "inputWidgets": {},
     "nuid": "695f5c34-9fd5-49dd-bd62-f664d909cc00",
     "showTitle": false,
     "title": ""
    }
   },
   "outputs": [],
   "source": [
    "pal_vi = get_color('viridis_r', len(item_count_ma))\n",
    "pal_plas = get_color('plasma_r', len(item_count_ma))\n",
    "pal_spec = get_color('Spectral', len(item_count_ma))\n",
    "pal_hsv = get_color('hsv', len(item_count_ma))\n",
    "\n",
    "plt.gcf().set_size_inches(12, 12)\n",
    "sns.set_style('darkgrid')\n",
    "\n",
    "#set max value\n",
    "max_val = max(item_count_ma['sales'])*1.01\n",
    "ax = plt.subplot(projection='polar')\n",
    "\n",
    "for i in range(len(item_count_ma)):\n",
    "    ax.barh(i, list(item_count_ma['sales'])[i]*2*np.pi/max_val,\n",
    "            label=list(item_count_ma['family'])[i], color=pal_plas[i])\n",
    "\n",
    "#set the subplot \n",
    "ax.set_theta_zero_location('N')\n",
    "ax.set_theta_direction(1)\n",
    "ax.set_rlabel_position(0)\n",
    "ax.set_thetagrids([], labels=[])\n",
    "ax.set_rgrids(range(len(item_count_ma)), labels= item_count_ma['family'])\n",
    "\n",
    "#set the projection\n",
    "ax = plt.subplot(projection='polar')\n",
    "plt.legend(bbox_to_anchor=(1, 1), loc=2)\n",
    "plt.show()"
   ]
  },
  {
   "cell_type": "code",
   "execution_count": 0,
   "metadata": {
    "application/vnd.databricks.v1+cell": {
     "cellMetadata": {},
     "inputWidgets": {},
     "nuid": "63a1ccf3-bd19-456c-bf57-2d54845154d8",
     "showTitle": false,
     "title": ""
    }
   },
   "outputs": [],
   "source": [
    "print(train.shape)\n",
    "train = train[train.family.isin(list(set(item_count_ma.family))[0:5]) & (train.store_nbr == 50)]\n",
    "print(train.shape)"
   ]
  },
  {
   "cell_type": "code",
   "execution_count": 0,
   "metadata": {
    "application/vnd.databricks.v1+cell": {
     "cellMetadata": {},
     "inputWidgets": {},
     "nuid": "5004398a-381c-4cd0-afac-c0ed11474536",
     "showTitle": false,
     "title": ""
    }
   },
   "outputs": [],
   "source": [
    "file_location = \"experimental dataset/store-sales/oil.csv\"\n",
    "csvFile = \"abfss://raw@ifsandboxstorage.dfs.core.windows.net/\" + file_location\n",
    "df_raw = spark.read.option(\"header\", \"true\").options(inferSchema='True',delimiter=',').csv(csvFile)\n",
    "oil = df_raw.toPandas()\n",
    "oil.head()"
   ]
  },
  {
   "cell_type": "code",
   "execution_count": 0,
   "metadata": {
    "application/vnd.databricks.v1+cell": {
     "cellMetadata": {},
     "inputWidgets": {},
     "nuid": "a5ad9b31-e2e8-4996-901c-d94c80833069",
     "showTitle": false,
     "title": ""
    }
   },
   "outputs": [],
   "source": [
    "file_location = \"experimental dataset/store-sales/holidays_events.csv\"\n",
    "csvFile = \"abfss://raw@ifsandboxstorage.dfs.core.windows.net/\" + file_location\n",
    "df_raw = spark.read.option(\"header\", \"true\").options(inferSchema='True',delimiter=',').csv(csvFile)\n",
    "holidays_events = df_raw.toPandas()\n",
    "holidays_events.head()"
   ]
  },
  {
   "cell_type": "code",
   "execution_count": 0,
   "metadata": {
    "application/vnd.databricks.v1+cell": {
     "cellMetadata": {},
     "inputWidgets": {},
     "nuid": "0c0a5903-7f8c-498a-bc4d-4d9dfde87026",
     "showTitle": false,
     "title": ""
    }
   },
   "outputs": [],
   "source": [
    "##################\n",
    "### Train data ###\n",
    "##################\n",
    "\n",
    "train = pd.merge(train,stores,on = 'store_nbr',how = 'left')\n",
    "add_datepart(train, 'date', drop = False)\n",
    "train['month_date'] = pd.to_datetime(train[['Year', 'Month']].assign(DAY=1))\n",
    "print(train.shape)\n",
    "# (3000888, 31)\n",
    "train.head()"
   ]
  },
  {
   "cell_type": "code",
   "execution_count": 0,
   "metadata": {
    "application/vnd.databricks.v1+cell": {
     "cellMetadata": {},
     "inputWidgets": {},
     "nuid": "535e5b6e-5a35-4559-b1d8-8aa20c1d9064",
     "showTitle": false,
     "title": ""
    }
   },
   "outputs": [],
   "source": [
    "### Oil ###\n",
    "\n",
    "miss_df = pd.DataFrame(oil.isna().mean() * 100)\n",
    "#miss_df = miss_df[miss_df.iloc[:,0] != 0] \n",
    "print(miss_df)\n",
    "# 3.530378\n",
    "oil = oil[~oil.dcoilwtico.isna()]\n",
    "oil.date = pd.to_datetime(oil.date).dt.date\n",
    "oil.date = oil.date.astype('datetime64[ns]')\n",
    "print(oil.shape)\n",
    "oil.head()"
   ]
  },
  {
   "cell_type": "code",
   "execution_count": 0,
   "metadata": {
    "application/vnd.databricks.v1+cell": {
     "cellMetadata": {},
     "inputWidgets": {},
     "nuid": "0131b354-d49d-49a4-b351-26c9f2610c37",
     "showTitle": false,
     "title": ""
    }
   },
   "outputs": [],
   "source": [
    "print(holidays_events.shape)\n",
    "holidays_events.date = pd.to_datetime(holidays_events.date).dt.date\n",
    "holidays_events.date = holidays_events.date.astype('datetime64[ns]')\n",
    "holidays_events_nd = holidays_events[['date']].drop_duplicates()\n",
    "print(holidays_events_nd.shape)\n",
    "holidays_events.head()"
   ]
  },
  {
   "cell_type": "code",
   "execution_count": 0,
   "metadata": {
    "application/vnd.databricks.v1+cell": {
     "cellMetadata": {},
     "inputWidgets": {},
     "nuid": "b0b4abf7-5752-4d53-ae52-3ed8dd6316b5",
     "showTitle": false,
     "title": ""
    }
   },
   "outputs": [],
   "source": [
    "for name in list(holidays_events.columns):    \n",
    "    print(f\" There are {holidays_events[name].nunique()} unique {name} ids\")\n",
    "    if holidays_events[name].nunique() < 25:\n",
    "        print(list(set(holidays_events[name])))"
   ]
  },
  {
   "cell_type": "code",
   "execution_count": 0,
   "metadata": {
    "application/vnd.databricks.v1+cell": {
     "cellMetadata": {},
     "inputWidgets": {},
     "nuid": "f9181d19-c0fc-4ccd-ac95-cef5e3fec464",
     "showTitle": false,
     "title": ""
    }
   },
   "outputs": [],
   "source": [
    "for name in list(set(holidays_events['type'])):\n",
    "    print(name,holidays_events[holidays_events.type == str(name)].shape[0])"
   ]
  },
  {
   "cell_type": "code",
   "execution_count": 0,
   "metadata": {
    "application/vnd.databricks.v1+cell": {
     "cellMetadata": {},
     "inputWidgets": {},
     "nuid": "f04d2c0d-61c5-490d-8361-340088c7af9e",
     "showTitle": false,
     "title": ""
    }
   },
   "outputs": [],
   "source": [
    "hol_list = holidays_events[holidays_events.type == 'Holiday']\n",
    "hol_list = list(set(hol_list.date))\n",
    "holi_list = [d.strftime('%d-%m-%Y') for d in hol_list]"
   ]
  },
  {
   "cell_type": "code",
   "execution_count": 0,
   "metadata": {
    "application/vnd.databricks.v1+cell": {
     "cellMetadata": {},
     "inputWidgets": {},
     "nuid": "f72f512d-9043-4eb2-9f37-c7756b6a3700",
     "showTitle": false,
     "title": ""
    }
   },
   "outputs": [],
   "source": [
    "print(holidays_events.shape)\n",
    "holidays_events = holidays_events[(holidays_events.type != 'Work Day')  & (holidays_events.transferred != True)]\n",
    "holidays_events['var'] = 1\n",
    "print(holidays_events.shape)\n",
    "\n",
    "national = holiday('National')\n",
    "regional = holiday('Regional')\n",
    "local = holiday('Local')\n",
    "print(national.shape,regional.shape,local.shape)\n"
   ]
  },
  {
   "cell_type": "code",
   "execution_count": 0,
   "metadata": {
    "application/vnd.databricks.v1+cell": {
     "cellMetadata": {},
     "inputWidgets": {},
     "nuid": "642282b2-7380-4224-a4c8-e05059da983a",
     "showTitle": false,
     "title": ""
    }
   },
   "outputs": [],
   "source": [
    "####################\n",
    "### Remerge data ###\n",
    "####################\n",
    "\n",
    "train.date = pd.to_datetime(train.date).dt.date\n",
    "train.date = train.date.astype('datetime64[ns]')\n",
    "print(train.shape)\n",
    "train = pd.merge(train,oil,on = 'date',how = 'left')\n",
    "train[\"dcoilwtico\"] = train[\"dcoilwtico\"].fillna(train.groupby('month_date')['dcoilwtico'].transform('mean'))\n",
    "print(train.shape)\n",
    "\n",
    "train = pd.merge(train,national,on = 'date',how = 'left')\n",
    "print(train.shape)\n",
    "train = pd.merge(train,regional,on = 'date',how = 'left')\n",
    "print(train.shape)\n",
    "train = pd.merge(train,local,on = 'date',how = 'left')\n",
    "print(train.shape)\n",
    "for name in ['National','Regional','Local']:\n",
    "    train[name] = train[name].fillna(0)\n",
    "print(train.shape)"
   ]
  },
  {
   "cell_type": "code",
   "execution_count": 0,
   "metadata": {
    "application/vnd.databricks.v1+cell": {
     "cellMetadata": {},
     "inputWidgets": {},
     "nuid": "5fc9d2fa-c470-4963-944e-d05fc61e93ef",
     "showTitle": false,
     "title": ""
    }
   },
   "outputs": [],
   "source": [
    "train.head()"
   ]
  },
  {
   "cell_type": "markdown",
   "metadata": {
    "application/vnd.databricks.v1+cell": {
     "cellMetadata": {},
     "inputWidgets": {},
     "nuid": "6ed70823-3dde-4055-b49d-e75a250691a4",
     "showTitle": false,
     "title": ""
    }
   },
   "source": [
    "Analysis"
   ]
  },
  {
   "cell_type": "code",
   "execution_count": 0,
   "metadata": {
    "application/vnd.databricks.v1+cell": {
     "cellMetadata": {},
     "inputWidgets": {},
     "nuid": "b17d5895-4211-4071-b0f3-9169480169d0",
     "showTitle": false,
     "title": ""
    }
   },
   "outputs": [],
   "source": [
    "############################\n",
    "### Time series analysis ###\n",
    "############################\n",
    "\n",
    "#groc_data1 = train[(train.family == 'GROCERY I') & (train.store_nbr == 50)]\n",
    "groc_data1 = train.copy()\n",
    "\n",
    "print(groc_data1.shape)\n",
    "print(list(groc_data1.columns))\n",
    "groc_data1.head()"
   ]
  },
  {
   "cell_type": "code",
   "execution_count": 0,
   "metadata": {
    "application/vnd.databricks.v1+cell": {
     "cellMetadata": {},
     "inputWidgets": {},
     "nuid": "28a139b2-3461-4f20-bad3-0cef55c02b74",
     "showTitle": false,
     "title": ""
    }
   },
   "outputs": [],
   "source": [
    "print(list(set(groc_data1.family)))"
   ]
  },
  {
   "cell_type": "code",
   "execution_count": 0,
   "metadata": {
    "application/vnd.databricks.v1+cell": {
     "cellMetadata": {},
     "inputWidgets": {},
     "nuid": "a119fce4-5d4d-4b56-87a3-28478a1fceb1",
     "showTitle": false,
     "title": ""
    }
   },
   "outputs": [],
   "source": [
    "#########################\n",
    "### Percentage change ###\n",
    "#########################\n",
    "\n",
    "plt.rc('font',size=10)\n",
    "grid = gridspec.GridSpec(3,2)\n",
    "plt.figure(figsize=(19,15))\n",
    "plt.subplots_adjust(wspace=0.4,hspace=0.3)\n",
    "      \n",
    "for idx, name in enumerate(list(set(groc_data1.family))):\n",
    "    ax = plt.subplot(grid[idx])\n",
    "    dset = groc_data1[groc_data1.family == name]\n",
    "    dset['Change'] = dset.sales.div(groc_data1.sales.shift())\n",
    "\n",
    "    sns.lineplot(x=\"Dayofyear\", y=\"Change\", hue='Year', markers=True, data=dset)\n",
    "    ax.set(xlabel='Dates', ylabel='Sales count percentage change')"
   ]
  },
  {
   "cell_type": "markdown",
   "metadata": {
    "application/vnd.databricks.v1+cell": {
     "cellMetadata": {},
     "inputWidgets": {},
     "nuid": "5d676b1f-8d3c-45e3-a0bf-84eda9dae68e",
     "showTitle": false,
     "title": ""
    }
   },
   "source": [
    "Seasonality check"
   ]
  },
  {
   "cell_type": "code",
   "execution_count": 0,
   "metadata": {
    "application/vnd.databricks.v1+cell": {
     "cellMetadata": {},
     "inputWidgets": {},
     "nuid": "148fb725-459e-425c-9c9f-3941d979b7bc",
     "showTitle": false,
     "title": ""
    }
   },
   "outputs": [],
   "source": [
    "#seasonal_plot(groc_data1, y='sales', period='Year', freq='Month')"
   ]
  },
  {
   "cell_type": "code",
   "execution_count": 0,
   "metadata": {
    "application/vnd.databricks.v1+cell": {
     "cellMetadata": {},
     "inputWidgets": {},
     "nuid": "e213f653-e255-47c5-b256-91281705a638",
     "showTitle": false,
     "title": ""
    }
   },
   "outputs": [],
   "source": [
    "#seasonal_plot(groc_data1, y='sales', period='Year', freq='Week')"
   ]
  },
  {
   "cell_type": "code",
   "execution_count": 0,
   "metadata": {
    "application/vnd.databricks.v1+cell": {
     "cellMetadata": {},
     "inputWidgets": {},
     "nuid": "2254e951-f0bf-4906-9c42-ed10435c08c6",
     "showTitle": false,
     "title": ""
    }
   },
   "outputs": [],
   "source": [
    "#seasonal_plot(groc_data1, y='sales', period='Week', freq='Dayofweek')"
   ]
  },
  {
   "cell_type": "markdown",
   "metadata": {
    "application/vnd.databricks.v1+cell": {
     "cellMetadata": {},
     "inputWidgets": {},
     "nuid": "e8a27f57-719d-45af-85f8-a25a85d36d9f",
     "showTitle": false,
     "title": ""
    }
   },
   "source": [
    "Decomposition"
   ]
  },
  {
   "cell_type": "code",
   "execution_count": 0,
   "metadata": {
    "application/vnd.databricks.v1+cell": {
     "cellMetadata": {},
     "inputWidgets": {},
     "nuid": "d5f0478f-ca44-4d14-9c47-25e43d2faafe",
     "showTitle": false,
     "title": ""
    }
   },
   "outputs": [],
   "source": [
    "#####################\n",
    "### Decomposition ###\n",
    "#####################\n",
    "\n",
    "plt.rc('font',size=10)\n",
    "grid = gridspec.GridSpec(3,2)\n",
    "plt.figure(figsize=(19,15))\n",
    "plt.subplots_adjust(wspace=0.4,hspace=0.3)\n",
    "      \n",
    "for idx, name in enumerate(list(set(groc_data1.family))):\n",
    "    ax = plt.subplot(grid[idx])\n",
    "    dset = groc_data1[groc_data1.family == name]\n",
    "    dset = dset[['date','sales']]\n",
    "    dset = dset.reset_index(drop=True)\n",
    "    dset = dset.sort_values(['date','sales'])\n",
    "    dset.set_index('date',inplace=True)\n",
    "    dset.index = pd.to_datetime(dset.index)\n",
    "    ax.set_title(f'{name} sales plot')\n",
    "    dset['sales'].plot()\n",
    "\n",
    "\n"
   ]
  },
  {
   "cell_type": "code",
   "execution_count": 0,
   "metadata": {
    "application/vnd.databricks.v1+cell": {
     "cellMetadata": {},
     "inputWidgets": {},
     "nuid": "2149bf6e-a208-4d2e-bb25-f128ab37c59d",
     "showTitle": false,
     "title": ""
    }
   },
   "outputs": [],
   "source": [
    "list(set(groc_data1.family))"
   ]
  },
  {
   "cell_type": "code",
   "execution_count": 0,
   "metadata": {
    "application/vnd.databricks.v1+cell": {
     "cellMetadata": {},
     "inputWidgets": {},
     "nuid": "23dbb001-6b2d-452b-8a0a-305fb07492eb",
     "showTitle": false,
     "title": ""
    }
   },
   "outputs": [],
   "source": [
    "plt.rc('font',size=10)\n",
    "grid = gridspec.GridSpec(3,2)\n",
    "plt.figure(figsize=(19,15))\n",
    "plt.subplots_adjust(wspace=0.4,hspace=0.3)\n",
    "      \n",
    "for idx, name in enumerate(list(set(groc_data1.family))):\n",
    "    ax = plt.subplot(grid[idx])\n",
    "    dset = groc_data1[groc_data1.family == name]\n",
    "    dset['sales'] = dset['sales'] + 0.01\n",
    "\n",
    "    result = seasonal_decompose(dset['sales'], model='multiplicative', period=365)\n",
    "    ax.set_title(f'{name} Seasonal plot')\n",
    "    result.seasonal.plot()\n",
    "\n"
   ]
  },
  {
   "cell_type": "code",
   "execution_count": 0,
   "metadata": {
    "application/vnd.databricks.v1+cell": {
     "cellMetadata": {},
     "inputWidgets": {},
     "nuid": "4121b6c1-9b7d-45fe-a06f-ee9ac191d8d0",
     "showTitle": false,
     "title": ""
    }
   },
   "outputs": [],
   "source": [
    "plt.rc('font',size=10)\n",
    "grid = gridspec.GridSpec(3,2)\n",
    "plt.figure(figsize=(19,15))\n",
    "plt.subplots_adjust(wspace=0.4,hspace=0.3)\n",
    "      \n",
    "for idx, name in enumerate(list(set(groc_data1.family))):\n",
    "    ax = plt.subplot(grid[idx])\n",
    "    dset = groc_data1[groc_data1.family == name]\n",
    "    dset['sales'] = dset['sales'] + 0.01\n",
    "\n",
    "    result = seasonal_decompose(dset['sales'], model='multiplicative', period=365)\n",
    "    ax.set_title(f'{name} Trend plot')\n",
    "    result.trend.plot()\n",
    "    \n"
   ]
  },
  {
   "cell_type": "code",
   "execution_count": 0,
   "metadata": {
    "application/vnd.databricks.v1+cell": {
     "cellMetadata": {},
     "inputWidgets": {},
     "nuid": "322f337c-80c9-400c-8335-ae1e0aa45f54",
     "showTitle": false,
     "title": ""
    }
   },
   "outputs": [],
   "source": [
    "plt.rc('font',size=10)\n",
    "grid = gridspec.GridSpec(3,2)\n",
    "plt.figure(figsize=(19,15))\n",
    "plt.subplots_adjust(wspace=0.4,hspace=0.3)\n",
    "      \n",
    "for idx, name in enumerate(list(set(groc_data1.family))):\n",
    "    ax = plt.subplot(grid[idx])\n",
    "    dset = groc_data1[groc_data1.family == name]\n",
    "    dset['sales'] = dset['sales'] + 0.01\n",
    "    result = seasonal_decompose(dset['sales'], model='multiplicative', period=365)\n",
    "    ax.set_title(f'{name} Decomposition plot')\n",
    "    result.plot();"
   ]
  },
  {
   "cell_type": "markdown",
   "metadata": {
    "application/vnd.databricks.v1+cell": {
     "cellMetadata": {},
     "inputWidgets": {},
     "nuid": "0199bb8c-f8b2-4755-8c00-bf4d0ab298d9",
     "showTitle": false,
     "title": ""
    }
   },
   "source": [
    "Test/Train split"
   ]
  },
  {
   "cell_type": "code",
   "execution_count": 0,
   "metadata": {
    "application/vnd.databricks.v1+cell": {
     "cellMetadata": {},
     "inputWidgets": {},
     "nuid": "c19f324b-50f0-4dd3-80cb-68aba71661a2",
     "showTitle": false,
     "title": ""
    }
   },
   "outputs": [],
   "source": [
    "########################\n",
    "### Test train split ###\n",
    "########################\n",
    "\n",
    "groc_data1['flag_prom'] = 1\n",
    "groc_data1.loc[groc_data1.onpromotion == 0,'flag_prom'] = 0\n",
    "groc_data1['y'] = groc_data1.sales\n",
    "dset = groc_data1[groc_data1.family == list(set(groc_data1.family))[0]]"
   ]
  },
  {
   "cell_type": "code",
   "execution_count": 0,
   "metadata": {
    "application/vnd.databricks.v1+cell": {
     "cellMetadata": {},
     "inputWidgets": {},
     "nuid": "37424fe0-087d-4169-9077-56c7aeb4e2af",
     "showTitle": false,
     "title": ""
    }
   },
   "outputs": [],
   "source": [
    "######################################\n",
    "### Align data with Prophet format ###\n",
    "######################################\n",
    "\n",
    "time_data_ph = groc_data1[['date','sales','dcoilwtico','National','Regional','Local','flag_prom','Is_month_end','onpromotion','family',\n",
    "                          'Is_year_start','Is_month_end','Dayofweek','Is_month_start','flag_prom']]\n",
    "\n",
    "time_data_ph.columns = ['ds','y','dcoilwtico','National','Regional','Local','flag_prom','Is_month_end','onpromotion','family',\n",
    "                       'Is_year_start','Is_month_end','Dayofweek','Is_month_start','flag_prom']\n",
    "time_data_ph = time_data_ph.sort_values('ds')\n",
    "time_data_ph['y'] = time_data_ph['y'].astype(int)\n",
    "time_data_ph['ds'] = pd.to_datetime(time_data_ph['ds'], format='%Y-%m-%d')\n",
    "time_data_ph = time_data_ph.reset_index(drop=True)\n",
    "\n",
    "for name in ['National','Regional','Local','flag_prom','Is_month_end','Is_year_start','Is_month_end','Is_month_start']:\n",
    "    time_data_ph[name] = time_data_ph[name].astype(int)\n",
    "\n",
    "    \n",
    "for idx, name in enumerate(list(set(groc_data1.family))):\n",
    "    dset = time_data_ph[time_data_ph.family == name]\n",
    "    y_train, y_test = temporal_train_test_split(dset['y'], test_size = 421)\n",
    "    train_df = dset.iloc[:y_train.shape[0],]\n",
    "    test_df = dset.iloc[y_train.shape[0]:,]\n",
    "    print(train_df.shape,test_df.shape)\n",
    "    fh = np.arange(1, len(y_test) + 1)   # forecasting horizon\n",
    "    print(y_train.shape[0], y_test.shape[0])\n",
    "    \n",
    "    f = plt.figure(figsize=(19, 15))\n",
    "    plot_series(y_train, y_test, labels=[\"y_train\", \"y_test\"], title = f'{name} Train-test plot');\n",
    "    \n",
    "    plot_series(y_test, title = f'{name} Test plot');"
   ]
  },
  {
   "cell_type": "code",
   "execution_count": 0,
   "metadata": {
    "application/vnd.databricks.v1+cell": {
     "cellMetadata": {},
     "inputWidgets": {},
     "nuid": "d04d2de9-a0cb-40ed-857a-a73a909772e1",
     "showTitle": false,
     "title": ""
    }
   },
   "outputs": [],
   "source": [
    "#########################\n",
    "### Plots of the data ###\n",
    "#########################\n",
    "\n",
    "#f = plt.figure(figsize=(19, 15))\n",
    "#plot_series(y_train, y_test, labels=[\"y_train\", \"y_test\"]);"
   ]
  },
  {
   "cell_type": "code",
   "execution_count": 0,
   "metadata": {
    "application/vnd.databricks.v1+cell": {
     "cellMetadata": {},
     "inputWidgets": {},
     "nuid": "2c59585f-250b-4bfc-9f76-c13a5058e7be",
     "showTitle": false,
     "title": ""
    }
   },
   "outputs": [],
   "source": [
    "#f = plt.figure(figsize=(19, 15));\n",
    "#plot_series(y_test);"
   ]
  },
  {
   "cell_type": "markdown",
   "metadata": {
    "application/vnd.databricks.v1+cell": {
     "cellMetadata": {},
     "inputWidgets": {},
     "nuid": "76db97b3-b3e7-41c0-bd8c-77318b1fb6bf",
     "showTitle": false,
     "title": ""
    }
   },
   "source": [
    "Prophet models"
   ]
  },
  {
   "cell_type": "code",
   "execution_count": 0,
   "metadata": {
    "application/vnd.databricks.v1+cell": {
     "cellMetadata": {},
     "inputWidgets": {},
     "nuid": "196d1ae8-92fd-4f9e-beec-35235578ac09",
     "showTitle": false,
     "title": ""
    }
   },
   "outputs": [],
   "source": [
    "hdate = holidays_events.date.dt.date\n",
    "a = list(set(train.month_date.dt.date))\n",
    "a.sort()\n",
    "\n",
    "dates = [x.replace(day = 15) for x in a]\n",
    "\n",
    "holiday = pd.DataFrame({\n",
    "  'holiday': 'holiday',\n",
    "  'ds': pd.to_datetime(list(set(holi_list))),\n",
    "  'lower_window': -1,\n",
    "  'upper_window': 1,\n",
    "})\n",
    "pay_day = pd.DataFrame({\n",
    "  'holiday': 'pay_day',\n",
    "  'ds': pd.to_datetime(dates),\n",
    "  'lower_window': -1,\n",
    "  'upper_window': 1,\n",
    "})\n",
    "month_start = pd.DataFrame({\n",
    "  'holiday': 'month_start',\n",
    "  'ds': pd.to_datetime(a),\n",
    "  'lower_window': -1,\n",
    "  'upper_window': 1,\n",
    "})\n",
    "holidays = pd.concat((holiday, pay_day, month_start))\n",
    "holidays = holidays.drop(['holiday'],axis = 1)\n",
    "print(holidays.shape)\n",
    "holidays = holidays.drop_duplicates()\n",
    "print(holidays.shape)\n",
    "\n",
    "for jan_date in ['2016-01-01','2017-01-01']:\n",
    "    holidays.loc[holidays.ds == pd.to_datetime(jan_date),'lower_window'] = -4\n",
    "    holidays.loc[holidays.ds == pd.to_datetime(jan_date),'upper_window'] = 4\n",
    "holidays['holiday'] = 'Holiday'"
   ]
  },
  {
   "cell_type": "code",
   "execution_count": 0,
   "metadata": {
    "application/vnd.databricks.v1+cell": {
     "cellMetadata": {},
     "inputWidgets": {},
     "nuid": "860b3d9f-2bc6-4d44-b0d2-e7ee6111c765",
     "showTitle": false,
     "title": ""
    }
   },
   "outputs": [],
   "source": [
    "### Growth terms ###\n",
    "\n",
    "train_df['cap'] = max(int(max(train_df.y) * 1.1),int(max(test_df.y) * 1.1))\n",
    "train_df['floor'] = 0\n",
    "test_df['cap'] = max(int(max(train_df.y) * 1.1),int(max(test_df.y) * 1.1))\n",
    "test_df['floor'] = 0\n",
    "\n",
    "### Baseline model ###\n",
    "\n",
    "m = Prophet()\n",
    "m.fit(train_df)\n",
    "\n",
    "### Strict model ###\n",
    "\n",
    "m_strict = Prophet(changepoint_prior_scale=0.01,\n",
    "                   weekly_seasonality=True, \n",
    "                   daily_seasonality=False, \n",
    "                   yearly_seasonality=True,\n",
    "                   seasonality_mode = 'multiplicative')\n",
    "m_strict.fit(train_df)\n",
    "\n",
    "### Flexible model ###\n",
    "\n",
    "m_flex = Prophet(changepoint_prior_scale=0.5)\n",
    "m_flex.fit(train_df)\n",
    "\n",
    "### Holiday model ###\n",
    "\n",
    "m_hol = Prophet(holidays=holidays)\n",
    "m_hol.add_regressor('dcoilwtico')\n",
    "#m_hol.add_regressor('Is_month_end')\n",
    "#m_hol.add_regressor('flag_prom')\n",
    "m_hol.add_regressor('onpromotion')\n",
    "m_hol.fit(train_df)\n",
    "\n",
    "### Regressors ###\n",
    "\n",
    "m_reg = Prophet(changepoint_prior_scale=0.01)\n",
    "m_reg.add_regressor('dcoilwtico')\n",
    "m_reg.add_regressor('National')\n",
    "m_reg.add_regressor('Regional')\n",
    "m_reg.add_regressor('Local')\n",
    "m_reg.add_regressor('onpromotion')\n",
    "m_reg.fit(train_df)\n",
    "\n",
    "### Holiday-Regressors-Seasonality ###\n",
    "\n",
    "m_hrs = Prophet(weekly_seasonality=True, \n",
    "                daily_seasonality=False, \n",
    "                yearly_seasonality=True,\n",
    "                seasonality_mode = 'multiplicative',\n",
    "                changepoint_prior_scale = 0.1, \n",
    "                seasonality_prior_scale = 10.0,\n",
    "                holidays=holidays)\n",
    "m_hrs.add_regressor('dcoilwtico')\n",
    "#m_hrs.add_regressor('Is_month_end')\n",
    "#m_hrs.add_regressor('flag_prom')\n",
    "m_hrs.add_regressor('onpromotion')\n",
    "m_hrs.fit(train_df)\n",
    "\n",
    "### Holiday-Regressors-Seasonality ###\n",
    "\n",
    "m_comp = Prophet(growth = 'linear',\n",
    "                seasonality_mode = 'additive',      # seasonality_mode = 'multiplicative',\n",
    "                changepoint_prior_scale = 0.1, \n",
    "                seasonality_prior_scale = 10.0,\n",
    "                holidays_prior_scale = 20.0,\n",
    "                weekly_seasonality = False, \n",
    "                daily_seasonality = False, \n",
    "                yearly_seasonality = False,\n",
    "                holidays=holidays,\n",
    "                ).add_seasonality(\n",
    "                    name = 'monthly',\n",
    "                    period = 30.5,\n",
    "                    fourier_order = 55\n",
    "                #).add_seasonality(\n",
    "                    #name = 'daily',\n",
    "                    #period = 1,\n",
    "                    #fourier_order = 3,\n",
    "                    #prior_scale = 30\n",
    "                ).add_seasonality(\n",
    "                    name = 'weekly',\n",
    "                    period = 7,\n",
    "                    fourier_order = 10,\n",
    "                    prior_scale = 40\n",
    "                ).add_seasonality(\n",
    "                    name = 'yearly',\n",
    "                    period = 365.25,\n",
    "                    fourier_order = 20\n",
    "                ).add_seasonality(\n",
    "                    name = 'quarterly',\n",
    "                    period = 365.25 / 4,\n",
    "                    fourier_order = 5,\n",
    "                    prior_scale = 15\n",
    "                ).add_seasonality(\n",
    "                    name = 'bi-monthly',\n",
    "                    period = 365.25 / 6,\n",
    "                    fourier_order = 5,\n",
    "                    prior_scale = 15\n",
    "                )\n",
    "\n",
    "m_comp.add_regressor('dcoilwtico')\n",
    "#m_hrs.add_regressor('Is_month_end')\n",
    "#m_hrs.add_regressor('flag_prom')\n",
    "m_comp.add_regressor('onpromotion')\n",
    "m_comp.fit(train_df)\n"
   ]
  },
  {
   "cell_type": "code",
   "execution_count": 0,
   "metadata": {
    "application/vnd.databricks.v1+cell": {
     "cellMetadata": {},
     "inputWidgets": {},
     "nuid": "74282326-f391-45bd-91aa-1ae5fa63ef3f",
     "showTitle": false,
     "title": ""
    }
   },
   "outputs": [],
   "source": [
    "import logging\n",
    "logger = logging.getLogger('cmdstanpy')\n",
    "logger.addHandler(logging.NullHandler())\n",
    "logger.propagate = False\n",
    "logger.setLevel(logging.CRITICAL)"
   ]
  },
  {
   "cell_type": "markdown",
   "metadata": {
    "application/vnd.databricks.v1+cell": {
     "cellMetadata": {},
     "inputWidgets": {},
     "nuid": "63e3e4fe-b156-4716-9f43-127211a2a4d0",
     "showTitle": false,
     "title": ""
    }
   },
   "source": [
    "Baseline"
   ]
  },
  {
   "cell_type": "code",
   "execution_count": 0,
   "metadata": {
    "application/vnd.databricks.v1+cell": {
     "cellMetadata": {},
     "inputWidgets": {},
     "nuid": "07a90ea0-18ed-4bed-b1e6-8acc70bca20a",
     "showTitle": false,
     "title": ""
    }
   },
   "outputs": [],
   "source": [
    "df_cv, df_p, forecast, prop_test = cv_exam(m, test_df)"
   ]
  },
  {
   "cell_type": "code",
   "execution_count": 0,
   "metadata": {
    "application/vnd.databricks.v1+cell": {
     "cellMetadata": {},
     "inputWidgets": {},
     "nuid": "58573e48-d40a-42a4-88eb-075d6ec4b715",
     "showTitle": false,
     "title": ""
    }
   },
   "outputs": [],
   "source": [
    "fig = m.plot_components(forecast)"
   ]
  },
  {
   "cell_type": "code",
   "execution_count": 0,
   "metadata": {
    "application/vnd.databricks.v1+cell": {
     "cellMetadata": {},
     "inputWidgets": {},
     "nuid": "2734b648-2847-4eca-936a-7a4afe6f954f",
     "showTitle": false,
     "title": ""
    }
   },
   "outputs": [],
   "source": [
    "mape_ph = mean_absolute_percentage_error(prop_test['y'], prop_test['yhat'], symmetric=True)\n",
    "print(f\"The Smape loss value is {mape_ph:.6f}\")\n",
    "# 0.124289\n",
    "plot_series(prop_test['yhat'], prop_test['y'], labels=[\"y_pred\",\"y_test\"])"
   ]
  },
  {
   "cell_type": "code",
   "execution_count": 0,
   "metadata": {
    "application/vnd.databricks.v1+cell": {
     "cellMetadata": {},
     "inputWidgets": {},
     "nuid": "16fa3ab3-e332-4f3e-84b6-b6e938fb8e36",
     "showTitle": false,
     "title": ""
    }
   },
   "outputs": [],
   "source": [
    "fig = plot_cross_validation_metric(df_cv, metric='smape')"
   ]
  },
  {
   "cell_type": "code",
   "execution_count": 0,
   "metadata": {
    "application/vnd.databricks.v1+cell": {
     "cellMetadata": {},
     "inputWidgets": {},
     "nuid": "16d270e4-4474-4399-9adb-d5a8f6346df9",
     "showTitle": false,
     "title": ""
    }
   },
   "outputs": [],
   "source": [
    "f = plt.figure(figsize=(19, 15))\n",
    "ax = sns.lineplot(x=\"ds\", y=\"residual\", markers=True, data=df_cv)\n",
    "ax.set(xlabel='Dates', ylabel='Residuals')\n",
    "plt.show()"
   ]
  },
  {
   "cell_type": "markdown",
   "metadata": {
    "application/vnd.databricks.v1+cell": {
     "cellMetadata": {},
     "inputWidgets": {},
     "nuid": "98b409cf-8a49-4759-9519-0b872496f34c",
     "showTitle": false,
     "title": ""
    }
   },
   "source": [
    "Strict model"
   ]
  },
  {
   "cell_type": "code",
   "execution_count": 0,
   "metadata": {
    "application/vnd.databricks.v1+cell": {
     "cellMetadata": {},
     "inputWidgets": {},
     "nuid": "ff0b14c1-90c3-4e67-b774-191247582d07",
     "showTitle": false,
     "title": ""
    }
   },
   "outputs": [],
   "source": [
    "########################\n",
    "### Cross validation ###\n",
    "########################\n",
    "\n",
    "df_cv_strict, df_p_strict, forecast_strict, prop_test_strict = cv_exam(m_strict, test_df)\n",
    "fig = plot_cross_validation_metric(df_cv_strict, metric='smape')"
   ]
  },
  {
   "cell_type": "code",
   "execution_count": 0,
   "metadata": {
    "application/vnd.databricks.v1+cell": {
     "cellMetadata": {},
     "inputWidgets": {},
     "nuid": "f22976af-e39c-4684-ae5f-1621541e74b8",
     "showTitle": false,
     "title": ""
    }
   },
   "outputs": [],
   "source": [
    "fig = m_strict.plot(forecast_strict)\n",
    "a = add_changepoints_to_plot(fig.gca(), m_strict, forecast_strict)"
   ]
  },
  {
   "cell_type": "code",
   "execution_count": 0,
   "metadata": {
    "application/vnd.databricks.v1+cell": {
     "cellMetadata": {},
     "inputWidgets": {},
     "nuid": "33edc771-bcc3-4451-acbb-c2fcfd4392b0",
     "showTitle": false,
     "title": ""
    }
   },
   "outputs": [],
   "source": [
    "mape_ph_strict = mean_absolute_percentage_error(prop_test_strict['y'], prop_test_strict['yhat'], symmetric=True)\n",
    "print(f\"The Smape loss value is {mape_ph_strict:.6f}\")\n",
    "# 0.122349\n",
    "plot_series(prop_test_strict['yhat'], y_test, labels=[\"y_pred\",\"y_test\"])"
   ]
  },
  {
   "cell_type": "code",
   "execution_count": 0,
   "metadata": {
    "application/vnd.databricks.v1+cell": {
     "cellMetadata": {},
     "inputWidgets": {},
     "nuid": "24a26540-19ab-4019-8e7c-ea07fe34a421",
     "showTitle": false,
     "title": ""
    }
   },
   "outputs": [],
   "source": [
    "fig = m_strict.plot_components(forecast_strict)"
   ]
  },
  {
   "cell_type": "code",
   "execution_count": 0,
   "metadata": {
    "application/vnd.databricks.v1+cell": {
     "cellMetadata": {},
     "inputWidgets": {},
     "nuid": "eb355d53-c369-454a-a188-eff680be29b7",
     "showTitle": false,
     "title": ""
    }
   },
   "outputs": [],
   "source": [
    "f = plt.figure(figsize=(19, 15))\n",
    "ax = sns.lineplot(x=\"ds\", y=\"residual\", markers=True, data=df_cv_strict)\n",
    "ax.set(xlabel='Dates', ylabel='Residuals')\n",
    "plt.show()"
   ]
  },
  {
   "cell_type": "markdown",
   "metadata": {
    "application/vnd.databricks.v1+cell": {
     "cellMetadata": {},
     "inputWidgets": {},
     "nuid": "080f2384-fc62-4f74-8ffa-356d03f5f43c",
     "showTitle": false,
     "title": ""
    }
   },
   "source": [
    "Flexible model"
   ]
  },
  {
   "cell_type": "code",
   "execution_count": 0,
   "metadata": {
    "application/vnd.databricks.v1+cell": {
     "cellMetadata": {},
     "inputWidgets": {},
     "nuid": "a29e5a81-0d66-4fb8-bf83-bb0339cfd432",
     "showTitle": false,
     "title": ""
    }
   },
   "outputs": [],
   "source": [
    "df_cv_flex, df_p_flex, forecast_flex, prop_test_flex = cv_exam(m_flex, test_df)\n",
    "fig = plot_cross_validation_metric(df_cv_flex, metric='smape')"
   ]
  },
  {
   "cell_type": "code",
   "execution_count": 0,
   "metadata": {
    "application/vnd.databricks.v1+cell": {
     "cellMetadata": {},
     "inputWidgets": {},
     "nuid": "b226d1ba-6f0a-41b1-964a-9d2c91735350",
     "showTitle": false,
     "title": ""
    }
   },
   "outputs": [],
   "source": [
    "fig = m_flex.plot(forecast_flex)\n",
    "a = add_changepoints_to_plot(fig.gca(), m_flex, forecast_flex)"
   ]
  },
  {
   "cell_type": "code",
   "execution_count": 0,
   "metadata": {
    "application/vnd.databricks.v1+cell": {
     "cellMetadata": {},
     "inputWidgets": {},
     "nuid": "1850acdc-2089-4d36-90ee-d87116a55fa6",
     "showTitle": false,
     "title": ""
    }
   },
   "outputs": [],
   "source": [
    "mape_ph_flex = mean_absolute_percentage_error(prop_test_flex['y'], prop_test_flex['yhat'], symmetric=True)\n",
    "print(f\"The Smape loss value is {mape_ph_flex:.6f}\")\n",
    "# 0.123983\n",
    "plot_series(prop_test_flex['yhat'], y_test, labels=[\"y_pred\", \"y_test\"])"
   ]
  },
  {
   "cell_type": "code",
   "execution_count": 0,
   "metadata": {
    "application/vnd.databricks.v1+cell": {
     "cellMetadata": {},
     "inputWidgets": {},
     "nuid": "e24c69cb-36df-45ed-b02b-869718b94094",
     "showTitle": false,
     "title": ""
    }
   },
   "outputs": [],
   "source": [
    "f = plt.figure(figsize=(19, 15))\n",
    "ax = sns.lineplot(x=\"ds\", y=\"residual\", markers=True, data=df_cv_flex)\n",
    "ax.set(xlabel='Dates', ylabel='Residuals')\n",
    "plt.show()"
   ]
  },
  {
   "cell_type": "markdown",
   "metadata": {
    "application/vnd.databricks.v1+cell": {
     "cellMetadata": {},
     "inputWidgets": {},
     "nuid": "369865cc-afb5-48c1-8ccc-e5d2197dd163",
     "showTitle": false,
     "title": ""
    }
   },
   "source": [
    "Prophet with regressors"
   ]
  },
  {
   "cell_type": "code",
   "execution_count": 0,
   "metadata": {
    "application/vnd.databricks.v1+cell": {
     "cellMetadata": {},
     "inputWidgets": {},
     "nuid": "48ba5c1e-5141-44a6-9cc9-ca1996e6b5c1",
     "showTitle": false,
     "title": ""
    }
   },
   "outputs": [],
   "source": [
    "df_cv_reg, df_p_reg, forecast_reg, prop_test_reg = cv_exam(m_reg, test_df)\n",
    "\n",
    "fig = plot_cross_validation_metric(df_cv_flex, metric='smape')"
   ]
  },
  {
   "cell_type": "code",
   "execution_count": 0,
   "metadata": {
    "application/vnd.databricks.v1+cell": {
     "cellMetadata": {},
     "inputWidgets": {},
     "nuid": "db6cfbd0-23da-41e1-8b76-ee61a535dd4f",
     "showTitle": false,
     "title": ""
    }
   },
   "outputs": [],
   "source": [
    "fig = m_reg.plot(forecast_reg)\n",
    "a = add_changepoints_to_plot(fig.gca(), m_reg, forecast_reg)"
   ]
  },
  {
   "cell_type": "code",
   "execution_count": 0,
   "metadata": {
    "application/vnd.databricks.v1+cell": {
     "cellMetadata": {},
     "inputWidgets": {},
     "nuid": "9b495301-0d1f-4b80-ad2b-0cc9c6a4dd18",
     "showTitle": false,
     "title": ""
    }
   },
   "outputs": [],
   "source": [
    "mape_ph_reg = mean_absolute_percentage_error(prop_test_reg['y'], prop_test_reg['yhat'], symmetric=True)\n",
    "print(f\"The Smape loss value is {mape_ph_reg:.6f}\")\n",
    "# 0.124737\n",
    "print(f\"The RMSE value is {mean_squared_error(prop_test_reg['y'], prop_test_reg['yhat'], squared=False)}\")\n",
    "# 1344.3264089856723\n",
    "plot_series(prop_test_reg['yhat'], y_test, labels=[\"y_pred\", \"y_test\"])"
   ]
  },
  {
   "cell_type": "code",
   "execution_count": 0,
   "metadata": {
    "application/vnd.databricks.v1+cell": {
     "cellMetadata": {},
     "inputWidgets": {},
     "nuid": "bae15bd0-536a-43cc-ba6b-47f97646e453",
     "showTitle": false,
     "title": ""
    }
   },
   "outputs": [],
   "source": [
    "f = plt.figure(figsize=(19, 15))\n",
    "ax = sns.lineplot(x=\"ds\", y=\"residual\", markers=True, data=df_cv_reg)\n",
    "ax.set(xlabel='Dates', ylabel='Residuals')\n",
    "plt.show()"
   ]
  },
  {
   "cell_type": "markdown",
   "metadata": {
    "application/vnd.databricks.v1+cell": {
     "cellMetadata": {},
     "inputWidgets": {},
     "nuid": "a50bdb6c-bb05-42ef-940c-a3969ce539a4",
     "showTitle": false,
     "title": ""
    }
   },
   "source": [
    "Prophet with holidays"
   ]
  },
  {
   "cell_type": "code",
   "execution_count": 0,
   "metadata": {
    "application/vnd.databricks.v1+cell": {
     "cellMetadata": {},
     "inputWidgets": {},
     "nuid": "c638be3a-f2fd-49c3-8805-1ba75e8e1eaa",
     "showTitle": false,
     "title": ""
    }
   },
   "outputs": [],
   "source": [
    "df_cv_hol, df_p_hol, forecast_hol, prop_test_hol = cv_exam(m_hol, test_df)\n",
    "\n",
    "fig = plot_cross_validation_metric(df_cv_hol, metric='smape')"
   ]
  },
  {
   "cell_type": "code",
   "execution_count": 0,
   "metadata": {
    "application/vnd.databricks.v1+cell": {
     "cellMetadata": {},
     "inputWidgets": {},
     "nuid": "e2f18427-0351-4eae-bf5f-bedccc40b619",
     "showTitle": false,
     "title": ""
    }
   },
   "outputs": [],
   "source": [
    "fig = m_reg.plot(forecast_hol)\n",
    "a = add_changepoints_to_plot(fig.gca(), m_hol, forecast_hol)"
   ]
  },
  {
   "cell_type": "code",
   "execution_count": 0,
   "metadata": {
    "application/vnd.databricks.v1+cell": {
     "cellMetadata": {},
     "inputWidgets": {},
     "nuid": "22040e11-d040-453c-a578-1ab7a7ee8cb8",
     "showTitle": false,
     "title": ""
    }
   },
   "outputs": [],
   "source": [
    "mape_ph_hol = mean_absolute_percentage_error(prop_test_hol['y'], prop_test_hol['yhat'], symmetric=True)\n",
    "print(f\"The Smape loss value is {mape_ph_hol:.6f}\")\n",
    "# 0.126283\n",
    "print(f\"The RMSE value is {mean_squared_error(prop_test_hol['y'], prop_test_hol['yhat'], squared=False)}\")\n",
    "# 1344.3264089856723\n",
    "plot_series(prop_test_hol['yhat'], y_test, labels=[\"y_pred\", \"y_test\"])"
   ]
  },
  {
   "cell_type": "code",
   "execution_count": 0,
   "metadata": {
    "application/vnd.databricks.v1+cell": {
     "cellMetadata": {},
     "inputWidgets": {},
     "nuid": "0ecd0b9e-a978-4d07-8b68-fa97660c01e5",
     "showTitle": false,
     "title": ""
    }
   },
   "outputs": [],
   "source": [
    "f = plt.figure(figsize=(19, 15))\n",
    "ax = sns.lineplot(x=\"ds\", y=\"residual\", markers=True, data=df_cv_hol)\n",
    "ax.set(xlabel='Dates', ylabel='Residuals')\n",
    "plt.show()"
   ]
  },
  {
   "cell_type": "markdown",
   "metadata": {
    "application/vnd.databricks.v1+cell": {
     "cellMetadata": {},
     "inputWidgets": {},
     "nuid": "92fe3b0f-3c4c-4a66-81bd-81383902fc31",
     "showTitle": false,
     "title": ""
    }
   },
   "source": [
    "Holiday-Regressors-Seasonality"
   ]
  },
  {
   "cell_type": "code",
   "execution_count": 0,
   "metadata": {
    "application/vnd.databricks.v1+cell": {
     "cellMetadata": {},
     "inputWidgets": {},
     "nuid": "25cd04cd-56cc-4af4-8f18-a107062eb643",
     "showTitle": false,
     "title": ""
    }
   },
   "outputs": [],
   "source": [
    "df_cv_hrs, df_p_hrs, forecast_hrs, prop_test_hrs = cv_exam(m_hrs, test_df)\n",
    "\n",
    "fig = plot_cross_validation_metric(df_cv_hrs, metric='smape')"
   ]
  },
  {
   "cell_type": "code",
   "execution_count": 0,
   "metadata": {
    "application/vnd.databricks.v1+cell": {
     "cellMetadata": {},
     "inputWidgets": {},
     "nuid": "b18027a4-d34a-4c9d-a399-4558734bcbed",
     "showTitle": false,
     "title": ""
    }
   },
   "outputs": [],
   "source": [
    "fig = m_reg.plot(forecast_hrs)\n",
    "a = add_changepoints_to_plot(fig.gca(), m_hrs, forecast_hrs)"
   ]
  },
  {
   "cell_type": "code",
   "execution_count": 0,
   "metadata": {
    "application/vnd.databricks.v1+cell": {
     "cellMetadata": {},
     "inputWidgets": {},
     "nuid": "2c5d53bd-1b76-43de-8a76-9aff28fe4f5c",
     "showTitle": false,
     "title": ""
    }
   },
   "outputs": [],
   "source": [
    "mape_ph_hrs = mean_absolute_percentage_error(prop_test_hrs['y'], prop_test_hrs['yhat'], symmetric=True)\n",
    "print(f\"The Smape loss value is {mape_ph_hrs:.6f}\")\n",
    "# 0.126360\n",
    "print(f\"The RMSE value is {mean_squared_error(prop_test_hrs['y'], prop_test_hrs['yhat'], squared=False)}\")\n",
    "# 0.110473\n",
    "plot_series(prop_test_hrs['yhat'], y_test, labels=[\"y_pred\", \"y_test\"])"
   ]
  },
  {
   "cell_type": "code",
   "execution_count": 0,
   "metadata": {
    "application/vnd.databricks.v1+cell": {
     "cellMetadata": {},
     "inputWidgets": {},
     "nuid": "6b7d2215-d148-48a1-9e04-fd864966ad7d",
     "showTitle": false,
     "title": ""
    }
   },
   "outputs": [],
   "source": [
    "f = plt.figure(figsize=(19, 15))\n",
    "ax = sns.lineplot(x=\"ds\", y=\"residual\", markers=True, data=df_cv_hrs)\n",
    "ax.set(xlabel='Dates', ylabel='Residuals')\n",
    "plt.show()"
   ]
  },
  {
   "cell_type": "markdown",
   "metadata": {
    "application/vnd.databricks.v1+cell": {
     "cellMetadata": {},
     "inputWidgets": {},
     "nuid": "f7ad97c2-8433-4f5d-b941-cd5ac284278e",
     "showTitle": false,
     "title": ""
    }
   },
   "source": [
    "Constructed model"
   ]
  },
  {
   "cell_type": "code",
   "execution_count": 0,
   "metadata": {
    "application/vnd.databricks.v1+cell": {
     "cellMetadata": {},
     "inputWidgets": {},
     "nuid": "b00ce2b2-27e2-4647-85c8-f5aa1ea630d2",
     "showTitle": false,
     "title": ""
    }
   },
   "outputs": [],
   "source": [
    "df_cv_comp, df_p_comp, forecast_comp, prop_test_comp = cv_exam(m_comp, test_df)\n",
    "\n",
    "fig = plot_cross_validation_metric(df_cv_comp, metric='smape')"
   ]
  },
  {
   "cell_type": "code",
   "execution_count": 0,
   "metadata": {
    "application/vnd.databricks.v1+cell": {
     "cellMetadata": {},
     "inputWidgets": {},
     "nuid": "cec82708-f5cd-4dee-b3c7-81012e3a84de",
     "showTitle": false,
     "title": ""
    }
   },
   "outputs": [],
   "source": [
    "fig = m_reg.plot(forecast_comp)\n",
    "a = add_changepoints_to_plot(fig.gca(), m_comp, forecast_comp)"
   ]
  },
  {
   "cell_type": "code",
   "execution_count": 0,
   "metadata": {
    "application/vnd.databricks.v1+cell": {
     "cellMetadata": {},
     "inputWidgets": {},
     "nuid": "ee12a161-4717-4ca7-87c1-7532abfc7978",
     "showTitle": false,
     "title": ""
    }
   },
   "outputs": [],
   "source": [
    "mape_ph_comp = mean_absolute_percentage_error(prop_test_comp['y'], prop_test_comp['yhat'], symmetric=True)\n",
    "print(f\"The Smape loss value is {mape_ph_comp:.6f}\")\n",
    "# 0.125903\n",
    "print(f\"The RMSE value is {mean_squared_error(prop_test_comp['y'], prop_test_comp['yhat'], squared=False)}\")\n",
    "# 1210.0171287867122\n",
    "plot_series(prop_test_comp['yhat'], y_test, labels=[\"y_pred\", \"y_test\"])"
   ]
  },
  {
   "cell_type": "code",
   "execution_count": 0,
   "metadata": {
    "application/vnd.databricks.v1+cell": {
     "cellMetadata": {},
     "inputWidgets": {},
     "nuid": "0d6ffbe9-4d9b-49cd-8803-ea9bcfc98b95",
     "showTitle": false,
     "title": ""
    }
   },
   "outputs": [],
   "source": [
    "f = plt.figure(figsize=(19, 15))\n",
    "ax = sns.lineplot(x=\"ds\", y=\"residual\", markers=True, data=df_cv_comp)\n",
    "ax.set(xlabel='Dates', ylabel='Residuals')\n",
    "plt.show()"
   ]
  },
  {
   "cell_type": "markdown",
   "metadata": {
    "application/vnd.databricks.v1+cell": {
     "cellMetadata": {},
     "inputWidgets": {},
     "nuid": "14958663-2424-4afa-991b-83a3943a6ae8",
     "showTitle": false,
     "title": ""
    }
   },
   "source": [
    "Compare models"
   ]
  },
  {
   "cell_type": "code",
   "execution_count": 0,
   "metadata": {
    "application/vnd.databricks.v1+cell": {
     "cellMetadata": {},
     "inputWidgets": {},
     "nuid": "9cb0c380-d34c-4d14-965d-da2da6e21d57",
     "showTitle": false,
     "title": ""
    }
   },
   "outputs": [],
   "source": [
    "df_p['Model'] = 'Baseline'\n",
    "df_p_strict['Model'] = 'Strict'\n",
    "df_p_flex['Model'] = 'Flexible'\n",
    "df_p_reg['Model'] = 'Regressor'\n",
    "df_p_hol['Model'] = 'Holiday'\n",
    "df_p_hrs['Model'] = 'HRS'\n",
    "df_p_comp['Model'] = 'Constructed'\n",
    "df_comp = pd.concat([df_p,df_p_strict], axis = 0).reset_index(drop=True)\n",
    "df_comp = pd.concat([df_comp,df_p_flex], axis = 0).reset_index(drop=True)\n",
    "df_comp = pd.concat([df_comp,df_p_reg], axis = 0).reset_index(drop=True)\n",
    "df_comp = pd.concat([df_comp,df_p_hol], axis = 0).reset_index(drop=True)\n",
    "df_comp = pd.concat([df_comp,df_p_hrs], axis = 0).reset_index(drop=True)\n",
    "df_comp = pd.concat([df_comp,df_p_comp], axis = 0).reset_index(drop=True)\n",
    "df_comp['days'] = df_comp['horizon'].astype('timedelta64[D]')\n",
    "df_comp['days'] = df_comp['days'].astype(int)\n",
    "\n",
    "f = plt.figure(figsize=(19, 15))\n",
    "ax = sns.lineplot(x=\"days\", y=\"smape\", hue=\"Model\", markers=True, data=df_comp)\n",
    "ax.set(xlabel='Date', ylabel='SMAPE')\n",
    "plt.show()"
   ]
  },
  {
   "cell_type": "code",
   "execution_count": 0,
   "metadata": {
    "application/vnd.databricks.v1+cell": {
     "cellMetadata": {},
     "inputWidgets": {},
     "nuid": "c707f0ff-7b5f-4984-a917-6cbaec37c155",
     "showTitle": false,
     "title": ""
    }
   },
   "outputs": [],
   "source": [
    "perf_vals(df_comp,'smape')"
   ]
  },
  {
   "cell_type": "code",
   "execution_count": 0,
   "metadata": {
    "application/vnd.databricks.v1+cell": {
     "cellMetadata": {},
     "inputWidgets": {},
     "nuid": "67a4357b-c71a-4738-916c-e55622d4db64",
     "showTitle": false,
     "title": ""
    }
   },
   "outputs": [],
   "source": [
    "perf_vals(df_comp,'rmse')"
   ]
  },
  {
   "cell_type": "code",
   "execution_count": 0,
   "metadata": {
    "application/vnd.databricks.v1+cell": {
     "cellMetadata": {},
     "inputWidgets": {},
     "nuid": "1fef9e34-38e6-42bf-9d57-22da5882db55",
     "showTitle": false,
     "title": ""
    }
   },
   "outputs": [],
   "source": [
    "### Select best model rmse/smape ###\n",
    "\n",
    "\n"
   ]
  },
  {
   "cell_type": "code",
   "execution_count": 0,
   "metadata": {
    "application/vnd.databricks.v1+cell": {
     "cellMetadata": {},
     "inputWidgets": {},
     "nuid": "a32e80aa-3d4d-4c4c-bde2-c48626acf37d",
     "showTitle": false,
     "title": ""
    }
   },
   "outputs": [],
   "source": [
    "### Check out baseline measures ###\n",
    "\n",
    "baseline_model_p = performance_metrics(df_cv_hol, rolling_window=1)\n",
    "baseline_model_p.head()"
   ]
  },
  {
   "cell_type": "markdown",
   "metadata": {
    "application/vnd.databricks.v1+cell": {
     "cellMetadata": {},
     "inputWidgets": {},
     "nuid": "007098be-8183-4d91-93ec-964f82bd9ae8",
     "showTitle": false,
     "title": ""
    }
   },
   "source": [
    "Hyperparameter tuning on final model"
   ]
  },
  {
   "cell_type": "code",
   "execution_count": 0,
   "metadata": {
    "application/vnd.databricks.v1+cell": {
     "cellMetadata": {},
     "inputWidgets": {},
     "nuid": "b3878b71-29d6-49f4-9a3e-e1e42903f46a",
     "showTitle": false,
     "title": ""
    }
   },
   "outputs": [],
   "source": [
    "holidays_df = pd.DataFrame(holidays[['ds','holiday']])\n",
    "holidays_df.head()"
   ]
  },
  {
   "cell_type": "code",
   "execution_count": 0,
   "metadata": {
    "application/vnd.databricks.v1+cell": {
     "cellMetadata": {},
     "inputWidgets": {},
     "nuid": "78698bd5-ae1e-40a9-94ec-41bbbc2b22f7",
     "showTitle": false,
     "title": ""
    }
   },
   "outputs": [],
   "source": [
    "import itertools\n",
    "\n",
    "### Set up parameter grid ###\n",
    "\n",
    "param_grid = {  \n",
    "    'changepoint_prior_scale': [0.001, 0.05, 0.08, 0.5],\n",
    "    'seasonality_prior_scale': [0.01, 1, 5, 10, 12],\n",
    "    'seasonality_mode': ['multiplicative','additive'],\n",
    "    'weekly_seasonality': [True],\n",
    "    'yearly_seasonality': [True],\n",
    "    'daily_seasonality': [False],\n",
    "    'holidays': [holidays_df]\n",
    "}\n",
    "\n",
    "### Generate all combinations of parameters ###\n",
    "\n",
    "all_params = [dict(zip(param_grid.keys(), v)) for v in itertools.product(*param_grid.values())]\n",
    "\n",
    "### Create a list to store MAPE values for each combination ###\n",
    "mapes = [] \n",
    "\n",
    "### Use cross validation to evaluate all parameters ###\n",
    "\n",
    "for params in all_params:\n",
    "    ### Fit a model using one parameter combination ###\n",
    "    m = Prophet(**params)\n",
    "    m.add_regressor('dcoilwtico')\n",
    "    m.add_regressor('onpromotion')\n",
    "    m.fit(time_data_ph)\n",
    "    \n",
    "    ### Cross-validation ###\n",
    "    df_cv = cross_validation(m, initial='730 days', period='15 days', horizon = '30 days', parallel=\"processes\")\n",
    "    \n",
    "    ### Model performance ###\n",
    "    df_p = performance_metrics(df_cv, rolling_window=1)\n",
    "    \n",
    "    ### Save model performance metrics ###\n",
    "    mapes.append(df_p['smape'].values[0])\n",
    "    \n",
    "### Tuning results\n",
    "tuning_results = pd.DataFrame(all_params)\n",
    "tuning_results['mape'] = mapes\n",
    "# Find the best parameters\n",
    "best_params = all_params[np.argmin(mapes)]\n",
    "print(best_params)"
   ]
  },
  {
   "cell_type": "code",
   "execution_count": 0,
   "metadata": {
    "application/vnd.databricks.v1+cell": {
     "cellMetadata": {},
     "inputWidgets": {},
     "nuid": "782c7524-a9d6-4241-aad9-1402ec4fe947",
     "showTitle": false,
     "title": ""
    }
   },
   "outputs": [],
   "source": [
    "### Fit the model using the best parameters ###\n",
    "\n",
    "auto_model = Prophet(changepoint_prior_scale = best_params['changepoint_prior_scale'], \n",
    "                     seasonality_prior_scale = best_params['seasonality_prior_scale'], \n",
    "                     seasonality_mode = best_params['seasonality_mode'],\n",
    "                     holidays = holidays)\n",
    "auto_model.add_regressor('dcoilwtico')\n",
    "auto_model.add_regressor('onpromotion')\n",
    "\n",
    "### Fit the model on the training dataset ###\n",
    "\n",
    "auto_model.fit(time_data_ph)\n",
    "\n",
    "### Cross validation ###\n",
    "auto_model_cv, auto_model_p, forecast_auto, prop_test_auto = cv_exam(auto_model, test_df)\n",
    "\n",
    "### Model performance metrics ###\n",
    "auto_model_pm = performance_metrics(auto_model_cv, rolling_window=1)\n",
    "auto_model_pm"
   ]
  },
  {
   "cell_type": "code",
   "execution_count": 0,
   "metadata": {
    "application/vnd.databricks.v1+cell": {
     "cellMetadata": {},
     "inputWidgets": {},
     "nuid": "d794c61a-fdcd-4e5c-bf53-ca75a357b87e",
     "showTitle": false,
     "title": ""
    }
   },
   "outputs": [],
   "source": [
    "auto_model_p['Model'] = 'Hyperparameter'\n",
    "\n",
    "df_comp = pd.concat([df_comp,auto_model_p], axis = 0).reset_index(drop=True)\n",
    "df_comp['days'] = df_comp['horizon'].astype('timedelta64[D]')\n",
    "df_comp['days'] = df_comp['days'].astype(int)\n",
    "\n",
    "f = plt.figure(figsize=(19, 15))\n",
    "ax = sns.lineplot(x=\"days\", y=\"smape\", hue=\"Model\", markers=True, data=df_comp)\n",
    "ax.set(xlabel='Date', ylabel='SMAPE')\n",
    "plt.show()"
   ]
  },
  {
   "cell_type": "code",
   "execution_count": 0,
   "metadata": {
    "application/vnd.databricks.v1+cell": {
     "cellMetadata": {},
     "inputWidgets": {},
     "nuid": "949bb5bf-821a-464d-b609-b9f4f3d7dd2f",
     "showTitle": false,
     "title": ""
    }
   },
   "outputs": [],
   "source": [
    "fig = m_reg.plot(forecast_auto)\n",
    "a = add_changepoints_to_plot(fig.gca(), auto_model, forecast_auto)"
   ]
  },
  {
   "cell_type": "code",
   "execution_count": 0,
   "metadata": {
    "application/vnd.databricks.v1+cell": {
     "cellMetadata": {},
     "inputWidgets": {},
     "nuid": "e16aaf90-81de-496b-901f-20070ad4dc71",
     "showTitle": false,
     "title": ""
    }
   },
   "outputs": [],
   "source": [
    "mape_ph_auto = mean_absolute_percentage_error(prop_test_auto['y'], prop_test_auto['yhat'], symmetric=True)\n",
    "print(f\"The Smape loss value is {mape_ph_auto:.6f}\")\n",
    "# 0.111345\n",
    "print(f\"The RMSE value is {mean_squared_error(prop_test_auto['y'], prop_test_auto['yhat'], squared=False)}\")\n",
    "# 1186.9104787999713\n",
    "plot_series(prop_test_auto['yhat'], y_test, labels=[\"y_pred\", \"y_test\"])"
   ]
  },
  {
   "cell_type": "code",
   "execution_count": 0,
   "metadata": {
    "application/vnd.databricks.v1+cell": {
     "cellMetadata": {},
     "inputWidgets": {},
     "nuid": "28fbcf2d-c003-495d-b679-3e7155cd457d",
     "showTitle": false,
     "title": ""
    }
   },
   "outputs": [],
   "source": [
    "f = plt.figure(figsize=(19, 15))\n",
    "ax = sns.lineplot(x=\"ds\", y=\"residual\", markers=True, data=auto_model_cv)\n",
    "ax.set(xlabel='Dates', ylabel='Residuals')\n",
    "plt.show()"
   ]
  },
  {
   "cell_type": "markdown",
   "metadata": {
    "application/vnd.databricks.v1+cell": {
     "cellMetadata": {},
     "inputWidgets": {},
     "nuid": "d341ea8e-6521-49d5-951d-e225c9b68df1",
     "showTitle": false,
     "title": ""
    }
   },
   "source": [
    "Comparison"
   ]
  },
  {
   "cell_type": "code",
   "execution_count": 0,
   "metadata": {
    "application/vnd.databricks.v1+cell": {
     "cellMetadata": {},
     "inputWidgets": {},
     "nuid": "2d8beba7-225f-4210-9680-d2e8359913da",
     "showTitle": false,
     "title": ""
    }
   },
   "outputs": [],
   "source": [
    "auto_model_p['Model'] = 'Hyperparameter'\n",
    "\n",
    "df_comp = pd.concat([df_comp,auto_model_p], axis = 0).reset_index(drop=True)\n",
    "df_comp['days'] = df_comp['horizon'].astype('timedelta64[D]')\n",
    "df_comp['days'] = df_comp['days'].astype(int)\n",
    "\n",
    "f = plt.figure(figsize=(19, 15))\n",
    "ax = sns.lineplot(x=\"days\", y=\"smape\", hue=\"Model\", markers=True, data=df_comp)\n",
    "ax.set(xlabel='Date', ylabel='SMAPE')\n",
    "plt.show()"
   ]
  },
  {
   "cell_type": "code",
   "execution_count": 0,
   "metadata": {
    "application/vnd.databricks.v1+cell": {
     "cellMetadata": {},
     "inputWidgets": {},
     "nuid": "4cb3608d-cc6f-4169-bdc7-798bcb21fbb4",
     "showTitle": false,
     "title": ""
    }
   },
   "outputs": [],
   "source": [
    "perf_vals(df_comp, meas = 'smape')"
   ]
  },
  {
   "cell_type": "code",
   "execution_count": 0,
   "metadata": {
    "application/vnd.databricks.v1+cell": {
     "cellMetadata": {},
     "inputWidgets": {},
     "nuid": "d9fe3c43-fead-4b81-931b-44bebb378555",
     "showTitle": false,
     "title": ""
    }
   },
   "outputs": [],
   "source": [
    "perf_vals(df_comp, meas = 'rmse')"
   ]
  },
  {
   "cell_type": "code",
   "execution_count": 0,
   "metadata": {
    "application/vnd.databricks.v1+cell": {
     "cellMetadata": {},
     "inputWidgets": {},
     "nuid": "946e8a7d-f744-48fb-8c4f-404aead59b7f",
     "showTitle": false,
     "title": ""
    }
   },
   "outputs": [],
   "source": []
  }
 ],
 "metadata": {
  "application/vnd.databricks.v1+notebook": {
   "dashboards": [],
   "language": "python",
   "notebookMetadata": {
    "pythonIndentUnit": 4
   },
   "notebookName": "Prophet_exploration",
   "widgets": {}
  }
 },
 "nbformat": 4,
 "nbformat_minor": 0
}

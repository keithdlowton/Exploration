{
 "cells": [
  {
   "cell_type": "code",
   "execution_count": 1,
   "id": "bac8157f",
   "metadata": {},
   "outputs": [],
   "source": [
    "a = {2, 3, 7, 6, 8, -1, -10, 15}"
   ]
  },
  {
   "cell_type": "code",
   "execution_count": 3,
   "id": "e72c0e09",
   "metadata": {},
   "outputs": [
    {
     "name": "stdout",
     "output_type": "stream",
     "text": [
      "{2, 3, 6, 7, 8, 15, -10, -1}\n",
      "1\n",
      "9\n",
      "9\n",
      "9\n",
      "4\n",
      "9\n",
      "5\n",
      "9\n",
      "9\n",
      "9\n",
      "9\n"
     ]
    }
   ],
   "source": [
    "posNums=set()\n",
    "for i in a:\n",
    "    posNums.add(i)\n",
    "print(posNums)    \n",
    "for i in range(1, len(a)+1): #we only care about positive numbers\n",
    "    if (i not in posNums):\n",
    "        print(i)\n",
    "    print(len(a)+1)"
   ]
  },
  {
   "cell_type": "code",
   "execution_count": 42,
   "id": "9d3c901c",
   "metadata": {},
   "outputs": [
    {
     "name": "stdout",
     "output_type": "stream",
     "text": [
      "15\n"
     ]
    }
   ],
   "source": [
    "print(max(a))"
   ]
  },
  {
   "cell_type": "code",
   "execution_count": 6,
   "id": "113fbc45",
   "metadata": {},
   "outputs": [
    {
     "name": "stdout",
     "output_type": "stream",
     "text": [
      "[1, 2, 3, 4, 5, 6, 7, 8]\n"
     ]
    }
   ],
   "source": [
    "print([x for x in range(1, len(a)+1)])"
   ]
  },
  {
   "cell_type": "code",
   "execution_count": 17,
   "id": "fe3ade67",
   "metadata": {},
   "outputs": [
    {
     "name": "stdout",
     "output_type": "stream",
     "text": [
      "?uoy tuoba woH .nohtyP ni gnimmargorp evol I\n"
     ]
    }
   ],
   "source": [
    "sentence = \"I love programming in Python. How about you?\"\n",
    "lst = []\n",
    "for i in range(1,len(sentence)+1):\n",
    "    lst.append(sentence[-i])\n",
    "print(''.join(lst))"
   ]
  },
  {
   "cell_type": "code",
   "execution_count": 15,
   "id": "d475cfa7",
   "metadata": {},
   "outputs": [
    {
     "data": {
      "text/plain": [
       "'?uoy tuoba woH .nohtyP ni gnimmargorp evol I'"
      ]
     },
     "execution_count": 15,
     "metadata": {},
     "output_type": "execute_result"
    }
   ],
   "source": [
    "sentence[::-1]"
   ]
  },
  {
   "cell_type": "code",
   "execution_count": 20,
   "id": "6356ce0d",
   "metadata": {},
   "outputs": [
    {
     "data": {
      "text/plain": [
       "'?uoy tuoba woH .nohtyP ni gnimmargorp evol I'"
      ]
     },
     "execution_count": 20,
     "metadata": {},
     "output_type": "execute_result"
    }
   ],
   "source": [
    "''.join([sentence[-i] for i in range(1,len(sentence)+1)])"
   ]
  },
  {
   "cell_type": "code",
   "execution_count": null,
   "id": "1f3514f9",
   "metadata": {},
   "outputs": [],
   "source": [
    "F(n) = F(n -1) + F(n-2)"
   ]
  },
  {
   "cell_type": "code",
   "execution_count": 32,
   "id": "2a50af0c",
   "metadata": {},
   "outputs": [],
   "source": [
    "def fval(n):\n",
    "    if n <= 1:\n",
    "        return n\n",
    "    elif n == 2:\n",
    "        return 1\n",
    "    current = 0\n",
    "    previous1 = 1\n",
    "    previous2 = 1\n",
    "    for i in range(3, n+1):\n",
    "        current = previous1 + previous2\n",
    "        previous2 = previous1\n",
    "        previous1 = current\n",
    "    return current"
   ]
  },
  {
   "cell_type": "code",
   "execution_count": 36,
   "id": "e381010e",
   "metadata": {},
   "outputs": [
    {
     "name": "stdout",
     "output_type": "stream",
     "text": [
      "5\n"
     ]
    }
   ],
   "source": [
    "print(fval(5))"
   ]
  },
  {
   "cell_type": "code",
   "execution_count": 38,
   "id": "b571c5fa",
   "metadata": {},
   "outputs": [
    {
     "data": {
      "text/plain": [
       "5"
      ]
     },
     "execution_count": 38,
     "metadata": {},
     "output_type": "execute_result"
    }
   ],
   "source": [
    "def fibonacci(n):\n",
    "    if n <= 1:\n",
    "        return n\n",
    "    return fibonacci(n-1)+fibonacci(n-2)\n",
    "\n",
    "# test case\n",
    "fibonacci(n=5)#2 "
   ]
  },
  {
   "cell_type": "code",
   "execution_count": 39,
   "id": "6c4d3035",
   "metadata": {},
   "outputs": [],
   "source": [
    "word1 = [\"a\", \"cb\"]\n",
    "word2 = [\"ab\", \"c\"]"
   ]
  },
  {
   "cell_type": "code",
   "execution_count": 41,
   "id": "baf35ba6",
   "metadata": {},
   "outputs": [
    {
     "name": "stdout",
     "output_type": "stream",
     "text": [
      "False\n"
     ]
    }
   ],
   "source": [
    "print(''.join(word1) != ''.join(word1))\n",
    "    \n",
    "    \n",
    "    "
   ]
  },
  {
   "cell_type": "code",
   "execution_count": 43,
   "id": "296e14cc",
   "metadata": {},
   "outputs": [
    {
     "data": {
      "text/plain": [
       "False"
      ]
     },
     "execution_count": 43,
     "metadata": {},
     "output_type": "execute_result"
    }
   ],
   "source": [
    "word1 = [\"a\", \"cb\"]\n",
    "word2 = [\"ab\", \"c\"]\n",
    "\n",
    "def word_sim(word1, word2):\n",
    "\n",
    "\treturn(''.join(word1) != ''.join(word1))\n",
    "\n",
    "word_sim(word1, word2)"
   ]
  },
  {
   "cell_type": "code",
   "execution_count": 59,
   "id": "ac2cac3b",
   "metadata": {},
   "outputs": [
    {
     "name": "stdout",
     "output_type": "stream",
     "text": [
      "8\n"
     ]
    }
   ],
   "source": [
    "mat = [[1,1,1,1],\n",
    "       [1,1,1,1],\n",
    "       [1,1,1,1],\n",
    "       [1,1,1,1]]\n",
    "\n",
    "n = len(mat[0])\n",
    "sum = 0\n",
    "\n",
    "for i in range(n):\n",
    "    sum += mat[i][i]\n",
    "\n",
    "    sum += mat[i][n - i - 1]\n",
    "\n",
    "    if n % 2 == True:\n",
    "        print('Odd')\n",
    "        sum -= mat[n // 2][n // 2]\n",
    "print(sum)            "
   ]
  },
  {
   "cell_type": "code",
   "execution_count": 58,
   "id": "1576c34c",
   "metadata": {},
   "outputs": [
    {
     "data": {
      "text/plain": [
       "0"
      ]
     },
     "execution_count": 58,
     "metadata": {},
     "output_type": "execute_result"
    }
   ],
   "source": [
    "prices = [8,4,6,2,3]\n",
    "\n",
    "j > i \n",
    "prices[j] <= prices[i]"
   ]
  },
  {
   "cell_type": "code",
   "execution_count": 62,
   "id": "064c3dbb",
   "metadata": {},
   "outputs": [
    {
     "data": {
      "text/plain": [
       "2"
      ]
     },
     "execution_count": 62,
     "metadata": {},
     "output_type": "execute_result"
    }
   ],
   "source": [
    "5 % 3"
   ]
  },
  {
   "cell_type": "code",
   "execution_count": null,
   "id": "9b8810ea",
   "metadata": {},
   "outputs": [],
   "source": []
  }
 ],
 "metadata": {
  "kernelspec": {
   "display_name": "Python 3 (ipykernel)",
   "language": "python",
   "name": "python3"
  },
  "language_info": {
   "codemirror_mode": {
    "name": "ipython",
    "version": 3
   },
   "file_extension": ".py",
   "mimetype": "text/x-python",
   "name": "python",
   "nbconvert_exporter": "python",
   "pygments_lexer": "ipython3",
   "version": "3.10.11"
  }
 },
 "nbformat": 4,
 "nbformat_minor": 5
}

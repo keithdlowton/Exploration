{
 "cells": [
  {
   "cell_type": "code",
   "execution_count": 3,
   "metadata": {},
   "outputs": [],
   "source": [
    "from pygeodesy import sphericalTrigonometry as st\n",
    "import geojson\n",
    "import folium\n",
    "from folium.features import DivIcon"
   ]
  },
  {
   "cell_type": "code",
   "execution_count": 5,
   "metadata": {},
   "outputs": [
    {
     "ename": "FileNotFoundError",
     "evalue": "[Errno 2] No such file or directory: 'data/open-polygon.geojson'",
     "output_type": "error",
     "traceback": [
      "\u001b[0;31m---------------------------------------------------------------------------\u001b[0m",
      "\u001b[0;31mFileNotFoundError\u001b[0m                         Traceback (most recent call last)",
      "Cell \u001b[0;32mIn[5], line 4\u001b[0m\n\u001b[1;32m      1\u001b[0m polygon_file \u001b[38;5;241m=\u001b[39m \u001b[38;5;124m\"\u001b[39m\u001b[38;5;124mdata/open-polygon.geojson\u001b[39m\u001b[38;5;124m\"\u001b[39m\n\u001b[1;32m      2\u001b[0m points_file \u001b[38;5;241m=\u001b[39m \u001b[38;5;124m\"\u001b[39m\u001b[38;5;124mdata/points.geojson\u001b[39m\u001b[38;5;124m\"\u001b[39m\n\u001b[0;32m----> 4\u001b[0m \u001b[38;5;28;01mwith\u001b[39;00m \u001b[38;5;28;43mopen\u001b[39;49m\u001b[43m(\u001b[49m\u001b[43mpolygon_file\u001b[49m\u001b[43m)\u001b[49m \u001b[38;5;28;01mas\u001b[39;00m f:\n\u001b[1;32m      5\u001b[0m     data_poly \u001b[38;5;241m=\u001b[39m geojson\u001b[38;5;241m.\u001b[39mloads(f\u001b[38;5;241m.\u001b[39mread())\n\u001b[1;32m      6\u001b[0m \u001b[38;5;28;01mwith\u001b[39;00m \u001b[38;5;28mopen\u001b[39m(points_file) \u001b[38;5;28;01mas\u001b[39;00m f:\n",
      "File \u001b[0;32m~/anaconda3/envs/Geospatial/lib/python3.10/site-packages/IPython/core/interactiveshell.py:284\u001b[0m, in \u001b[0;36m_modified_open\u001b[0;34m(file, *args, **kwargs)\u001b[0m\n\u001b[1;32m    277\u001b[0m \u001b[38;5;28;01mif\u001b[39;00m file \u001b[38;5;129;01min\u001b[39;00m {\u001b[38;5;241m0\u001b[39m, \u001b[38;5;241m1\u001b[39m, \u001b[38;5;241m2\u001b[39m}:\n\u001b[1;32m    278\u001b[0m     \u001b[38;5;28;01mraise\u001b[39;00m \u001b[38;5;167;01mValueError\u001b[39;00m(\n\u001b[1;32m    279\u001b[0m         \u001b[38;5;124mf\u001b[39m\u001b[38;5;124m\"\u001b[39m\u001b[38;5;124mIPython won\u001b[39m\u001b[38;5;124m'\u001b[39m\u001b[38;5;124mt let you open fd=\u001b[39m\u001b[38;5;132;01m{\u001b[39;00mfile\u001b[38;5;132;01m}\u001b[39;00m\u001b[38;5;124m by default \u001b[39m\u001b[38;5;124m\"\u001b[39m\n\u001b[1;32m    280\u001b[0m         \u001b[38;5;124m\"\u001b[39m\u001b[38;5;124mas it is likely to crash IPython. If you know what you are doing, \u001b[39m\u001b[38;5;124m\"\u001b[39m\n\u001b[1;32m    281\u001b[0m         \u001b[38;5;124m\"\u001b[39m\u001b[38;5;124myou can use builtins\u001b[39m\u001b[38;5;124m'\u001b[39m\u001b[38;5;124m open.\u001b[39m\u001b[38;5;124m\"\u001b[39m\n\u001b[1;32m    282\u001b[0m     )\n\u001b[0;32m--> 284\u001b[0m \u001b[38;5;28;01mreturn\u001b[39;00m \u001b[43mio_open\u001b[49m\u001b[43m(\u001b[49m\u001b[43mfile\u001b[49m\u001b[43m,\u001b[49m\u001b[43m \u001b[49m\u001b[38;5;241;43m*\u001b[39;49m\u001b[43margs\u001b[49m\u001b[43m,\u001b[49m\u001b[43m \u001b[49m\u001b[38;5;241;43m*\u001b[39;49m\u001b[38;5;241;43m*\u001b[39;49m\u001b[43mkwargs\u001b[49m\u001b[43m)\u001b[49m\n",
      "\u001b[0;31mFileNotFoundError\u001b[0m: [Errno 2] No such file or directory: 'data/open-polygon.geojson'"
     ]
    }
   ],
   "source": [
    "polygon_file = \"data/open-polygon.geojson\"\n",
    "points_file = \"data/points.geojson\"\n",
    "\n",
    "with open(polygon_file) as f:\n",
    "    data_poly = geojson.loads(f.read())\n",
    "with open(points_file) as f:\n",
    "    data_pnts = geojson.loads(f.read())\n"
   ]
  },
  {
   "cell_type": "code",
   "execution_count": null,
   "metadata": {},
   "outputs": [],
   "source": [
    "def transform_data(data):\n",
    "    # swap order of coords from [Long,Lat] to [Lat,Long]\n",
    "    pnts = [[p[1],p[0]] for p in\n",
    "           data.features[0].geometry.coordinates]\n",
    "    # prepare data type appropriate for 'nearestOn3' method\n",
    "    pnts_LL = [st.LatLon(p[0],p[1]) for p in pnts]\n",
    "    return pnts, pnts_LL\n",
    " ​\n",
    "pnts, pnts_LL = transform_data(data_pnts)\n",
    "poly, poly_LL = transform_data(data_poly)"
   ]
  },
  {
   "cell_type": "code",
   "execution_count": null,
   "metadata": {},
   "outputs": [],
   "source": [
    "nearest_pnts = [st.nearestOn3(pnt_LL, poly_LL) for pnt_LL in pnts_LL]\n"
   ]
  },
  {
   "cell_type": "code",
   "execution_count": null,
   "metadata": {},
   "outputs": [],
   "source": [
    "n_pnts = [[np[0].lat,np[0].lon] for np in nearest_pnts]"
   ]
  },
  {
   "cell_type": "code",
   "execution_count": null,
   "metadata": {},
   "outputs": [],
   "source": [
    "poi = data_pnts.features[0].geometry.coordinates[4]\n",
    "poi = [poi[1], poi[0]] # in folium.Map the order is - Lat, Long\n",
    " ​\n",
    "## Display polygon on the map\n",
    "m = folium.Map(location=poi, zoom_start=9, tiles='openstreetmap')\n",
    "folium.GeoJson(data_poly).add_to(m) # here the order is - Long, Lat\n",
    " ​\n",
    "## Display reference points 'pnts' and nearest points 'n_pnts'\n",
    "def show_pnts_on_map(points,map,color='red'):\n",
    "    fstr = '<div style=\"font-size: 16pt; color: ' + color + '\">{} </div>'\n",
    "    for i,_ in enumerate(points):\n",
    "        folium.CircleMarker(location=points[i], color=color,\n",
    "            radius=5, fill=color).add_to(map)\n",
    "        folium.map.Marker(location=points[i],\n",
    "            icon=DivIcon(icon_size=(150, 36),icon_anchor=(0, 0),\n",
    "            html=fstr.format(str(i+1)))).add_to(map)\n",
    "     return map\n",
    " ​\n",
    " m = show_pnts_on_map(pnts,m,'red')\n",
    " m = show_pnts_on_map(n_pnts,m,'blue')\n",
    " ​\n",
    " ## Display line segments connecting reference points and corresponding nearest points\n",
    " for i,_ in enumerate(pnts):\n",
    "     folium.PolyLine(locations=[pnts[i],n_pnts[i]], color='red').add_to(m)\n",
    "     print(pnts[i][0], pnts[i][1], n_pnts[i][0], n_pnts[i][1],\n",
    "           nearest_pnts[i][1],nearest_pnts[i][2])\n",
    " ​\n",
    " ## Store the map on the disk\n",
    " m.save('map_my_1.html')"
   ]
  }
 ],
 "metadata": {
  "kernelspec": {
   "display_name": "Geospatial",
   "language": "python",
   "name": "python3"
  },
  "language_info": {
   "codemirror_mode": {
    "name": "ipython",
    "version": 3
   },
   "file_extension": ".py",
   "mimetype": "text/x-python",
   "name": "python",
   "nbconvert_exporter": "python",
   "pygments_lexer": "ipython3",
   "version": "3.10.11"
  }
 },
 "nbformat": 4,
 "nbformat_minor": 2
}

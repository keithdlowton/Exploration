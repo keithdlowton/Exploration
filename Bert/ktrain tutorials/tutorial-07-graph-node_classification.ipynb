{
 "cells": [
  {
   "cell_type": "code",
   "execution_count": 1,
   "metadata": {},
   "outputs": [],
   "source": [
    "%reload_ext autoreload\n",
    "%autoreload 2\n",
    "%matplotlib inline\n",
    "import os\n",
    "os.environ[\"CUDA_DEVICE_ORDER\"]=\"PCI_BUS_ID\";\n",
    "os.environ[\"CUDA_VISIBLE_DEVICES\"]=\"0\" "
   ]
  },
  {
   "cell_type": "code",
   "execution_count": 2,
   "metadata": {},
   "outputs": [
    {
     "name": "stderr",
     "output_type": "stream",
     "text": [
      "Using TensorFlow backend.\n"
     ]
    },
    {
     "name": "stdout",
     "output_type": "stream",
     "text": [
      "using Keras version: 2.2.4\n"
     ]
    }
   ],
   "source": [
    "import ktrain\n",
    "from ktrain import graph as gr"
   ]
  },
  {
   "cell_type": "markdown",
   "metadata": {},
   "source": [
    "# Node Classification in Graphs\n",
    "\n",
    "\n",
    "In this notebook, we will use *ktrain* to perform node classificaiton on the PubMed Diabetes citation graph.  In the PubMed graph, each node represents a paper pertaining to one of three topics:  *Diabetes Mellitus - Experimental*, *Diabetes Mellitus - Type 1*, and *Diabetes Mellitus - Type 2*.  Links represent citations between papers.  The attributes or features assigned to each node are in the form of a vector of words in each paper and their corresponding TF-IDF scores.  The dataset is available [here](https://linqs-data.soe.ucsc.edu/public/Pubmed-Diabetes.tgz).\n",
    "\n",
    "*ktrain* expects two files for node classification problems.  The first is comma or tab delimited file listing the edges in the graph, where each row contains the node IDs forming the edge.  The second is a comma or tab delimted file listing the features or attributes associated with each node in the graph.  The first column in this file is the User ID and the last column should be string representing the target or label of the node.  All other nodes should be numerical features assumed to be standardized appropriately and non-null.  \n",
    "\n",
    "We must prepare the raw data to conform to the above before we begin."
   ]
  },
  {
   "cell_type": "markdown",
   "metadata": {},
   "source": [
    "### Preparing the Data\n",
    "The code below will create two files that can be processed directly by *ktrain*:\n",
    "- `/tmp/pubmed-nodes.tab`\n",
    "- `/tmp/pubmed-edges.tab`"
   ]
  },
  {
   "cell_type": "code",
   "execution_count": 3,
   "metadata": {},
   "outputs": [],
   "source": [
    "# set this to the location of the downloaded Pubmed-Diabetes data\n",
    "DATADIR = 'data/pubmed/Pubmed-Diabetes/data'"
   ]
  },
  {
   "cell_type": "code",
   "execution_count": 4,
   "metadata": {},
   "outputs": [],
   "source": [
    "import os.path\n",
    "import pandas as pd\n",
    "import itertools\n",
    "\n",
    "# process links\n",
    "edgelist = pd.read_csv(os.path.join(DATADIR, 'Pubmed-Diabetes.DIRECTED.cites.tab'), \n",
    "                      skiprows=2, header=None,delimiter='\\t')\n",
    "edgelist.drop(columns=[0,2], inplace=True)\n",
    "edgelist.columns = ['source', 'target']\n",
    "edgelist['source'] = edgelist['source'].map(lambda x: x.lstrip('paper:')) \n",
    "edgelist['target'] = edgelist['target'].map(lambda x: x.lstrip('paper:'))\n",
    "edgelist.head()\n",
    "edgelist.to_csv('/tmp/pubmed-edges.tab', sep='\\t', header=None, index=False )\n",
    "\n",
    "# process nodes and their attributes\n",
    "nodes_as_dict = []\n",
    "with open(os.path.join(os.path.expanduser(DATADIR), \"Pubmed-Diabetes.NODE.paper.tab\")) as fp:\n",
    "    for line in itertools.islice(fp, 2, None):\n",
    "        line_res = line.split(\"\\t\")\n",
    "        pid = line_res[0]\n",
    "        feat_name = ['pid'] + [l.split(\"=\")[0] for l in line_res[1:]][:-1] # delete summary\n",
    "        feat_value = [l.split(\"=\")[1] for l in line_res[1:]][:-1] # delete summary\n",
    "        feat_value = [pid] + [ float(x) for x in feat_value ] # change to numeric from str\n",
    "        row = dict(zip(feat_name, feat_value))\n",
    "        nodes_as_dict.append(row)\n",
    "colnames = set()\n",
    "for row in nodes_as_dict:\n",
    "    colnames.update(list(row.keys()))\n",
    "colnames = list(colnames)\n",
    "colnames.sort()\n",
    "colnames.remove('label')\n",
    "colnames.append('label')\n",
    "target_dict = {1:'Diabetes_Mellitus-Experimental', 2: 'Diabetes_Mellitus-Type_1', 3:'Diabetes_Mellitus-Type_2', }\n",
    "with open('/tmp/pubmed-nodes.tab', 'w') as fp:\n",
    "    #fp.write(\"\\t\".join(colnames)+'\\n')\n",
    "    for row in nodes_as_dict:\n",
    "        feats = []\n",
    "        for col in colnames:\n",
    "            feats.append(row.get(col, 0.0))\n",
    "        feats = [str(feat) for feat in feats]\n",
    "        feats[-1] = round(float(feats[-1]))\n",
    "        feats[-1] = target_dict[feats[-1]]\n",
    "        fp.write(\"\\t\".join(feats) + '\\n')"
   ]
  },
  {
   "cell_type": "markdown",
   "metadata": {},
   "source": [
    "### STEP 1: Load and Preprocess Data\n",
    "\n",
    "We will hold out 20% of the nodes as test nodes by setting `holdout_pct=0.2`.  Since we specified `holdout_for_inductive=True`, these heldout nodes are removed from the graph in order to later simulate making predicitions on new nodes added to the graph later (or *inductive inference*). If `holdout_for_inductive=False`, the features (not labels) of these nodes are accessible to the model during training.  Of the remaining nodes, 5% will be used for training and the remaining nodes will be used for validation (or *transductive inference*).  More information on transductive and inductive inference and the return values `df_holdout` and `df_complete` are provided below.\n",
    "\n",
    "Note that if there are any unlabeled nodes in the graph, these will be automatically used as heldout nodes for which predictions can be made once the model is trained.  See the [twitter example notebook](https://github.com/amaiya/ktrain/blob/master/examples/graphs/hateful_twitter_users-GraphSAGE.ipynb) for an example of this."
   ]
  },
  {
   "cell_type": "code",
   "execution_count": 5,
   "metadata": {},
   "outputs": [
    {
     "name": "stdout",
     "output_type": "stream",
     "text": [
      "Largest subgraph statistics: 19717 nodes, 44327 edges\n",
      "Size of training graph: 15774 nodes\n",
      "Training nodes: 788\n",
      "Validation nodes: 14986\n",
      "Nodes treated as unlabeled for testing/inference: 3943\n",
      "Size of graph with added holdout nodes: 19717\n",
      "Holdout node features are not visible during training (inductive_inference)\n",
      "\n"
     ]
    }
   ],
   "source": [
    "(train_data, val_data, preproc, \n",
    " df_holdout, G_complete)        = gr.graph_nodes_from_csv('/tmp/pubmed-nodes.tab',\n",
    "                                           '/tmp/pubmed-edges.tab',\n",
    "                                           sample_size=10, holdout_pct=0.2, holdout_for_inductive=True,\n",
    "                                           train_pct=0.05, sep='\\t')"
   ]
  },
  {
   "cell_type": "markdown",
   "metadata": {},
   "source": [
    "The `preproc` object includes a reference to the training graph and a dataframe showing the features and target for each node in the graph (both training and validation nodes)."
   ]
  },
  {
   "cell_type": "code",
   "execution_count": 6,
   "metadata": {},
   "outputs": [
    {
     "data": {
      "text/plain": [
       "Diabetes_Mellitus-Type_1          6255\n",
       "Diabetes_Mellitus-Type_2          6242\n",
       "Diabetes_Mellitus-Experimental    3277\n",
       "Name: target, dtype: int64"
      ]
     },
     "execution_count": 6,
     "metadata": {},
     "output_type": "execute_result"
    }
   ],
   "source": [
    "preproc.df.target.value_counts()"
   ]
  },
  {
   "cell_type": "markdown",
   "metadata": {},
   "source": [
    "### STEP 2: Build a Model and Wrap in Learner Object"
   ]
  },
  {
   "cell_type": "code",
   "execution_count": 7,
   "metadata": {},
   "outputs": [
    {
     "name": "stdout",
     "output_type": "stream",
     "text": [
      "graphsage: GraphSAGE:  https://arxiv.org/pdf/1706.02216.pdf\n"
     ]
    }
   ],
   "source": [
    "gr.print_node_classifiers()"
   ]
  },
  {
   "cell_type": "code",
   "execution_count": 8,
   "metadata": {},
   "outputs": [
    {
     "name": "stdout",
     "output_type": "stream",
     "text": [
      "Is Multi-Label? False\n",
      "done\n"
     ]
    }
   ],
   "source": [
    "learner = ktrain.get_learner(model=gr.graph_node_classifier('graphsage', train_data), \n",
    "                             train_data=train_data, \n",
    "                             val_data=val_data, \n",
    "                             batch_size=64)"
   ]
  },
  {
   "cell_type": "markdown",
   "metadata": {},
   "source": [
    "### STEP 3:  Estimate LR \n",
    "Given the small number of batches per epoch, a larger number of epochs is required to estimate the learning rate. We will cap it at 100 here."
   ]
  },
  {
   "cell_type": "code",
   "execution_count": 9,
   "metadata": {},
   "outputs": [
    {
     "name": "stdout",
     "output_type": "stream",
     "text": [
      "simulating training for different learning rates... this may take a few moments...\n",
      "Epoch 1/100\n",
      "12/12 [==============================] - 1s 85ms/step - loss: 1.1021 - acc: 0.3638\n",
      "Epoch 2/100\n",
      "12/12 [==============================] - 0s 30ms/step - loss: 1.0971 - acc: 0.3743\n",
      "Epoch 3/100\n",
      "12/12 [==============================] - 0s 34ms/step - loss: 1.1027 - acc: 0.3324\n",
      "Epoch 4/100\n",
      "12/12 [==============================] - 0s 30ms/step - loss: 1.1024 - acc: 0.3402\n",
      "Epoch 5/100\n",
      "12/12 [==============================] - 0s 33ms/step - loss: 1.1034 - acc: 0.3294\n",
      "Epoch 6/100\n",
      "12/12 [==============================] - 0s 32ms/step - loss: 1.0960 - acc: 0.3763\n",
      "Epoch 7/100\n",
      "12/12 [==============================] - 0s 33ms/step - loss: 1.0965 - acc: 0.3534\n",
      "Epoch 8/100\n",
      "12/12 [==============================] - 0s 33ms/step - loss: 1.1091 - acc: 0.3430\n",
      "Epoch 9/100\n",
      "12/12 [==============================] - 0s 33ms/step - loss: 1.1116 - acc: 0.3320\n",
      "Epoch 10/100\n",
      "12/12 [==============================] - 0s 31ms/step - loss: 1.0876 - acc: 0.3856\n",
      "Epoch 11/100\n",
      "12/12 [==============================] - 0s 31ms/step - loss: 1.0977 - acc: 0.3698\n",
      "Epoch 12/100\n",
      "12/12 [==============================] - 0s 30ms/step - loss: 1.1057 - acc: 0.3329\n",
      "Epoch 13/100\n",
      "12/12 [==============================] - 0s 30ms/step - loss: 1.1049 - acc: 0.3359\n",
      "Epoch 14/100\n",
      "12/12 [==============================] - 0s 32ms/step - loss: 1.1036 - acc: 0.3468\n",
      "Epoch 15/100\n",
      "12/12 [==============================] - 0s 34ms/step - loss: 1.0954 - acc: 0.3613\n",
      "Epoch 16/100\n",
      "12/12 [==============================] - 0s 32ms/step - loss: 1.1098 - acc: 0.3744\n",
      "Epoch 17/100\n",
      "12/12 [==============================] - 0s 33ms/step - loss: 1.0955 - acc: 0.3547\n",
      "Epoch 18/100\n",
      "12/12 [==============================] - 0s 33ms/step - loss: 1.1050 - acc: 0.3443\n",
      "Epoch 19/100\n",
      "12/12 [==============================] - 0s 30ms/step - loss: 1.0893 - acc: 0.3744\n",
      "Epoch 20/100\n",
      "12/12 [==============================] - 0s 40ms/step - loss: 1.0921 - acc: 0.3665\n",
      "Epoch 21/100\n",
      "12/12 [==============================] - 0s 34ms/step - loss: 1.0996 - acc: 0.3600\n",
      "Epoch 22/100\n",
      "12/12 [==============================] - 0s 29ms/step - loss: 1.1018 - acc: 0.3390\n",
      "Epoch 23/100\n",
      "12/12 [==============================] - 0s 33ms/step - loss: 1.0971 - acc: 0.3555\n",
      "Epoch 24/100\n",
      "12/12 [==============================] - 0s 32ms/step - loss: 1.0936 - acc: 0.3613\n",
      "Epoch 25/100\n",
      "12/12 [==============================] - 0s 32ms/step - loss: 1.0910 - acc: 0.3795\n",
      "Epoch 26/100\n",
      "12/12 [==============================] - 0s 26ms/step - loss: 1.0853 - acc: 0.3953\n",
      "Epoch 27/100\n",
      "12/12 [==============================] - 0s 33ms/step - loss: 1.0881 - acc: 0.3613\n",
      "Epoch 28/100\n",
      "12/12 [==============================] - 0s 30ms/step - loss: 1.0881 - acc: 0.3756\n",
      "Epoch 29/100\n",
      "12/12 [==============================] - 0s 38ms/step - loss: 1.0866 - acc: 0.3808\n",
      "Epoch 30/100\n",
      "12/12 [==============================] - 0s 30ms/step - loss: 1.0757 - acc: 0.4281\n",
      "Epoch 31/100\n",
      "12/12 [==============================] - 0s 31ms/step - loss: 1.0709 - acc: 0.4267\n",
      "Epoch 32/100\n",
      "12/12 [==============================] - 0s 31ms/step - loss: 1.0838 - acc: 0.3919\n",
      "Epoch 33/100\n",
      "12/12 [==============================] - 0s 32ms/step - loss: 1.0801 - acc: 0.3847\n",
      "Epoch 34/100\n",
      "12/12 [==============================] - 0s 32ms/step - loss: 1.0669 - acc: 0.4266\n",
      "Epoch 35/100\n",
      "12/12 [==============================] - 0s 32ms/step - loss: 1.0600 - acc: 0.4369\n",
      "Epoch 36/100\n",
      "12/12 [==============================] - 0s 34ms/step - loss: 1.0477 - acc: 0.4766\n",
      "Epoch 37/100\n",
      "12/12 [==============================] - 0s 41ms/step - loss: 1.0432 - acc: 0.4712\n",
      "Epoch 38/100\n",
      "12/12 [==============================] - 0s 33ms/step - loss: 1.0141 - acc: 0.5523\n",
      "Epoch 39/100\n",
      "12/12 [==============================] - 0s 28ms/step - loss: 1.0296 - acc: 0.4856\n",
      "Epoch 40/100\n",
      "12/12 [==============================] - 0s 31ms/step - loss: 1.0022 - acc: 0.5169\n",
      "Epoch 41/100\n",
      "12/12 [==============================] - 0s 37ms/step - loss: 0.9882 - acc: 0.5443\n",
      "Epoch 42/100\n",
      "12/12 [==============================] - 0s 32ms/step - loss: 0.9765 - acc: 0.5565\n",
      "Epoch 43/100\n",
      "12/12 [==============================] - 0s 36ms/step - loss: 0.9715 - acc: 0.5536\n",
      "Epoch 44/100\n",
      "12/12 [==============================] - 0s 39ms/step - loss: 0.9235 - acc: 0.6191\n",
      "Epoch 45/100\n",
      "12/12 [==============================] - 0s 32ms/step - loss: 0.9103 - acc: 0.6361\n",
      "Epoch 46/100\n",
      "12/12 [==============================] - 0s 40ms/step - loss: 0.8570 - acc: 0.6875\n",
      "Epoch 47/100\n",
      "12/12 [==============================] - 0s 33ms/step - loss: 0.8375 - acc: 0.7134\n",
      "Epoch 48/100\n",
      "12/12 [==============================] - 0s 30ms/step - loss: 0.7789 - acc: 0.7579\n",
      "Epoch 49/100\n",
      "12/12 [==============================] - 0s 33ms/step - loss: 0.7346 - acc: 0.7943\n",
      "Epoch 50/100\n",
      "12/12 [==============================] - 0s 34ms/step - loss: 0.6784 - acc: 0.8115\n",
      "Epoch 51/100\n",
      "12/12 [==============================] - 0s 41ms/step - loss: 0.6411 - acc: 0.8181\n",
      "Epoch 52/100\n",
      "12/12 [==============================] - 0s 30ms/step - loss: 0.5853 - acc: 0.8338\n",
      "Epoch 53/100\n",
      "12/12 [==============================] - 0s 29ms/step - loss: 0.5497 - acc: 0.8469\n",
      "Epoch 54/100\n",
      "12/12 [==============================] - 0s 33ms/step - loss: 0.4958 - acc: 0.8587\n",
      "Epoch 55/100\n",
      "12/12 [==============================] - 0s 34ms/step - loss: 0.4363 - acc: 0.8861\n",
      "Epoch 56/100\n",
      "12/12 [==============================] - 0s 36ms/step - loss: 0.3972 - acc: 0.8927\n",
      "Epoch 57/100\n",
      "12/12 [==============================] - 0s 29ms/step - loss: 0.3773 - acc: 0.8737\n",
      "Epoch 58/100\n",
      "12/12 [==============================] - 0s 34ms/step - loss: 0.3735 - acc: 0.8652\n",
      "Epoch 59/100\n",
      "12/12 [==============================] - 0s 39ms/step - loss: 0.3351 - acc: 0.8974\n",
      "Epoch 60/100\n",
      "12/12 [==============================] - 0s 32ms/step - loss: 0.3001 - acc: 0.9097\n",
      "Epoch 61/100\n",
      "12/12 [==============================] - 0s 35ms/step - loss: 0.2728 - acc: 0.9215\n",
      "Epoch 62/100\n",
      "12/12 [==============================] - 0s 31ms/step - loss: 0.2761 - acc: 0.9128: 0s - loss: 0.2342 - acc: 0.\n",
      "Epoch 63/100\n",
      "12/12 [==============================] - 0s 39ms/step - loss: 0.2826 - acc: 0.9071\n",
      "Epoch 64/100\n",
      "12/12 [==============================] - 0s 32ms/step - loss: 0.1876 - acc: 0.9372\n",
      "Epoch 65/100\n",
      "12/12 [==============================] - 0s 28ms/step - loss: 0.2418 - acc: 0.9163\n",
      "Epoch 66/100\n",
      "12/12 [==============================] - 0s 32ms/step - loss: 0.2193 - acc: 0.9254\n",
      "Epoch 67/100\n",
      "12/12 [==============================] - 0s 34ms/step - loss: 0.2385 - acc: 0.9175\n",
      "Epoch 68/100\n",
      "12/12 [==============================] - 0s 30ms/step - loss: 0.2542 - acc: 0.9045\n",
      "Epoch 69/100\n",
      "12/12 [==============================] - 0s 35ms/step - loss: 0.2287 - acc: 0.9071\n",
      "Epoch 70/100\n",
      "12/12 [==============================] - 0s 32ms/step - loss: 0.2167 - acc: 0.9245\n",
      "Epoch 71/100\n",
      "12/12 [==============================] - 0s 33ms/step - loss: 0.1879 - acc: 0.9342\n",
      "Epoch 72/100\n",
      "12/12 [==============================] - 0s 32ms/step - loss: 0.2314 - acc: 0.9128\n",
      "Epoch 73/100\n",
      "12/12 [==============================] - 0s 40ms/step - loss: 0.2224 - acc: 0.9319\n",
      "Epoch 74/100\n",
      "12/12 [==============================] - 0s 33ms/step - loss: 0.2177 - acc: 0.9267\n",
      "Epoch 75/100\n",
      "12/12 [==============================] - 0s 32ms/step - loss: 0.2174 - acc: 0.9241\n",
      "Epoch 76/100\n",
      "12/12 [==============================] - 0s 32ms/step - loss: 0.2491 - acc: 0.9149\n",
      "Epoch 77/100\n",
      "12/12 [==============================] - 0s 32ms/step - loss: 0.2436 - acc: 0.9136\n",
      "Epoch 78/100\n",
      "12/12 [==============================] - 0s 28ms/step - loss: 0.1898 - acc: 0.9293\n",
      "Epoch 79/100\n",
      "12/12 [==============================] - 0s 31ms/step - loss: 0.1675 - acc: 0.9307\n",
      "Epoch 80/100\n",
      "12/12 [==============================] - 0s 33ms/step - loss: 0.1949 - acc: 0.9294\n",
      "Epoch 81/100\n",
      "12/12 [==============================] - 0s 32ms/step - loss: 0.1895 - acc: 0.9385\n",
      "Epoch 82/100\n",
      "12/12 [==============================] - 0s 33ms/step - loss: 0.2656 - acc: 0.9084\n",
      "Epoch 83/100\n",
      "12/12 [==============================] - 0s 33ms/step - loss: 0.2249 - acc: 0.9232\n",
      "Epoch 84/100\n",
      "12/12 [==============================] - 0s 34ms/step - loss: 0.2740 - acc: 0.8953\n",
      "Epoch 85/100\n",
      "12/12 [==============================] - 0s 36ms/step - loss: 0.2511 - acc: 0.9019\n",
      "Epoch 86/100\n",
      "12/12 [==============================] - 0s 32ms/step - loss: 0.2529 - acc: 0.9084\n",
      "Epoch 87/100\n",
      "12/12 [==============================] - 0s 33ms/step - loss: 0.2575 - acc: 0.8992\n",
      "Epoch 88/100\n",
      "12/12 [==============================] - 0s 32ms/step - loss: 0.2617 - acc: 0.9097\n",
      "Epoch 89/100\n",
      "12/12 [==============================] - 0s 32ms/step - loss: 0.3072 - acc: 0.9097\n",
      "Epoch 90/100\n",
      "12/12 [==============================] - 0s 32ms/step - loss: 0.4338 - acc: 0.8692\n",
      "Epoch 91/100\n",
      "12/12 [==============================] - 0s 27ms/step - loss: 0.5869 - acc: 0.8324\n",
      "Epoch 92/100\n",
      "12/12 [==============================] - 0s 35ms/step - loss: 0.8302 - acc: 0.8206\n",
      "Epoch 93/100\n",
      "12/12 [==============================] - 0s 34ms/step - loss: 1.0682 - acc: 0.7723\n",
      "Epoch 94/100\n",
      "12/12 [==============================] - 0s 30ms/step - loss: 0.8207 - acc: 0.8390\n",
      "Epoch 95/100\n",
      "12/12 [==============================] - 0s 35ms/step - loss: 0.6389 - acc: 0.8260\n",
      "Epoch 96/100\n",
      "12/12 [==============================] - 0s 32ms/step - loss: 0.8993 - acc: 0.8521\n",
      "Epoch 97/100\n",
      " 8/12 [===================>..........] - ETA: 0s - loss: 1.2450 - acc: 0.8379\n",
      "\n",
      "done.\n",
      "Please invoke the Learner.lr_plot() method to visually inspect the loss plot to help identify the maximal learning rate associated with falling loss.\n"
     ]
    }
   ],
   "source": [
    "learner.lr_find(max_epochs=100)"
   ]
  },
  {
   "cell_type": "code",
   "execution_count": 10,
   "metadata": {},
   "outputs": [
    {
     "data": {
      "image/png": "[encoded data removed]",
      "text/plain": [
       "<Figure size 432x288 with 1 Axes>"
      ]
     },
     "metadata": {
      "needs_background": "light"
     },
     "output_type": "display_data"
    }
   ],
   "source": [
    "learner.lr_plot()"
   ]
  },
  {
   "cell_type": "markdown",
   "metadata": {},
   "source": [
    "### STEP 4: Train the Model\n",
    "We will train the model using `autofit`, which uses a triangular learning rate policy.  The training will automatically stop when the validation loss no longer improves."
   ]
  },
  {
   "cell_type": "code",
   "execution_count": 9,
   "metadata": {},
   "outputs": [
    {
     "name": "stdout",
     "output_type": "stream",
     "text": [
      "early_stopping automatically enabled at patience=5\n",
      "reduce_on_plateau automatically enabled at patience=2\n",
      "\n",
      "\n",
      "begin training using triangular learning rate policy with max lr of 0.01...\n",
      "Epoch 1/1024\n",
      "13/13 [==============================] - 6s 484ms/step - loss: 1.0057 - acc: 0.4807 - val_loss: 0.8324 - val_acc: 0.6990\n",
      "Epoch 2/1024\n",
      "13/13 [==============================] - 6s 425ms/step - loss: 0.8001 - acc: 0.7077 - val_loss: 0.6512 - val_acc: 0.7795\n",
      "Epoch 3/1024\n",
      "13/13 [==============================] - 6s 438ms/step - loss: 0.6322 - acc: 0.8045 - val_loss: 0.5574 - val_acc: 0.7875\n",
      "Epoch 4/1024\n",
      "13/13 [==============================] - 6s 430ms/step - loss: 0.5251 - acc: 0.8237 - val_loss: 0.5077 - val_acc: 0.8106\n",
      "Epoch 5/1024\n",
      "13/13 [==============================] - 6s 476ms/step - loss: 0.4407 - acc: 0.8600 - val_loss: 0.5061 - val_acc: 0.8086\n",
      "Epoch 6/1024\n",
      "13/13 [==============================] - 6s 454ms/step - loss: 0.3857 - acc: 0.8697 - val_loss: 0.5033 - val_acc: 0.8046\n",
      "Epoch 7/1024\n",
      "13/13 [==============================] - 6s 453ms/step - loss: 0.3682 - acc: 0.8528 - val_loss: 0.4966 - val_acc: 0.8058\n",
      "Epoch 8/1024\n",
      "13/13 [==============================] - 6s 462ms/step - loss: 0.3110 - acc: 0.8938 - val_loss: 0.4791 - val_acc: 0.8254\n",
      "Epoch 9/1024\n",
      "13/13 [==============================] - 6s 444ms/step - loss: 0.2822 - acc: 0.9035 - val_loss: 0.4873 - val_acc: 0.8160\n",
      "Epoch 10/1024\n",
      "13/13 [==============================] - 6s 443ms/step - loss: 0.2734 - acc: 0.9035 - val_loss: 0.4955 - val_acc: 0.8101\n",
      "\n",
      "Epoch 00010: Reducing Max LR on Plateau: new max lr will be 0.005 (if not early_stopping).\n",
      "Epoch 11/1024\n",
      "13/13 [==============================] - 6s 435ms/step - loss: 0.2361 - acc: 0.9264 - val_loss: 0.4898 - val_acc: 0.8214\n",
      "Epoch 12/1024\n",
      "13/13 [==============================] - 6s 498ms/step - loss: 0.2292 - acc: 0.9155 - val_loss: 0.5074 - val_acc: 0.8174\n",
      "\n",
      "Epoch 00012: Reducing Max LR on Plateau: new max lr will be 0.0025 (if not early_stopping).\n",
      "Epoch 13/1024\n",
      "13/13 [==============================] - 6s 442ms/step - loss: 0.1969 - acc: 0.9421 - val_loss: 0.5203 - val_acc: 0.8132\n",
      "Restoring model weights from the end of the best epoch\n",
      "Epoch 00013: early stopping\n",
      "Weights from best epoch have been loaded into model.\n"
     ]
    },
    {
     "data": {
      "text/plain": [
       "<keras.callbacks.History at 0x7f673538af98>"
      ]
     },
     "execution_count": 9,
     "metadata": {},
     "output_type": "execute_result"
    }
   ],
   "source": [
    "learner.autofit(0.01)"
   ]
  },
  {
   "cell_type": "markdown",
   "metadata": {},
   "source": [
    "## Evaluate\n",
    "\n",
    "#### Validate"
   ]
  },
  {
   "cell_type": "code",
   "execution_count": 10,
   "metadata": {},
   "outputs": [
    {
     "name": "stdout",
     "output_type": "stream",
     "text": [
      "                                precision    recall  f1-score   support\n",
      "\n",
      "Diabetes_Mellitus-Experimental       0.76      0.82      0.79      3113\n",
      "      Diabetes_Mellitus-Type_1       0.84      0.81      0.82      5943\n",
      "      Diabetes_Mellitus-Type_2       0.85      0.84      0.85      5930\n",
      "\n",
      "                      accuracy                           0.83     14986\n",
      "                     macro avg       0.82      0.82      0.82     14986\n",
      "                  weighted avg       0.83      0.83      0.83     14986\n",
      "\n"
     ]
    },
    {
     "data": {
      "text/plain": [
       "array([[2553,  362,  198],\n",
       "       [ 440, 4815,  688],\n",
       "       [ 359,  572, 4999]])"
      ]
     },
     "execution_count": 10,
     "metadata": {},
     "output_type": "execute_result"
    }
   ],
   "source": [
    "learner.validate(class_names=preproc.get_classes())"
   ]
  },
  {
   "cell_type": "markdown",
   "metadata": {},
   "source": [
    "#### Create a Predictor Object"
   ]
  },
  {
   "cell_type": "code",
   "execution_count": 11,
   "metadata": {},
   "outputs": [],
   "source": [
    "p = ktrain.get_predictor(learner.model, preproc)"
   ]
  },
  {
   "cell_type": "markdown",
   "metadata": {},
   "source": [
    "#### Transductive Inference:  Making Predictions for Unlabeled Nodes in Original Training Graph\n",
    "In transductive inference, we make predictions for unlabeled nodes whose features are visible during training. Making predictions on validation nodes in the training graph is transductive inference.\n",
    "\n",
    "Let's see how well our prediction is for the first validation example."
   ]
  },
  {
   "cell_type": "code",
   "execution_count": 12,
   "metadata": {},
   "outputs": [
    {
     "data": {
      "text/plain": [
       "array([[0.04122107, 0.9422023 , 0.0165766 ]], dtype=float32)"
      ]
     },
     "execution_count": 12,
     "metadata": {},
     "output_type": "execute_result"
    }
   ],
   "source": [
    "p.predict_transductive(val_data.ids[0:1], return_proba=True)"
   ]
  },
  {
   "cell_type": "code",
   "execution_count": 13,
   "metadata": {},
   "outputs": [
    {
     "data": {
      "text/plain": [
       "array([0., 1., 0.])"
      ]
     },
     "execution_count": 13,
     "metadata": {},
     "output_type": "execute_result"
    }
   ],
   "source": [
    "val_data[0][1][0]"
   ]
  },
  {
   "cell_type": "markdown",
   "metadata": {},
   "source": [
    "Let's make predictions for all validation nodes and visually compare some of them with ground truth."
   ]
  },
  {
   "cell_type": "code",
   "execution_count": 14,
   "metadata": {},
   "outputs": [],
   "source": [
    "y_pred = p.predict_transductive(val_data.ids, return_proba=False)"
   ]
  },
  {
   "cell_type": "code",
   "execution_count": 15,
   "metadata": {},
   "outputs": [],
   "source": [
    "y_true = preproc.df[preproc.df.index.isin(val_data.ids)]['target'].values"
   ]
  },
  {
   "cell_type": "code",
   "execution_count": 16,
   "metadata": {},
   "outputs": [
    {
     "data": {
      "text/html": [
       "<div>\n",
       "<style scoped>\n",
       "    .dataframe tbody tr th:only-of-type {\n",
       "        vertical-align: middle;\n",
       "    }\n",
       "\n",
       "    .dataframe tbody tr th {\n",
       "        vertical-align: top;\n",
       "    }\n",
       "\n",
       "    .dataframe thead th {\n",
       "        text-align: right;\n",
       "    }\n",
       "</style>\n",
       "<table border=\"1\" class=\"dataframe\">\n",
       "  <thead>\n",
       "    <tr style=\"text-align: right;\">\n",
       "      <th></th>\n",
       "      <th>Ground Truth</th>\n",
       "      <th>Predicted</th>\n",
       "    </tr>\n",
       "  </thead>\n",
       "  <tbody>\n",
       "    <tr>\n",
       "      <th>0</th>\n",
       "      <td>Diabetes_Mellitus-Type_1</td>\n",
       "      <td>Diabetes_Mellitus-Type_1</td>\n",
       "    </tr>\n",
       "    <tr>\n",
       "      <th>1</th>\n",
       "      <td>Diabetes_Mellitus-Type_2</td>\n",
       "      <td>Diabetes_Mellitus-Type_1</td>\n",
       "    </tr>\n",
       "    <tr>\n",
       "      <th>2</th>\n",
       "      <td>Diabetes_Mellitus-Type_1</td>\n",
       "      <td>Diabetes_Mellitus-Type_1</td>\n",
       "    </tr>\n",
       "    <tr>\n",
       "      <th>3</th>\n",
       "      <td>Diabetes_Mellitus-Type_1</td>\n",
       "      <td>Diabetes_Mellitus-Type_1</td>\n",
       "    </tr>\n",
       "    <tr>\n",
       "      <th>4</th>\n",
       "      <td>Diabetes_Mellitus-Experimental</td>\n",
       "      <td>Diabetes_Mellitus-Experimental</td>\n",
       "    </tr>\n",
       "  </tbody>\n",
       "</table>\n",
       "</div>"
      ],
      "text/plain": [
       "                     Ground Truth                       Predicted\n",
       "0        Diabetes_Mellitus-Type_1        Diabetes_Mellitus-Type_1\n",
       "1        Diabetes_Mellitus-Type_2        Diabetes_Mellitus-Type_1\n",
       "2        Diabetes_Mellitus-Type_1        Diabetes_Mellitus-Type_1\n",
       "3        Diabetes_Mellitus-Type_1        Diabetes_Mellitus-Type_1\n",
       "4  Diabetes_Mellitus-Experimental  Diabetes_Mellitus-Experimental"
      ]
     },
     "execution_count": 16,
     "metadata": {},
     "output_type": "execute_result"
    }
   ],
   "source": [
    "import pandas as pd\n",
    "pd.DataFrame(zip(y_true, y_pred), columns=['Ground Truth', 'Predicted']).head()"
   ]
  },
  {
   "cell_type": "markdown",
   "metadata": {},
   "source": [
    "#### Inductive Inference:  Making Predictions for New Nodes Not in the Original Training Graph\n",
    "In inductive inference, we make predictions for entirely new nodes that were not present in the traning graph.  The features or attributes of these nodes were **not** visible during training.  We consider a graph where the heldout nodes are added back into the training graph, which yields the original graph of 19,717 nodes. This graph, `G_complete` was returned as the last return value of `graph_nodes_from_csv`."
   ]
  },
  {
   "cell_type": "code",
   "execution_count": 17,
   "metadata": {},
   "outputs": [],
   "source": [
    "y_pred = p.predict_inductive(df_holdout, G_complete, return_proba=False)"
   ]
  },
  {
   "cell_type": "code",
   "execution_count": 18,
   "metadata": {},
   "outputs": [],
   "source": [
    "y_true = df_holdout['target'].values"
   ]
  },
  {
   "cell_type": "code",
   "execution_count": 19,
   "metadata": {},
   "outputs": [
    {
     "data": {
      "text/plain": [
       "0.8303322343393356"
      ]
     },
     "execution_count": 19,
     "metadata": {},
     "output_type": "execute_result"
    }
   ],
   "source": [
    "import numpy as np\n",
    "(y_true == np.array(y_pred)).mean()"
   ]
  },
  {
   "cell_type": "markdown",
   "metadata": {},
   "source": [
    "With an **83.03%** accuracy, we see that inductive performance is quite good and comparable to transductive performance."
   ]
  },
  {
   "cell_type": "code",
   "execution_count": null,
   "metadata": {},
   "outputs": [],
   "source": []
  }
 ],
 "metadata": {
  "kernelspec": {
   "display_name": "Python 3",
   "language": "python",
   "name": "python3"
  },
  "language_info": {
   "codemirror_mode": {
    "name": "ipython",
    "version": 3
   },
   "file_extension": ".py",
   "mimetype": "text/x-python",
   "name": "python",
   "nbconvert_exporter": "python",
   "pygments_lexer": "ipython3",
   "version": "3.6.8"
  }
 },
 "nbformat": 4,
 "nbformat_minor": 2
}

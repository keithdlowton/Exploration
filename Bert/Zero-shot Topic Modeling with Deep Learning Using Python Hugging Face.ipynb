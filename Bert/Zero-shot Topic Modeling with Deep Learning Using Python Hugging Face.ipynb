{
 "cells": [
  {
   "cell_type": "markdown",
   "id": "c446c478",
   "metadata": {},
   "source": [
    "### Zero-shot Topic Modeling Algorithm"
   ]
  },
  {
   "cell_type": "markdown",
   "id": "518744fe",
   "metadata": {},
   "source": [
    "Zero-shot topic modeling is a use case of zero-shot text classification on topic predictions. Zero-shot text classification is a Natural Language Inference (NLI) model where two sequences are compared to see if they contradict each other, entail each other, or are neutral (neither contradict nor entail).  \n",
    "  \n",
    "When using zero-shot topic modeling, we will have the text as the premise and the pre-defined candidate labels as hypotheses. If the model predicts a text document such as a review entails the topic in the candidate labels, then the document is likely to belong to the topic. Otherwise, the document is not likely to belong to the topic."
   ]
  },
  {
   "cell_type": "code",
   "execution_count": null,
   "id": "05f3feef",
   "metadata": {},
   "outputs": [],
   "source": [
    "conda install -c huggingface transformers"
   ]
  },
  {
   "cell_type": "code",
   "execution_count": null,
   "id": "e8a8e198",
   "metadata": {},
   "outputs": [],
   "source": [
    "# Data processing\n",
    "import pandas as pd\n",
    "\n",
    "# Modeling\n",
    "from transformers import pipeline\n",
    "classifier = pipeline(task=\"zero-shot-classification\", \n",
    "                      model=\"facebook/bart-large-mnli\",\n",
    "                      device=0) "
   ]
  },
  {
   "cell_type": "code",
   "execution_count": 4,
   "id": "f9cbcbae",
   "metadata": {},
   "outputs": [
    {
     "data": {
      "text/html": [
       "<div>\n",
       "<style scoped>\n",
       "    .dataframe tbody tr th:only-of-type {\n",
       "        vertical-align: middle;\n",
       "    }\n",
       "\n",
       "    .dataframe tbody tr th {\n",
       "        vertical-align: top;\n",
       "    }\n",
       "\n",
       "    .dataframe thead th {\n",
       "        text-align: right;\n",
       "    }\n",
       "</style>\n",
       "<table border=\"1\" class=\"dataframe\">\n",
       "  <thead>\n",
       "    <tr style=\"text-align: right;\">\n",
       "      <th></th>\n",
       "      <th>review</th>\n",
       "    </tr>\n",
       "  </thead>\n",
       "  <tbody>\n",
       "    <tr>\n",
       "      <th>0</th>\n",
       "      <td>So there is no way for me to plug it in here i...</td>\n",
       "    </tr>\n",
       "    <tr>\n",
       "      <th>1</th>\n",
       "      <td>Good case, Excellent value.</td>\n",
       "    </tr>\n",
       "    <tr>\n",
       "      <th>2</th>\n",
       "      <td>Great for the jawbone.</td>\n",
       "    </tr>\n",
       "    <tr>\n",
       "      <th>3</th>\n",
       "      <td>Tied to charger for conversations lasting more...</td>\n",
       "    </tr>\n",
       "    <tr>\n",
       "      <th>4</th>\n",
       "      <td>The mic is great.</td>\n",
       "    </tr>\n",
       "  </tbody>\n",
       "</table>\n",
       "</div>"
      ],
      "text/plain": [
       "                                              review\n",
       "0  So there is no way for me to plug it in here i...\n",
       "1                        Good case, Excellent value.\n",
       "2                             Great for the jawbone.\n",
       "3  Tied to charger for conversations lasting more...\n",
       "4                                  The mic is great."
      ]
     },
     "execution_count": 4,
     "metadata": {},
     "output_type": "execute_result"
    }
   ],
   "source": [
    "# Read in data\n",
    "amz_review = pd.read_csv('amazon_cells_labelled.txt', sep='\\t', names=['review', 'label'])\n",
    "\n",
    "# Drop te label \n",
    "amz_review = amz_review.drop('label', axis=1);\n",
    "\n",
    "# Take a look at the data\n",
    "amz_review.head()"
   ]
  },
  {
   "cell_type": "markdown",
   "id": "a65ce1cf",
   "metadata": {},
   "source": [
    "### Zero-shot Topic Prediction of a Single Topic"
   ]
  },
  {
   "cell_type": "markdown",
   "id": "d4353c97",
   "metadata": {},
   "source": [
    "* Firstly, the reviews are put into a list for the pipeline.  \n",
    "* Then, the candidate labels are defined. We set four candidate labels, sound quality, battery, price, and comfortable.  \n",
    "* After that, the hypothesis template is defined. The default template is used by the Hugging Face pipeline is This example is {}, we use a hypothesis template that is more specific to the topic modeling The topic of this review is {}. and it helps to improve the results.  \n",
    "* Finally, the text, the candidate labels, and the hypothesis template are passed into the zero-shot classification pipeline called classifier."
   ]
  },
  {
   "cell_type": "code",
   "execution_count": 5,
   "id": "c7e1653b",
   "metadata": {},
   "outputs": [
    {
     "ename": "NameError",
     "evalue": "name 'classifier' is not defined",
     "output_type": "error",
     "traceback": [
      "\u001b[0;31m---------------------------------------------------------------------------\u001b[0m",
      "\u001b[0;31mNameError\u001b[0m                                 Traceback (most recent call last)",
      "Cell \u001b[0;32mIn[5], line 11\u001b[0m\n\u001b[1;32m      8\u001b[0m hypothesis_template \u001b[38;5;241m=\u001b[39m \u001b[38;5;124m\"\u001b[39m\u001b[38;5;124mThe topic of this review is \u001b[39m\u001b[38;5;132;01m{}\u001b[39;00m\u001b[38;5;124m.\u001b[39m\u001b[38;5;124m\"\u001b[39m\n\u001b[1;32m     10\u001b[0m \u001b[38;5;66;03m# Prediction results\u001b[39;00m\n\u001b[0;32m---> 11\u001b[0m single_topic_prediction \u001b[38;5;241m=\u001b[39m \u001b[43mclassifier\u001b[49m(sequences, candidate_labels, hypothesis_template\u001b[38;5;241m=\u001b[39mhypothesis_template)\n\u001b[1;32m     13\u001b[0m \u001b[38;5;66;03m# Save the output as a dataframe\u001b[39;00m\n\u001b[1;32m     14\u001b[0m single_topic_prediction \u001b[38;5;241m=\u001b[39m pd\u001b[38;5;241m.\u001b[39mDataFrame(single_topic_prediction)\n",
      "\u001b[0;31mNameError\u001b[0m: name 'classifier' is not defined"
     ]
    }
   ],
   "source": [
    "# Put reviews in a list\n",
    "sequences = amz_review['review'].to_list()\n",
    "\n",
    "# Define the candidate labels \n",
    "candidate_labels = [\"sound quality\", \"battery\", \"price\", \"comfortable\"]\n",
    "\n",
    "# Set the hyppothesis template\n",
    "hypothesis_template = \"The topic of this review is {}.\"\n",
    "\n",
    "# Prediction results\n",
    "single_topic_prediction = classifier(sequences, candidate_labels, hypothesis_template=hypothesis_template)\n",
    "\n",
    "# Save the output as a dataframe\n",
    "single_topic_prediction = pd.DataFrame(single_topic_prediction)\n",
    "\n",
    "# Take a look at the data\n",
    "single_topic_prediction.head()"
   ]
  },
  {
   "cell_type": "code",
   "execution_count": null,
   "id": "3552572d",
   "metadata": {},
   "outputs": [],
   "source": [
    "# Tune the batch_size to fit in the memory\n",
    "batch_size = 4 \n",
    "\n",
    "# Put reviews in a list\n",
    "sequences = amz_review['review'].to_list()\n",
    "\n",
    "# Define the candidate labels \n",
    "candidate_labels = [\"sound quality\", \"battery\", \"price\", \"comfortable\"]\n",
    "\n",
    "# Set the hyppothesis template\n",
    "hypothesis_template = \"The topic of this review is {}.\"\n",
    "\n",
    "# Create an empty list to save the prediciton results\n",
    "single_topic_prediction = []\n",
    "\n",
    "# Loop through the batches\n",
    "for i in range(0, len(sequences), batch_size):\n",
    "    # Append the results \n",
    "    single_topic_prediction += classifier(sequences[i:i+batch_size], candidate_labels, hypothesis_template=hypothesis_template)"
   ]
  },
  {
   "cell_type": "code",
   "execution_count": null,
   "id": "6b50e5f1",
   "metadata": {},
   "outputs": [],
   "source": [
    "# The column for the predicted topic\n",
    "single_topic_prediction['predicted_topic'] = single_topic_prediction['labels'].apply(lambda x: x[0])\n",
    "\n",
    "# The column for the score of predi ted topic\n",
    "single_topic_prediction['predicted_topic_score'] = single_topic_prediction['scores'].apply(lambda x: x[0])\n",
    "\n",
    "# Take a look at the data\n",
    "single_topic_prediction.head()"
   ]
  },
  {
   "cell_type": "markdown",
   "id": "1945806a",
   "metadata": {},
   "source": [
    "### Zero-shot Topic Prediction of Multiple Topics"
   ]
  },
  {
   "cell_type": "code",
   "execution_count": null,
   "id": "99d49cb5",
   "metadata": {},
   "outputs": [],
   "source": [
    "# Put reviews in a list\n",
    "sequences = amz_review['review'].to_list()\n",
    "\n",
    "# Define the candidate labels \n",
    "candidate_labels = [\"sound quality\", \"battery\", \"price\", \"comfortable\"]\n",
    "\n",
    "# Set the hyppothesis template\n",
    "hypothesis_template = \"The topic of this review is {}.\"\n",
    "\n",
    "# Prediction results\n",
    "multi_topic_prediction = classifier(sequences, candidate_labels, hypothesis_template=hypothesis_template, multi_label=True)\n",
    "\n",
    "# Save the output in a dataframe\n",
    "multi_topic_prediction = pd.DataFrame(multi_topic_prediction)\n",
    "\n",
    "# Take a look at the data\n",
    "multi_topic_prediction.head()"
   ]
  },
  {
   "cell_type": "markdown",
   "id": "d915af12",
   "metadata": {},
   "source": [
    "We set the threshold = 0.6 meaning that the labels with a predicted probability of greater than or equal to 0.6 is assigned to the reviews."
   ]
  },
  {
   "cell_type": "code",
   "execution_count": null,
   "id": "9c889502",
   "metadata": {},
   "outputs": [],
   "source": [
    "# Threshold probability\n",
    "threshold = 0.6\n",
    "\n",
    "# Expand the lists\n",
    "multi_topic_prediction = multi_topic_prediction.set_index('sequence').apply(pd.Series.explode).reset_index()\n",
    "\n",
    "# Filter by threshold\n",
    "multi_topic_prediction = multi_topic_prediction[multi_topic_prediction['scores'] >= threshold]\n",
    "\n",
    "# Take a look at the data\n",
    "multi_topic_prediction.head()"
   ]
  },
  {
   "cell_type": "code",
   "execution_count": null,
   "id": "727b8b95",
   "metadata": {},
   "outputs": [],
   "source": []
  }
 ],
 "metadata": {
  "kernelspec": {
   "display_name": "Python 3 (ipykernel)",
   "language": "python",
   "name": "python3"
  },
  "language_info": {
   "codemirror_mode": {
    "name": "ipython",
    "version": 3
   },
   "file_extension": ".py",
   "mimetype": "text/x-python",
   "name": "python",
   "nbconvert_exporter": "python",
   "pygments_lexer": "ipython3",
   "version": "3.10.11"
  }
 },
 "nbformat": 4,
 "nbformat_minor": 5
}

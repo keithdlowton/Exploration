{
 "cells": [
  {
   "cell_type": "markdown",
   "metadata": {},
   "source": [
    "https://medium.com/towards-data-science/factor-analysis-of-mixed-data-5ad5ce98663c"
   ]
  },
  {
   "cell_type": "code",
   "execution_count": 1,
   "metadata": {},
   "outputs": [],
   "source": [
    "import numpy as no\n",
    "import pandas as pd\n",
    "from sklearn.decomposition import FactorAnalysis, FastICA"
   ]
  },
  {
   "cell_type": "code",
   "execution_count": 4,
   "metadata": {},
   "outputs": [
    {
     "ename": "TypeError",
     "evalue": "OrdinalEncoder.__init__() got an unexpected keyword argument 'cols'",
     "output_type": "error",
     "traceback": [
      "\u001b[0;31m---------------------------------------------------------------------------\u001b[0m",
      "\u001b[0;31mTypeError\u001b[0m                                 Traceback (most recent call last)",
      "Cell \u001b[0;32mIn[4], line 24\u001b[0m\n\u001b[1;32m     21\u001b[0m X_df \u001b[38;5;241m=\u001b[39m house_df[house_df\u001b[38;5;241m.\u001b[39mcolumns\u001b[38;5;241m.\u001b[39mdifference([\u001b[38;5;124m\"\u001b[39m\u001b[38;5;124mSalePrice\u001b[39m\u001b[38;5;124m\"\u001b[39m, \u001b[38;5;124m\"\u001b[39m\u001b[38;5;124mHouseClass\u001b[39m\u001b[38;5;124m\"\u001b[39m])]\n\u001b[1;32m     22\u001b[0m categorical_features \u001b[38;5;241m=\u001b[39m [col \u001b[38;5;28;01mfor\u001b[39;00m col \u001b[38;5;129;01min\u001b[39;00m X_df\u001b[38;5;241m.\u001b[39mcolumns \u001b[38;5;28;01mif\u001b[39;00m X_df[col]\u001b[38;5;241m.\u001b[39mdtype \u001b[38;5;241m==\u001b[39m \u001b[38;5;124m\"\u001b[39m\u001b[38;5;124mobject\u001b[39m\u001b[38;5;124m\"\u001b[39m]\n\u001b[0;32m---> 24\u001b[0m encoder \u001b[38;5;241m=\u001b[39m \u001b[43mOrdinalEncoder\u001b[49m\u001b[43m(\u001b[49m\u001b[43mcols\u001b[49m\u001b[38;5;241;43m=\u001b[39;49m\u001b[43mcategorical_features\u001b[49m\u001b[43m,\u001b[49m\u001b[43m \u001b[49m\u001b[43mhandle_unknown\u001b[49m\u001b[38;5;241;43m=\u001b[39;49m\u001b[38;5;124;43m\"\u001b[39;49m\u001b[38;5;124;43mignore\u001b[39;49m\u001b[38;5;124;43m\"\u001b[39;49m\u001b[43m,\u001b[49m\u001b[43m \u001b[49m\u001b[43mreturn_df\u001b[49m\u001b[38;5;241;43m=\u001b[39;49m\u001b[38;5;28;43;01mTrue\u001b[39;49;00m\u001b[43m)\u001b[49m\u001b[38;5;241m.\u001b[39mfit(X_df)\n\u001b[1;32m     26\u001b[0m X_df \u001b[38;5;241m=\u001b[39m encoder\u001b[38;5;241m.\u001b[39mtransform(X_df)\n\u001b[1;32m     29\u001b[0m \u001b[38;5;66;03m# Separating out the target\u001b[39;00m\n",
      "\u001b[0;31mTypeError\u001b[0m: OrdinalEncoder.__init__() got an unexpected keyword argument 'cols'"
     ]
    }
   ],
   "source": [
    "house_df = pd.read_csv(\"/Users/keithlowton/Desktop/Ks/Python code/Kaggle/House prices/train.csv\")\n",
    "\n",
    "\n",
    "def label_price(row):\n",
    "    if row[\"SalePrice\"] < 100000:\n",
    "        return \"Lower class\"\n",
    "    if (row[\"SalePrice\"] >= 100000) & (row[\"SalePrice\"] < 300000):\n",
    "        return \"Mid class\"\n",
    "    if (row[\"SalePrice\"] > 300000) & (row[\"SalePrice\"] < 500000):\n",
    "        return \"Upper-mid class\"\n",
    "    if row[\"SalePrice\"] > 500000:\n",
    "        return \"Upper class\"\n",
    "\n",
    "\n",
    "hclass = pd.DataFrame(house_df.apply(lambda row: label_price(row), axis=1))\n",
    "hclass.columns = [\"HouseClass\"]\n",
    "house_df = pd.concat([house_df, hclass], axis=1)\n",
    "\n",
    "from sklearn.preprocessing import OrdinalEncoder\n",
    "\n",
    "X_df = house_df[house_df.columns.difference([\"SalePrice\", \"HouseClass\"])]\n",
    "categorical_features = [col for col in X_df.columns if X_df[col].dtype == \"object\"]\n",
    "\n",
    "encoder = OrdinalEncoder(cols=categorical_features, handle_unknown=\"ignore\", return_df=True).fit(X_df)\n",
    "\n",
    "X_df = encoder.transform(X_df)\n",
    "\n",
    "\n",
    "# Separating out the target\n",
    "y = house_df.loc[:, [\"HouseClass\"]].values\n",
    "# Standardizing the features\n",
    "x = StandardScaler().fit_transform(np.array(X_df))\n"
   ]
  },
  {
   "cell_type": "code",
   "execution_count": null,
   "metadata": {},
   "outputs": [],
   "source": [
    "transformer = FactorAnalysis(n_components=2, random_state=0)\n",
    "X_transformed = transformer.fit_transform(x)\n",
    "X_transformed = pd.DataFrame(X_transformed)\n",
    "X_transformed.columns = [\"Factor 1\", \"Factor 2\"]\n",
    "finalDf = pd.concat([X_transformed, df[[\"target\"]]], axis=1)\n",
    "fig = plt.figure(figsize=(8, 8))\n",
    "ax = fig.add_subplot(1, 1, 1)\n",
    "ax.set_xlabel(\"Factor 1\", fontsize=15)\n",
    "ax.set_ylabel(\"Factor 2\", fontsize=15)\n",
    "ax.set_title(\"2 component Factor Analysis\", fontsize=20)\n",
    "targets = [\"Iris-setosa\", \"Iris-versicolor\", \"Iris-virginica\"]\n",
    "colors = [\"r\", \"g\", \"b\"]\n",
    "for target, color in zip(targets, colors):\n",
    "    indicesToKeep = finalDf[\"target\"] == target\n",
    "    ax.scatter(finalDf.loc[indicesToKeep, \"Factor 1\"], finalDf.loc[indicesToKeep, \"Factor 2\"], c=color, s=50)\n",
    "ax.legend(targets)\n",
    "ax.grid()\n"
   ]
  },
  {
   "cell_type": "code",
   "execution_count": null,
   "metadata": {},
   "outputs": [],
   "source": [
    "ica = FastICA(n_components=2)\n",
    "principalComponents = ica.fit_transform(x)\n",
    "principalDf = pd.DataFrame(data=principalComponents, columns=[\"Independent component 1\", \"Independent component 2\"])\n",
    "finalDf = pd.concat([principalDf, df[[\"target\"]]], axis=1)\n",
    "fig = plt.figure(figsize=(8, 8))\n",
    "ax = fig.add_subplot(1, 1, 1)\n",
    "ax.set_xlabel(\"Independent Component 1\", fontsize=15)\n",
    "ax.set_ylabel(\"Independent  Component 2\", fontsize=15)\n",
    "ax.set_title(\"2 component ICA\", fontsize=20)\n",
    "targets = [\"Iris-setosa\", \"Iris-versicolor\", \"Iris-virginica\"]\n",
    "colors = [\"r\", \"g\", \"b\"]\n",
    "for target, color in zip(targets, colors):\n",
    "    indicesToKeep = finalDf[\"target\"] == target\n",
    "    ax.scatter(\n",
    "        finalDf.loc[indicesToKeep, \"Independent component 1\"],\n",
    "        finalDf.loc[indicesToKeep, \"Independent component 2\"],\n",
    "        c=color,\n",
    "        s=50,\n",
    "    )\n",
    "ax.legend(targets)\n",
    "ax.grid()\n"
   ]
  },
  {
   "cell_type": "markdown",
   "metadata": {},
   "source": [
    "### FAMD"
   ]
  },
  {
   "cell_type": "code",
   "execution_count": null,
   "metadata": {},
   "outputs": [],
   "source": [
    "\n",
    "house_df = pd.read_csv('house_prices_dataset.csv')\n",
    "from prince import FAMD\n",
    "famd = FAMD(n_components =2, n_iter = 3, random_state = 101)\n",
    "\n",
    "famd.fit(house_df)\n",
    "famd.transform(house_df)\n",
    "famd.plot_row_coordinates(house_df,figsize=(15, 10),color_labels=['House Style : {}'.format(t) for t in house_df['HouseStyle']] )"
   ]
  }
 ],
 "metadata": {
  "kernelspec": {
   "display_name": "Binary_classifier",
   "language": "python",
   "name": "python3"
  },
  "language_info": {
   "codemirror_mode": {
    "name": "ipython",
    "version": 3
   },
   "file_extension": ".py",
   "mimetype": "text/x-python",
   "name": "python",
   "nbconvert_exporter": "python",
   "pygments_lexer": "ipython3",
   "version": "3.10.11"
  }
 },
 "nbformat": 4,
 "nbformat_minor": 2
}

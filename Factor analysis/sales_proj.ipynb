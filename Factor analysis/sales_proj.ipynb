{
  "cells": [
    {
      "cell_type": "markdown",
      "id": "0f87aaf8",
      "metadata": {},
      "source": [
        "https://towardsdatascience.com/how-to-identify-factors-that-influence-purchase-decisions-89994ecafcf2"
      ]
    },
    {
      "cell_type": "markdown",
      "id": "67e53442",
      "metadata": {
        "id": "67e53442"
      },
      "source": [
        "\n",
        "# **<font color='white gray'>Data Science for Multivariate Data Analysis</font>**\n",
        "### <font color='white gray'>Data Science in Sales - Identifying Factors Influencing Purchase Decisions</font>\n"
      ]
    },
    {
      "cell_type": "markdown",
      "id": "4zcZrpODQOuK",
      "metadata": {
        "id": "4zcZrpODQOuK"
      },
      "source": [
        "---"
      ]
    },
    {
      "cell_type": "markdown",
      "id": "38a848c0",
      "metadata": {
        "id": "38a848c0"
      },
      "source": [
        "## **Business Problem Definition**\n",
        "\n",
        "Imagine that you work for a large retail company, and the managers want to understand the main factors that determine customer purchasing behavior.\n",
        "\n",
        "The company has various metrics collected on shopping habits, but the managers are unclear about which dimensions are the most relevant.\n",
        "\n",
        "These are the available variables:\n",
        "\n",
        "- `purchase_frequency`: Number of times the customer buys per month.\n",
        "- `avg_spent`: Average amount spent per purchase.\n",
        "- `top_category`: Value from 1 to 10 indicating the product category.\n",
        "- `store_time`: Average time (in minutes) the customer spends in the store per visit.\n",
        "- `app_usage`: Score (from 1 to 10) indicating the frequency of app usage.\n",
        "\n",
        "Objective: Perform a factor analysis to reduce the dimensionality of the data and identify the latent factors that explain most of the variance in customer purchasing behavior.\n"
      ]
    },
    {
      "cell_type": "markdown",
      "id": "4e7b4151",
      "metadata": {
        "id": "4e7b4151"
      },
      "source": [
        "## **Installing and Loading Packages**\n"
      ]
    },
    {
      "cell_type": "code",
      "execution_count": 7,
      "id": "f3d61a30",
      "metadata": {
        "id": "f3d61a30"
      },
      "outputs": [],
      "source": [
        "# To update a package, run the command below in the terminal or command prompt:\n",
        "# pip install -U package_name\n",
        "\n",
        "# To install an exact version of a package, run the command below in the terminal or command prompt:\n",
        "# !pip install package_name==desired_version\n",
        "\n",
        "# After installing or updating the package, restart the Jupyter Notebook.\n",
        "\n",
        "# Install the watermark package.\n",
        "# This package is used to record the versions of other packages used in this Jupyter Notebook.\n",
        "# !pip install -q -U watermark"
      ]
    },
    {
      "cell_type": "markdown",
      "id": "a231f14c",
      "metadata": {
        "id": "a231f14c"
      },
      "source": [
        "https://pypi.org/project/factor-analyzer/"
      ]
    },
    {
      "cell_type": "code",
      "execution_count": 1,
      "id": "IzlHJOnBSLgj",
      "metadata": {
        "colab": {
          "base_uri": "https://localhost:8080/"
        },
        "id": "IzlHJOnBSLgj",
        "outputId": "d0ff5f7d-c9b9-4ac9-ecbc-88a8844bfc32"
      },
      "outputs": [
        {
          "name": "stdout",
          "output_type": "stream",
          "text": [
            "Collecting watermark\n",
            "  Obtaining dependency information for watermark from https://files.pythonhosted.org/packages/67/ee/32fec350c20ff060064d058c37df53dd1fad74dfea9532faf2868b0512b5/watermark-2.4.3-py2.py3-none-any.whl.metadata\n",
            "  Downloading watermark-2.4.3-py2.py3-none-any.whl.metadata (1.4 kB)\n",
            "Requirement already satisfied: ipython>=6.0 in /Users/keithlowton/anaconda3/envs/Market_basket/lib/python3.10/site-packages (from watermark) (8.12.2)\n",
            "Requirement already satisfied: importlib-metadata>=1.4 in /Users/keithlowton/anaconda3/envs/Market_basket/lib/python3.10/site-packages (from watermark) (6.8.0)\n",
            "Requirement already satisfied: setuptools in /Users/keithlowton/anaconda3/envs/Market_basket/lib/python3.10/site-packages (from watermark) (68.0.0)\n",
            "Requirement already satisfied: zipp>=0.5 in /Users/keithlowton/anaconda3/envs/Market_basket/lib/python3.10/site-packages (from importlib-metadata>=1.4->watermark) (3.16.2)\n",
            "Requirement already satisfied: backcall in /Users/keithlowton/anaconda3/envs/Market_basket/lib/python3.10/site-packages (from ipython>=6.0->watermark) (0.2.0)\n",
            "Requirement already satisfied: decorator in /Users/keithlowton/anaconda3/envs/Market_basket/lib/python3.10/site-packages (from ipython>=6.0->watermark) (5.1.1)\n",
            "Requirement already satisfied: jedi>=0.16 in /Users/keithlowton/anaconda3/envs/Market_basket/lib/python3.10/site-packages (from ipython>=6.0->watermark) (0.18.1)\n",
            "Requirement already satisfied: matplotlib-inline in /Users/keithlowton/anaconda3/envs/Market_basket/lib/python3.10/site-packages (from ipython>=6.0->watermark) (0.1.6)\n",
            "Requirement already satisfied: pickleshare in /Users/keithlowton/anaconda3/envs/Market_basket/lib/python3.10/site-packages (from ipython>=6.0->watermark) (0.7.5)\n",
            "Requirement already satisfied: prompt-toolkit!=3.0.37,<3.1.0,>=3.0.30 in /Users/keithlowton/anaconda3/envs/Market_basket/lib/python3.10/site-packages (from ipython>=6.0->watermark) (3.0.36)\n",
            "Requirement already satisfied: pygments>=2.4.0 in /Users/keithlowton/anaconda3/envs/Market_basket/lib/python3.10/site-packages (from ipython>=6.0->watermark) (2.15.1)\n",
            "Requirement already satisfied: stack-data in /Users/keithlowton/anaconda3/envs/Market_basket/lib/python3.10/site-packages (from ipython>=6.0->watermark) (0.2.0)\n",
            "Requirement already satisfied: traitlets>=5 in /Users/keithlowton/anaconda3/envs/Market_basket/lib/python3.10/site-packages (from ipython>=6.0->watermark) (5.7.1)\n",
            "Requirement already satisfied: pexpect>4.3 in /Users/keithlowton/anaconda3/envs/Market_basket/lib/python3.10/site-packages (from ipython>=6.0->watermark) (4.8.0)\n",
            "Requirement already satisfied: appnope in /Users/keithlowton/anaconda3/envs/Market_basket/lib/python3.10/site-packages (from ipython>=6.0->watermark) (0.1.2)\n",
            "Requirement already satisfied: parso<0.9.0,>=0.8.0 in /Users/keithlowton/anaconda3/envs/Market_basket/lib/python3.10/site-packages (from jedi>=0.16->ipython>=6.0->watermark) (0.8.3)\n",
            "Requirement already satisfied: ptyprocess>=0.5 in /Users/keithlowton/anaconda3/envs/Market_basket/lib/python3.10/site-packages (from pexpect>4.3->ipython>=6.0->watermark) (0.7.0)\n",
            "Requirement already satisfied: wcwidth in /Users/keithlowton/anaconda3/envs/Market_basket/lib/python3.10/site-packages (from prompt-toolkit!=3.0.37,<3.1.0,>=3.0.30->ipython>=6.0->watermark) (0.2.5)\n",
            "Requirement already satisfied: executing in /Users/keithlowton/anaconda3/envs/Market_basket/lib/python3.10/site-packages (from stack-data->ipython>=6.0->watermark) (0.8.3)\n",
            "Requirement already satisfied: asttokens in /Users/keithlowton/anaconda3/envs/Market_basket/lib/python3.10/site-packages (from stack-data->ipython>=6.0->watermark) (2.0.5)\n",
            "Requirement already satisfied: pure-eval in /Users/keithlowton/anaconda3/envs/Market_basket/lib/python3.10/site-packages (from stack-data->ipython>=6.0->watermark) (0.2.2)\n",
            "Requirement already satisfied: six in /Users/keithlowton/anaconda3/envs/Market_basket/lib/python3.10/site-packages (from asttokens->stack-data->ipython>=6.0->watermark) (1.16.0)\n",
            "Downloading watermark-2.4.3-py2.py3-none-any.whl (7.6 kB)\n",
            "Installing collected packages: watermark\n",
            "Successfully installed watermark-2.4.3\n"
          ]
        }
      ],
      "source": [
        "!pip install watermark"
      ]
    },
    {
      "cell_type": "code",
      "execution_count": 2,
      "id": "e7438bee",
      "metadata": {
        "id": "e7438bee"
      },
      "outputs": [],
      "source": [
        "!pip install -q factor_analyzer"
      ]
    },
    {
      "cell_type": "code",
      "execution_count": 9,
      "id": "acef13d8",
      "metadata": {
        "id": "acef13d8"
      },
      "outputs": [],
      "source": [
        "import factor_analyzer\n",
        "import os\n",
        "import matplotlib.pyplot as plt\n",
        "import numpy as np\n",
        "import pandas as pd\n",
        "from factor_analyzer import FactorAnalyzer\n",
        "from factor_analyzer.factor_analyzer import calculate_bartlett_sphericity, calculate_kmo\n"
      ]
    },
    {
      "cell_type": "code",
      "execution_count": 4,
      "id": "f3d0bf50",
      "metadata": {
        "colab": {
          "base_uri": "https://localhost:8080/"
        },
        "id": "f3d0bf50",
        "outputId": "8db618f8-e200-40db-b6d3-920bb253a03f"
      },
      "outputs": [
        {
          "name": "stdout",
          "output_type": "stream",
          "text": [
            "Author: panData\n",
            "\n"
          ]
        }
      ],
      "source": [
        "# Versions of the packages used in this Jupyter Notebook\n",
        "%reload_ext watermark\n",
        "%watermark -a \"panData\"\n"
      ]
    },
    {
      "cell_type": "markdown",
      "id": "712c38db",
      "metadata": {
        "id": "712c38db"
      },
      "source": [
        "## **Loading the Data**\n"
      ]
    },
    {
      "cell_type": "code",
      "execution_count": 11,
      "id": "bf8c4aa9",
      "metadata": {},
      "outputs": [
        {
          "name": "stdout",
          "output_type": "stream",
          "text": [
            "True\n",
            "/Users/keithlowton/Desktop/Ks/Training/Factor analysis/data\n"
          ]
        }
      ],
      "source": [
        "from pathlib import Path\n",
        "path_folder = Path(\"/Users/keithlowton/Desktop/Ks/Training/Factor analysis/data\")\n",
        "print(path_folder.exists())\n",
        "print(path_folder)"
      ]
    },
    {
      "cell_type": "code",
      "execution_count": 12,
      "id": "27da0477",
      "metadata": {
        "id": "27da0477"
      },
      "outputs": [
        {
          "name": "stdout",
          "output_type": "stream",
          "text": [
            "(500, 5)\n"
          ]
        },
        {
          "data": {
            "text/html": [
              "<div>\n",
              "<style scoped>\n",
              "    .dataframe tbody tr th:only-of-type {\n",
              "        vertical-align: middle;\n",
              "    }\n",
              "\n",
              "    .dataframe tbody tr th {\n",
              "        vertical-align: top;\n",
              "    }\n",
              "\n",
              "    .dataframe thead th {\n",
              "        text-align: right;\n",
              "    }\n",
              "</style>\n",
              "<table border=\"1\" class=\"dataframe\">\n",
              "  <thead>\n",
              "    <tr style=\"text-align: right;\">\n",
              "      <th></th>\n",
              "      <th>purchase_frequency</th>\n",
              "      <th>avg_spent</th>\n",
              "      <th>top_category</th>\n",
              "      <th>store_time</th>\n",
              "      <th>app_usage</th>\n",
              "    </tr>\n",
              "  </thead>\n",
              "  <tbody>\n",
              "    <tr>\n",
              "      <th>0</th>\n",
              "      <td>6</td>\n",
              "      <td>264.693919</td>\n",
              "      <td>1</td>\n",
              "      <td>10.741316</td>\n",
              "      <td>2</td>\n",
              "    </tr>\n",
              "    <tr>\n",
              "      <th>1</th>\n",
              "      <td>6</td>\n",
              "      <td>154.865295</td>\n",
              "      <td>2</td>\n",
              "      <td>54.727444</td>\n",
              "      <td>2</td>\n",
              "    </tr>\n",
              "    <tr>\n",
              "      <th>2</th>\n",
              "      <td>5</td>\n",
              "      <td>212.729267</td>\n",
              "      <td>4</td>\n",
              "      <td>9.244390</td>\n",
              "      <td>4</td>\n",
              "    </tr>\n",
              "    <tr>\n",
              "      <th>3</th>\n",
              "      <td>5</td>\n",
              "      <td>270.765917</td>\n",
              "      <td>3</td>\n",
              "      <td>11.176717</td>\n",
              "      <td>5</td>\n",
              "    </tr>\n",
              "    <tr>\n",
              "      <th>4</th>\n",
              "      <td>4</td>\n",
              "      <td>85.332091</td>\n",
              "      <td>2</td>\n",
              "      <td>17.059377</td>\n",
              "      <td>2</td>\n",
              "    </tr>\n",
              "  </tbody>\n",
              "</table>\n",
              "</div>"
            ],
            "text/plain": [
              "   purchase_frequency   avg_spent  top_category  store_time  app_usage\n",
              "0                   6  264.693919             1   10.741316          2\n",
              "1                   6  154.865295             2   54.727444          2\n",
              "2                   5  212.729267             4    9.244390          4\n",
              "3                   5  270.765917             3   11.176717          5\n",
              "4                   4   85.332091             2   17.059377          2"
            ]
          },
          "execution_count": 12,
          "metadata": {},
          "output_type": "execute_result"
        }
      ],
      "source": [
        "df = pd.read_csv(os.path.join(path_folder, \"dataset.csv\"), sep=\",\")\n",
        "print(df.shape)\n",
        "df.head()"
      ]
    },
    {
      "cell_type": "code",
      "execution_count": 14,
      "id": "2c21b38d",
      "metadata": {
        "colab": {
          "base_uri": "https://localhost:8080/",
          "height": 238
        },
        "id": "2c21b38d",
        "outputId": "f123c177-7481-4f92-d9b5-eff2964e4d21"
      },
      "outputs": [
        {
          "data": {
            "application/vnd.google.colaboratory.intrinsic+json": {
              "summary": "{\n  \"name\": \"df\",\n  \"rows\": 500,\n  \"fields\": [\n    {\n      \"column\": \"purchase_frequency\",\n      \"properties\": {\n        \"dtype\": \"number\",\n        \"std\": 4,\n        \"min\": 1,\n        \"max\": 14,\n        \"num_unique_values\": 14,\n        \"samples\": [\n          13,\n          9,\n          6\n        ],\n        \"semantic_type\": \"\",\n        \"description\": \"\"\n      }\n    },\n    {\n      \"column\": \"avg_spent\",\n      \"properties\": {\n        \"dtype\": \"number\",\n        \"std\": 130.56483485194957,\n        \"min\": 50.03797951371076,\n        \"max\": 499.5808636331346,\n        \"num_unique_values\": 500,\n        \"samples\": [\n          316.9338522332442,\n          269.52881187240945,\n          311.01770319327244\n        ],\n        \"semantic_type\": \"\",\n        \"description\": \"\"\n      }\n    },\n    {\n      \"column\": \"top_category\",\n      \"properties\": {\n        \"dtype\": \"number\",\n        \"std\": 2,\n        \"min\": 1,\n        \"max\": 10,\n        \"num_unique_values\": 10,\n        \"samples\": [\n          8,\n          2,\n          6\n        ],\n        \"semantic_type\": \"\",\n        \"description\": \"\"\n      }\n    },\n    {\n      \"column\": \"store_time\",\n      \"properties\": {\n        \"dtype\": \"number\",\n        \"std\": 33.507111993047864,\n        \"min\": 5.3201790666361735,\n        \"max\": 119.78269631394956,\n        \"num_unique_values\": 500,\n        \"samples\": [\n          86.00373889384281,\n          42.70918242975731,\n          81.51256951103613\n        ],\n        \"semantic_type\": \"\",\n        \"description\": \"\"\n      }\n    },\n    {\n      \"column\": \"app_usage\",\n      \"properties\": {\n        \"dtype\": \"number\",\n        \"std\": 2,\n        \"min\": 1,\n        \"max\": 10,\n        \"num_unique_values\": 10,\n        \"samples\": [\n          8,\n          4,\n          6\n        ],\n        \"semantic_type\": \"\",\n        \"description\": \"\"\n      }\n    }\n  ]\n}",
              "type": "dataframe",
              "variable_name": "df"
            },
            "text/html": [
              "\n",
              "  <div id=\"df-a340ae37-d74d-4332-95be-bba1b2728556\" class=\"colab-df-container\">\n",
              "    <div>\n",
              "<style scoped>\n",
              "    .dataframe tbody tr th:only-of-type {\n",
              "        vertical-align: middle;\n",
              "    }\n",
              "\n",
              "    .dataframe tbody tr th {\n",
              "        vertical-align: top;\n",
              "    }\n",
              "\n",
              "    .dataframe thead th {\n",
              "        text-align: right;\n",
              "    }\n",
              "</style>\n",
              "<table border=\"1\" class=\"dataframe\">\n",
              "  <thead>\n",
              "    <tr style=\"text-align: right;\">\n",
              "      <th></th>\n",
              "      <th>purchase_frequency</th>\n",
              "      <th>avg_spent</th>\n",
              "      <th>top_category</th>\n",
              "      <th>store_time</th>\n",
              "      <th>app_usage</th>\n",
              "    </tr>\n",
              "  </thead>\n",
              "  <tbody>\n",
              "    <tr>\n",
              "      <th>0</th>\n",
              "      <td>6</td>\n",
              "      <td>264.693919</td>\n",
              "      <td>1</td>\n",
              "      <td>10.741316</td>\n",
              "      <td>2</td>\n",
              "    </tr>\n",
              "    <tr>\n",
              "      <th>1</th>\n",
              "      <td>6</td>\n",
              "      <td>154.865295</td>\n",
              "      <td>2</td>\n",
              "      <td>54.727444</td>\n",
              "      <td>2</td>\n",
              "    </tr>\n",
              "    <tr>\n",
              "      <th>2</th>\n",
              "      <td>5</td>\n",
              "      <td>212.729267</td>\n",
              "      <td>4</td>\n",
              "      <td>9.244390</td>\n",
              "      <td>4</td>\n",
              "    </tr>\n",
              "    <tr>\n",
              "      <th>3</th>\n",
              "      <td>5</td>\n",
              "      <td>270.765917</td>\n",
              "      <td>3</td>\n",
              "      <td>11.176717</td>\n",
              "      <td>5</td>\n",
              "    </tr>\n",
              "    <tr>\n",
              "      <th>4</th>\n",
              "      <td>4</td>\n",
              "      <td>85.332091</td>\n",
              "      <td>2</td>\n",
              "      <td>17.059377</td>\n",
              "      <td>2</td>\n",
              "    </tr>\n",
              "  </tbody>\n",
              "</table>\n",
              "</div>\n",
              "    <div class=\"colab-df-buttons\">\n",
              "\n",
              "  <div class=\"colab-df-container\">\n",
              "    <button class=\"colab-df-convert\" onclick=\"convertToInteractive('df-a340ae37-d74d-4332-95be-bba1b2728556')\"\n",
              "            title=\"Convert this dataframe to an interactive table.\"\n",
              "            style=\"display:none;\">\n",
              "\n",
              "  <svg xmlns=\"http://www.w3.org/2000/svg\" height=\"24px\" viewBox=\"0 -960 960 960\">\n",
              "    <path d=\"M120-120v-720h720v720H120Zm60-500h600v-160H180v160Zm220 220h160v-160H400v160Zm0 220h160v-160H400v160ZM180-400h160v-160H180v160Zm440 0h160v-160H620v160ZM180-180h160v-160H180v160Zm440 0h160v-160H620v160Z\"/>\n",
              "  </svg>\n",
              "    </button>\n",
              "\n",
              "  <style>\n",
              "    .colab-df-container {\n",
              "      display:flex;\n",
              "      gap: 12px;\n",
              "    }\n",
              "\n",
              "    .colab-df-convert {\n",
              "      background-color: #E8F0FE;\n",
              "      border: none;\n",
              "      border-radius: 50%;\n",
              "      cursor: pointer;\n",
              "      display: none;\n",
              "      fill: #1967D2;\n",
              "      height: 32px;\n",
              "      padding: 0 0 0 0;\n",
              "      width: 32px;\n",
              "    }\n",
              "\n",
              "    .colab-df-convert:hover {\n",
              "      background-color: #E2EBFA;\n",
              "      box-shadow: 0px 1px 2px rgba(60, 64, 67, 0.3), 0px 1px 3px 1px rgba(60, 64, 67, 0.15);\n",
              "      fill: #174EA6;\n",
              "    }\n",
              "\n",
              "    .colab-df-buttons div {\n",
              "      margin-bottom: 4px;\n",
              "    }\n",
              "\n",
              "    [theme=dark] .colab-df-convert {\n",
              "      background-color: #3B4455;\n",
              "      fill: #D2E3FC;\n",
              "    }\n",
              "\n",
              "    [theme=dark] .colab-df-convert:hover {\n",
              "      background-color: #434B5C;\n",
              "      box-shadow: 0px 1px 3px 1px rgba(0, 0, 0, 0.15);\n",
              "      filter: drop-shadow(0px 1px 2px rgba(0, 0, 0, 0.3));\n",
              "      fill: #FFFFFF;\n",
              "    }\n",
              "  </style>\n",
              "\n",
              "    <script>\n",
              "      const buttonEl =\n",
              "        document.querySelector('#df-a340ae37-d74d-4332-95be-bba1b2728556 button.colab-df-convert');\n",
              "      buttonEl.style.display =\n",
              "        google.colab.kernel.accessAllowed ? 'block' : 'none';\n",
              "\n",
              "      async function convertToInteractive(key) {\n",
              "        const element = document.querySelector('#df-a340ae37-d74d-4332-95be-bba1b2728556');\n",
              "        const dataTable =\n",
              "          await google.colab.kernel.invokeFunction('convertToInteractive',\n",
              "                                                    [key], {});\n",
              "        if (!dataTable) return;\n",
              "\n",
              "        const docLinkHtml = 'Like what you see? Visit the ' +\n",
              "          '<a target=\"_blank\" href=https://colab.research.google.com/notebooks/data_table.ipynb>data table notebook</a>'\n",
              "          + ' to learn more about interactive tables.';\n",
              "        element.innerHTML = '';\n",
              "        dataTable['output_type'] = 'display_data';\n",
              "        await google.colab.output.renderOutput(dataTable, element);\n",
              "        const docLink = document.createElement('div');\n",
              "        docLink.innerHTML = docLinkHtml;\n",
              "        element.appendChild(docLink);\n",
              "      }\n",
              "    </script>\n",
              "  </div>\n",
              "\n",
              "\n",
              "<div id=\"df-65d93174-320f-4756-b72a-d1a31834d0bc\">\n",
              "  <button class=\"colab-df-quickchart\" onclick=\"quickchart('df-65d93174-320f-4756-b72a-d1a31834d0bc')\"\n",
              "            title=\"Suggest charts\"\n",
              "            style=\"display:none;\">\n",
              "\n",
              "<svg xmlns=\"http://www.w3.org/2000/svg\" height=\"24px\"viewBox=\"0 0 24 24\"\n",
              "     width=\"24px\">\n",
              "    <g>\n",
              "        <path d=\"M19 3H5c-1.1 0-2 .9-2 2v14c0 1.1.9 2 2 2h14c1.1 0 2-.9 2-2V5c0-1.1-.9-2-2-2zM9 17H7v-7h2v7zm4 0h-2V7h2v10zm4 0h-2v-4h2v4z\"/>\n",
              "    </g>\n",
              "</svg>\n",
              "  </button>\n",
              "\n",
              "<style>\n",
              "  .colab-df-quickchart {\n",
              "      --bg-color: #E8F0FE;\n",
              "      --fill-color: #1967D2;\n",
              "      --hover-bg-color: #E2EBFA;\n",
              "      --hover-fill-color: #174EA6;\n",
              "      --disabled-fill-color: #AAA;\n",
              "      --disabled-bg-color: #DDD;\n",
              "  }\n",
              "\n",
              "  [theme=dark] .colab-df-quickchart {\n",
              "      --bg-color: #3B4455;\n",
              "      --fill-color: #D2E3FC;\n",
              "      --hover-bg-color: #434B5C;\n",
              "      --hover-fill-color: #FFFFFF;\n",
              "      --disabled-bg-color: #3B4455;\n",
              "      --disabled-fill-color: #666;\n",
              "  }\n",
              "\n",
              "  .colab-df-quickchart {\n",
              "    background-color: var(--bg-color);\n",
              "    border: none;\n",
              "    border-radius: 50%;\n",
              "    cursor: pointer;\n",
              "    display: none;\n",
              "    fill: var(--fill-color);\n",
              "    height: 32px;\n",
              "    padding: 0;\n",
              "    width: 32px;\n",
              "  }\n",
              "\n",
              "  .colab-df-quickchart:hover {\n",
              "    background-color: var(--hover-bg-color);\n",
              "    box-shadow: 0 1px 2px rgba(60, 64, 67, 0.3), 0 1px 3px 1px rgba(60, 64, 67, 0.15);\n",
              "    fill: var(--button-hover-fill-color);\n",
              "  }\n",
              "\n",
              "  .colab-df-quickchart-complete:disabled,\n",
              "  .colab-df-quickchart-complete:disabled:hover {\n",
              "    background-color: var(--disabled-bg-color);\n",
              "    fill: var(--disabled-fill-color);\n",
              "    box-shadow: none;\n",
              "  }\n",
              "\n",
              "  .colab-df-spinner {\n",
              "    border: 2px solid var(--fill-color);\n",
              "    border-color: transparent;\n",
              "    border-bottom-color: var(--fill-color);\n",
              "    animation:\n",
              "      spin 1s steps(1) infinite;\n",
              "  }\n",
              "\n",
              "  @keyframes spin {\n",
              "    0% {\n",
              "      border-color: transparent;\n",
              "      border-bottom-color: var(--fill-color);\n",
              "      border-left-color: var(--fill-color);\n",
              "    }\n",
              "    20% {\n",
              "      border-color: transparent;\n",
              "      border-left-color: var(--fill-color);\n",
              "      border-top-color: var(--fill-color);\n",
              "    }\n",
              "    30% {\n",
              "      border-color: transparent;\n",
              "      border-left-color: var(--fill-color);\n",
              "      border-top-color: var(--fill-color);\n",
              "      border-right-color: var(--fill-color);\n",
              "    }\n",
              "    40% {\n",
              "      border-color: transparent;\n",
              "      border-right-color: var(--fill-color);\n",
              "      border-top-color: var(--fill-color);\n",
              "    }\n",
              "    60% {\n",
              "      border-color: transparent;\n",
              "      border-right-color: var(--fill-color);\n",
              "    }\n",
              "    80% {\n",
              "      border-color: transparent;\n",
              "      border-right-color: var(--fill-color);\n",
              "      border-bottom-color: var(--fill-color);\n",
              "    }\n",
              "    90% {\n",
              "      border-color: transparent;\n",
              "      border-bottom-color: var(--fill-color);\n",
              "    }\n",
              "  }\n",
              "</style>\n",
              "\n",
              "  <script>\n",
              "    async function quickchart(key) {\n",
              "      const quickchartButtonEl =\n",
              "        document.querySelector('#' + key + ' button');\n",
              "      quickchartButtonEl.disabled = true;  // To prevent multiple clicks.\n",
              "      quickchartButtonEl.classList.add('colab-df-spinner');\n",
              "      try {\n",
              "        const charts = await google.colab.kernel.invokeFunction(\n",
              "            'suggestCharts', [key], {});\n",
              "      } catch (error) {\n",
              "        console.error('Error during call to suggestCharts:', error);\n",
              "      }\n",
              "      quickchartButtonEl.classList.remove('colab-df-spinner');\n",
              "      quickchartButtonEl.classList.add('colab-df-quickchart-complete');\n",
              "    }\n",
              "    (() => {\n",
              "      let quickchartButtonEl =\n",
              "        document.querySelector('#df-65d93174-320f-4756-b72a-d1a31834d0bc button');\n",
              "      quickchartButtonEl.style.display =\n",
              "        google.colab.kernel.accessAllowed ? 'block' : 'none';\n",
              "    })();\n",
              "  </script>\n",
              "</div>\n",
              "\n",
              "    </div>\n",
              "  </div>\n"
            ],
            "text/plain": [
              "   purchase_frequency   avg_spent  top_category  store_time  app_usage\n",
              "0                   6  264.693919             1   10.741316          2\n",
              "1                   6  154.865295             2   54.727444          2\n",
              "2                   5  212.729267             4    9.244390          4\n",
              "3                   5  270.765917             3   11.176717          5\n",
              "4                   4   85.332091             2   17.059377          2"
            ]
          },
          "execution_count": 14,
          "metadata": {},
          "output_type": "execute_result"
        }
      ],
      "source": []
    },
    {
      "cell_type": "code",
      "execution_count": 13,
      "id": "866f3526",
      "metadata": {
        "colab": {
          "base_uri": "https://localhost:8080/"
        },
        "id": "866f3526",
        "outputId": "96e83f68-b020-44f5-e55f-8a627fea858d"
      },
      "outputs": [
        {
          "name": "stdout",
          "output_type": "stream",
          "text": [
            "<class 'pandas.core.frame.DataFrame'>\n",
            "RangeIndex: 500 entries, 0 to 499\n",
            "Data columns (total 5 columns):\n",
            " #   Column              Non-Null Count  Dtype  \n",
            "---  ------              --------------  -----  \n",
            " 0   purchase_frequency  500 non-null    int64  \n",
            " 1   avg_spent           500 non-null    float64\n",
            " 2   top_category        500 non-null    int64  \n",
            " 3   store_time          500 non-null    float64\n",
            " 4   app_usage           500 non-null    int64  \n",
            "dtypes: float64(2), int64(3)\n",
            "memory usage: 19.7 KB\n"
          ]
        }
      ],
      "source": [
        "df.info()"
      ]
    },
    {
      "cell_type": "markdown",
      "id": "c7e56e26",
      "metadata": {
        "id": "c7e56e26"
      },
      "source": [
        "\n",
        "## **Checking Data Adequacy with Bartlett's Test of Sphericity**\n",
        "\n",
        "The `calculate_bartlett_sphericity()` function is often used in Factor Analysis to test the hypothesis of Bartlett’s sphericity. Sphericity refers to the suitability of the data for factor analysis. If the data are perfectly spherical, it indicates that factor analysis may not be suitable because the variables are not correlated.\n",
        "\n",
        "Here's how to interpret the result of this function:\n",
        "\n",
        "**Test Statistic**: This quantifies how much your data differ from sphericity. Higher values indicate that the variables have significant correlations with each other, making factor analysis potentially appropriate.\n",
        "\n",
        "**P-value**: As in most statistical tests, the p-value helps determine the significance of the test. A low p-value (typically less than 0.05) rejects the null hypothesis of sphericity, indicating that the variables are correlated and factor analysis may be appropriate. A high p-value suggests that the data are close to sphericity, meaning the variables are not strongly correlated, which may make factor analysis less appropriate.\n",
        "\n",
        "In summary, to proceed with factor analysis:\n",
        "\n",
        "- If the p-value is less than 0.05 (or another chosen significance threshold), this indicates that the variables are sufficiently correlated, making factor analysis appropriate.\n",
        "- If the p-value is greater than 0.05, caution should be exercised when proceeding with factor analysis, as the variables may not be sufficiently correlated.\n",
        "\n",
        "However, remember that the decision to proceed with factor analysis should not be based solely on Bartlett's test of sphericity. Other considerations and tests, such as the Kaiser-Meyer-Olkin (KMO) test, should also be taken into account when assessing the suitability of factor analysis."
      ]
    },
    {
      "cell_type": "code",
      "execution_count": 14,
      "id": "be7cf796",
      "metadata": {
        "id": "be7cf796"
      },
      "outputs": [],
      "source": [
        "# Checking data adequacy\n",
        "chi_square_value, p_value = calculate_bartlett_sphericity(df)"
      ]
    },
    {
      "cell_type": "code",
      "execution_count": 15,
      "id": "d6cf935e",
      "metadata": {
        "colab": {
          "base_uri": "https://localhost:8080/"
        },
        "id": "d6cf935e",
        "outputId": "e0d9c44f-3212-4f29-eb74-b1863a0dc4f2"
      },
      "outputs": [
        {
          "name": "stdout",
          "output_type": "stream",
          "text": [
            "Test Statistic: 2052.929448184789 \n",
            "P-value: 0.0\n"
          ]
        }
      ],
      "source": [
        "print('Test Statistic:', chi_square_value, '\\nP-value:', p_value)"
      ]
    },
    {
      "cell_type": "markdown",
      "id": "c7ce63e0",
      "metadata": {
        "id": "c7ce63e0"
      },
      "source": [
        "> If the p-value is less than 0.05, the data are suitable for factor analysis.\n"
      ]
    },
    {
      "cell_type": "markdown",
      "id": "e4622d84",
      "metadata": {
        "id": "e4622d84"
      },
      "source": [
        "## **Checking Data Adequacy with the Kaiser-Meyer-Olkin (KMO) Test**\n",
        "\n",
        "The Kaiser-Meyer-Olkin (KMO) test is another measure of adequacy for Factor Analysis (or Principal Component Analysis). The KMO test assesses the proportion of variance among the observed variables that can be attributed to underlying factors.\n",
        "\n",
        "The KMO measure is a value that ranges from 0 to 1. Values close to 1 indicate that the partial correlations among variables are small compared to the total correlations, suggesting that the factor structure is strong and clear. Values close to 0 suggest the opposite.\n",
        "\n",
        "Here's how to interpret KMO values:\n",
        "\n",
        "- **KMO Value Less than 0.50**: Inadequate for factor analysis.\n",
        "- **KMO Value between 0.50 and 0.70**: Mediocre. Factor analysis may not be very useful but can still be performed.\n",
        "- **KMO Value between 0.70 and 0.80**: Good. This suggests that factor analysis should be useful with the data.\n",
        "- **KMO Value between 0.80 and 0.90**: Great. Indicates that the factor structure of the data is strong.\n",
        "- **KMO Value above 0.90**: Excellent. A strong indication for factor analysis.\n",
        "\n",
        "In addition to the overall KMO measure, many implementations of the KMO test also provide individual KMO measures for each variable. Individual variables with KMO values below 0.50 can be considered for exclusion from the analysis, as they are not well correlated with the other variables.\n"
      ]
    },
    {
      "cell_type": "code",
      "execution_count": 17,
      "id": "6116fb6b",
      "metadata": {
        "id": "6116fb6b"
      },
      "outputs": [
        {
          "name": "stdout",
          "output_type": "stream",
          "text": [
            "Global KMO: 0.9119977905988941\n",
            "KMO Per Variable: [0.91498647 0.91967945 0.90208801 0.91444814 0.90950008]\n"
          ]
        }
      ],
      "source": [
        "# Checking data adequacy using the Kaiser-Meyer-Olkin (KMO) test\n",
        "kmo_all, kmo_model = calculate_kmo(df)\n",
        "print('Global KMO:', kmo_model)\n",
        "print('KMO Per Variable:', kmo_all)"
      ]
    },
    {
      "cell_type": "markdown",
      "id": "1d818d0f",
      "metadata": {
        "id": "1d818d0f"
      },
      "source": [
        "If the overall KMO value is greater than 0.6, factor analysis can be considered useful.\n"
      ]
    },
    {
      "cell_type": "markdown",
      "id": "cc345b0d",
      "metadata": {
        "id": "cc345b0d"
      },
      "source": [
        "---\n",
        "## **Factor Analysis**\n",
        "\n",
        "When using `FactorAnalyzer` to perform Factor Analysis, you are attempting to identify latent factors (not directly observed) that can explain the variation and covariation among the observed variables in your dataset.\n"
      ]
    },
    {
      "cell_type": "code",
      "execution_count": 18,
      "id": "39eb7e85",
      "metadata": {
        "id": "39eb7e85"
      },
      "outputs": [],
      "source": [
        "# Create the factor analyzer\n",
        "fa = FactorAnalyzer(rotation=\"varimax\")"
      ]
    },
    {
      "cell_type": "code",
      "execution_count": 19,
      "id": "7ad87a07",
      "metadata": {
        "colab": {
          "base_uri": "https://localhost:8080/",
          "height": 85
        },
        "id": "7ad87a07",
        "outputId": "999044f2-c86b-4d2a-940d-baecd1b3b1a2"
      },
      "outputs": [
        {
          "data": {
            "text/html": [
              "<style>#sk-container-id-1 {color: black;background-color: white;}#sk-container-id-1 pre{padding: 0;}#sk-container-id-1 div.sk-toggleable {background-color: white;}#sk-container-id-1 label.sk-toggleable__label {cursor: pointer;display: block;width: 100%;margin-bottom: 0;padding: 0.3em;box-sizing: border-box;text-align: center;}#sk-container-id-1 label.sk-toggleable__label-arrow:before {content: \"▸\";float: left;margin-right: 0.25em;color: #696969;}#sk-container-id-1 label.sk-toggleable__label-arrow:hover:before {color: black;}#sk-container-id-1 div.sk-estimator:hover label.sk-toggleable__label-arrow:before {color: black;}#sk-container-id-1 div.sk-toggleable__content {max-height: 0;max-width: 0;overflow: hidden;text-align: left;background-color: #f0f8ff;}#sk-container-id-1 div.sk-toggleable__content pre {margin: 0.2em;color: black;border-radius: 0.25em;background-color: #f0f8ff;}#sk-container-id-1 input.sk-toggleable__control:checked~div.sk-toggleable__content {max-height: 200px;max-width: 100%;overflow: auto;}#sk-container-id-1 input.sk-toggleable__control:checked~label.sk-toggleable__label-arrow:before {content: \"▾\";}#sk-container-id-1 div.sk-estimator input.sk-toggleable__control:checked~label.sk-toggleable__label {background-color: #d4ebff;}#sk-container-id-1 div.sk-label input.sk-toggleable__control:checked~label.sk-toggleable__label {background-color: #d4ebff;}#sk-container-id-1 input.sk-hidden--visually {border: 0;clip: rect(1px 1px 1px 1px);clip: rect(1px, 1px, 1px, 1px);height: 1px;margin: -1px;overflow: hidden;padding: 0;position: absolute;width: 1px;}#sk-container-id-1 div.sk-estimator {font-family: monospace;background-color: #f0f8ff;border: 1px dotted black;border-radius: 0.25em;box-sizing: border-box;margin-bottom: 0.5em;}#sk-container-id-1 div.sk-estimator:hover {background-color: #d4ebff;}#sk-container-id-1 div.sk-parallel-item::after {content: \"\";width: 100%;border-bottom: 1px solid gray;flex-grow: 1;}#sk-container-id-1 div.sk-label:hover label.sk-toggleable__label {background-color: #d4ebff;}#sk-container-id-1 div.sk-serial::before {content: \"\";position: absolute;border-left: 1px solid gray;box-sizing: border-box;top: 0;bottom: 0;left: 50%;z-index: 0;}#sk-container-id-1 div.sk-serial {display: flex;flex-direction: column;align-items: center;background-color: white;padding-right: 0.2em;padding-left: 0.2em;position: relative;}#sk-container-id-1 div.sk-item {position: relative;z-index: 1;}#sk-container-id-1 div.sk-parallel {display: flex;align-items: stretch;justify-content: center;background-color: white;position: relative;}#sk-container-id-1 div.sk-item::before, #sk-container-id-1 div.sk-parallel-item::before {content: \"\";position: absolute;border-left: 1px solid gray;box-sizing: border-box;top: 0;bottom: 0;left: 50%;z-index: -1;}#sk-container-id-1 div.sk-parallel-item {display: flex;flex-direction: column;z-index: 1;position: relative;background-color: white;}#sk-container-id-1 div.sk-parallel-item:first-child::after {align-self: flex-end;width: 50%;}#sk-container-id-1 div.sk-parallel-item:last-child::after {align-self: flex-start;width: 50%;}#sk-container-id-1 div.sk-parallel-item:only-child::after {width: 0;}#sk-container-id-1 div.sk-dashed-wrapped {border: 1px dashed gray;margin: 0 0.4em 0.5em 0.4em;box-sizing: border-box;padding-bottom: 0.4em;background-color: white;}#sk-container-id-1 div.sk-label label {font-family: monospace;font-weight: bold;display: inline-block;line-height: 1.2em;}#sk-container-id-1 div.sk-label-container {text-align: center;}#sk-container-id-1 div.sk-container {/* jupyter's `normalize.less` sets `[hidden] { display: none; }` but bootstrap.min.css set `[hidden] { display: none !important; }` so we also need the `!important` here to be able to override the default hidden behavior on the sphinx rendered scikit-learn.org. See: https://github.com/scikit-learn/scikit-learn/issues/21755 */display: inline-block !important;position: relative;}#sk-container-id-1 div.sk-text-repr-fallback {display: none;}</style><div id=\"sk-container-id-1\" class=\"sk-top-container\"><div class=\"sk-text-repr-fallback\"><pre>FactorAnalyzer(rotation=&#x27;varimax&#x27;, rotation_kwargs={})</pre><b>In a Jupyter environment, please rerun this cell to show the HTML representation or trust the notebook. <br />On GitHub, the HTML representation is unable to render, please try loading this page with nbviewer.org.</b></div><div class=\"sk-container\" hidden><div class=\"sk-item\"><div class=\"sk-estimator sk-toggleable\"><input class=\"sk-toggleable__control sk-hidden--visually\" id=\"sk-estimator-id-1\" type=\"checkbox\" checked><label for=\"sk-estimator-id-1\" class=\"sk-toggleable__label sk-toggleable__label-arrow\">FactorAnalyzer</label><div class=\"sk-toggleable__content\"><pre>FactorAnalyzer(rotation=&#x27;varimax&#x27;, rotation_kwargs={})</pre></div></div></div></div></div>"
            ],
            "text/plain": [
              "FactorAnalyzer(rotation='varimax', rotation_kwargs={})"
            ]
          },
          "execution_count": 19,
          "metadata": {},
          "output_type": "execute_result"
        }
      ],
      "source": [
        "# Fit the factor analyzer\n",
        "fa.fit(df)"
      ]
    },
    {
      "cell_type": "markdown",
      "id": "91b8b3f5",
      "metadata": {
        "id": "91b8b3f5"
      },
      "source": [
        "> Based on the elbow plot, we can choose the number of factors where the values start to stabilize.\n"
      ]
    },
    {
      "cell_type": "code",
      "execution_count": 20,
      "id": "d54ccab0",
      "metadata": {
        "colab": {
          "base_uri": "https://localhost:8080/",
          "height": 472
        },
        "id": "d54ccab0",
        "outputId": "b3306940-aead-4b86-aee3-a8efdaa7513b"
      },
      "outputs": [
        {
          "data": {
            "image/png": "[encoded data removed]",
            "text/plain": [
              "<Figure size 640x480 with 1 Axes>"
            ]
          },
          "metadata": {},
          "output_type": "display_data"
        }
      ],
      "source": [
        "# Checking the eigenvalues\n",
        "eigen_values, vectors = fa.get_eigenvalues()\n",
        "plt.scatter(range(1, df.shape[1] + 1), eigen_values)\n",
        "plt.plot(range(1, df.shape[1] + 1), eigen_values)\n",
        "plt.title('Elbow Plot')\n",
        "plt.xlabel('Factors')\n",
        "plt.ylabel('Eigenvalue')\n",
        "plt.grid()\n",
        "plt.show()"
      ]
    },
    {
      "cell_type": "code",
      "execution_count": 21,
      "id": "0d4701fe",
      "metadata": {
        "id": "0d4701fe"
      },
      "outputs": [
        {
          "data": {
            "text/html": [
              "<style>#sk-container-id-2 {color: black;background-color: white;}#sk-container-id-2 pre{padding: 0;}#sk-container-id-2 div.sk-toggleable {background-color: white;}#sk-container-id-2 label.sk-toggleable__label {cursor: pointer;display: block;width: 100%;margin-bottom: 0;padding: 0.3em;box-sizing: border-box;text-align: center;}#sk-container-id-2 label.sk-toggleable__label-arrow:before {content: \"▸\";float: left;margin-right: 0.25em;color: #696969;}#sk-container-id-2 label.sk-toggleable__label-arrow:hover:before {color: black;}#sk-container-id-2 div.sk-estimator:hover label.sk-toggleable__label-arrow:before {color: black;}#sk-container-id-2 div.sk-toggleable__content {max-height: 0;max-width: 0;overflow: hidden;text-align: left;background-color: #f0f8ff;}#sk-container-id-2 div.sk-toggleable__content pre {margin: 0.2em;color: black;border-radius: 0.25em;background-color: #f0f8ff;}#sk-container-id-2 input.sk-toggleable__control:checked~div.sk-toggleable__content {max-height: 200px;max-width: 100%;overflow: auto;}#sk-container-id-2 input.sk-toggleable__control:checked~label.sk-toggleable__label-arrow:before {content: \"▾\";}#sk-container-id-2 div.sk-estimator input.sk-toggleable__control:checked~label.sk-toggleable__label {background-color: #d4ebff;}#sk-container-id-2 div.sk-label input.sk-toggleable__control:checked~label.sk-toggleable__label {background-color: #d4ebff;}#sk-container-id-2 input.sk-hidden--visually {border: 0;clip: rect(1px 1px 1px 1px);clip: rect(1px, 1px, 1px, 1px);height: 1px;margin: -1px;overflow: hidden;padding: 0;position: absolute;width: 1px;}#sk-container-id-2 div.sk-estimator {font-family: monospace;background-color: #f0f8ff;border: 1px dotted black;border-radius: 0.25em;box-sizing: border-box;margin-bottom: 0.5em;}#sk-container-id-2 div.sk-estimator:hover {background-color: #d4ebff;}#sk-container-id-2 div.sk-parallel-item::after {content: \"\";width: 100%;border-bottom: 1px solid gray;flex-grow: 1;}#sk-container-id-2 div.sk-label:hover label.sk-toggleable__label {background-color: #d4ebff;}#sk-container-id-2 div.sk-serial::before {content: \"\";position: absolute;border-left: 1px solid gray;box-sizing: border-box;top: 0;bottom: 0;left: 50%;z-index: 0;}#sk-container-id-2 div.sk-serial {display: flex;flex-direction: column;align-items: center;background-color: white;padding-right: 0.2em;padding-left: 0.2em;position: relative;}#sk-container-id-2 div.sk-item {position: relative;z-index: 1;}#sk-container-id-2 div.sk-parallel {display: flex;align-items: stretch;justify-content: center;background-color: white;position: relative;}#sk-container-id-2 div.sk-item::before, #sk-container-id-2 div.sk-parallel-item::before {content: \"\";position: absolute;border-left: 1px solid gray;box-sizing: border-box;top: 0;bottom: 0;left: 50%;z-index: -1;}#sk-container-id-2 div.sk-parallel-item {display: flex;flex-direction: column;z-index: 1;position: relative;background-color: white;}#sk-container-id-2 div.sk-parallel-item:first-child::after {align-self: flex-end;width: 50%;}#sk-container-id-2 div.sk-parallel-item:last-child::after {align-self: flex-start;width: 50%;}#sk-container-id-2 div.sk-parallel-item:only-child::after {width: 0;}#sk-container-id-2 div.sk-dashed-wrapped {border: 1px dashed gray;margin: 0 0.4em 0.5em 0.4em;box-sizing: border-box;padding-bottom: 0.4em;background-color: white;}#sk-container-id-2 div.sk-label label {font-family: monospace;font-weight: bold;display: inline-block;line-height: 1.2em;}#sk-container-id-2 div.sk-label-container {text-align: center;}#sk-container-id-2 div.sk-container {/* jupyter's `normalize.less` sets `[hidden] { display: none; }` but bootstrap.min.css set `[hidden] { display: none !important; }` so we also need the `!important` here to be able to override the default hidden behavior on the sphinx rendered scikit-learn.org. See: https://github.com/scikit-learn/scikit-learn/issues/21755 */display: inline-block !important;position: relative;}#sk-container-id-2 div.sk-text-repr-fallback {display: none;}</style><div id=\"sk-container-id-2\" class=\"sk-top-container\"><div class=\"sk-text-repr-fallback\"><pre>FactorAnalyzer(n_factors=2, rotation=&#x27;varimax&#x27;, rotation_kwargs={})</pre><b>In a Jupyter environment, please rerun this cell to show the HTML representation or trust the notebook. <br />On GitHub, the HTML representation is unable to render, please try loading this page with nbviewer.org.</b></div><div class=\"sk-container\" hidden><div class=\"sk-item\"><div class=\"sk-estimator sk-toggleable\"><input class=\"sk-toggleable__control sk-hidden--visually\" id=\"sk-estimator-id-2\" type=\"checkbox\" checked><label for=\"sk-estimator-id-2\" class=\"sk-toggleable__label sk-toggleable__label-arrow\">FactorAnalyzer</label><div class=\"sk-toggleable__content\"><pre>FactorAnalyzer(n_factors=2, rotation=&#x27;varimax&#x27;, rotation_kwargs={})</pre></div></div></div></div></div>"
            ],
            "text/plain": [
              "FactorAnalyzer(n_factors=2, rotation='varimax', rotation_kwargs={})"
            ]
          },
          "execution_count": 21,
          "metadata": {},
          "output_type": "execute_result"
        }
      ],
      "source": [
        "import random\n",
        "random.seed(1)\n",
        "\n",
        "# Performing factor analysis with 2 factors\n",
        "fa = FactorAnalyzer(n_factors=2, rotation=\"varimax\")\n",
        "fa.fit(df)"
      ]
    },
    {
      "cell_type": "code",
      "execution_count": 22,
      "id": "4e31b2bb",
      "metadata": {
        "colab": {
          "base_uri": "https://localhost:8080/"
        },
        "id": "4e31b2bb",
        "outputId": "914909c7-204a-47c1-fe9c-c379d01c031e"
      },
      "outputs": [
        {
          "name": "stdout",
          "output_type": "stream",
          "text": [
            "[[0.77025527 0.3985401 ]\n",
            " [0.73479724 0.4260281 ]\n",
            " [0.53652225 0.84092422]\n",
            " [0.74905294 0.42623636]\n",
            " [0.7418765  0.44453942]]\n"
          ]
        }
      ],
      "source": [
        "# Checking the factor loadings\n",
        "loadings = fa.loadings_\n",
        "print(loadings)"
      ]
    },
    {
      "cell_type": "code",
      "execution_count": 23,
      "id": "9105f7b7",
      "metadata": {
        "colab": {
          "base_uri": "https://localhost:8080/"
        },
        "id": "9105f7b7",
        "outputId": "d09ad6a2-23e0-4142-b5fa-948b451dc4f5"
      },
      "outputs": [
        {
          "data": {
            "text/plain": [
              "array([0.7521274 , 0.72142692, 0.99500967, 0.74275775, 0.74799604])"
            ]
          },
          "execution_count": 23,
          "metadata": {},
          "output_type": "execute_result"
        }
      ],
      "source": [
        "# Communalities\n",
        "fa.get_communalities()"
      ]
    },
    {
      "cell_type": "markdown",
      "id": "94c945ce",
      "metadata": {
        "id": "94c945ce"
      },
      "source": [
        "\n",
        "> Let's analyze the output and interpret it step-by-step:\n",
        "\n",
        "### **Factor Loadings:**\n",
        "\n",
        "After fitting the analyzer (`fa.fit(df)`), you can obtain the factor loadings with `fa.loadings_`. Factor loadings indicate the linear relationship between each variable and the factor. A high loading value (in absolute terms) indicates that the variable is strongly related to the factor. The sign of the factor loading indicates the direction of the relationship.\n",
        "\n",
        "### **Eigenvalues:**\n",
        "\n",
        "You can check the eigenvalues with `fa.eigenvalues_`. They represent the amount of variance explained by each factor. Commonly, the \"Kaiser criterion\" is used, where only factors with eigenvalues close to 1 are considered significant. However, this is just a heuristic, and other techniques, such as analyzing the elbow plot, can also be used.\n",
        "\n",
        "### **Explained Variance:**\n",
        "\n",
        "This indicates the proportion of total variance in the data explained by the extracted factors. In factor analysis, we usually look for a smaller set of factors that still capture a good proportion of the total variance in the data.\n",
        "\n",
        "### **Rotation:**\n",
        "\n",
        "Rotation is a technique used to make the output of factor analysis more interpretable. The Varimax rotation tries to maximize the variance of the factor loadings, making some loadings as close to 0 as possible and others as close to 1 or -1. This makes it easier to identify which variables are associated with which factors.\n",
        "\n",
        "### **Factor Scores:**\n",
        "\n",
        "After training the analyzer, you can use `fa.transform(df)` to obtain the factor scores for each observation in your dataset. Factor scores represent each observation's score on each factor.\n",
        "\n",
        "### **Communalities:**\n",
        "\n",
        "Communalities, which can be accessed with `fa.get_communalities()`, represent the proportion of variance in each variable explained by the factors. A value close to 1 indicates that the variable is well explained by the factors, while a value close to 0 indicates otherwise.\n"
      ]
    },
    {
      "cell_type": "code",
      "execution_count": 28,
      "id": "6e5a4f8a",
      "metadata": {
        "colab": {
          "base_uri": "https://localhost:8080/"
        },
        "id": "6e5a4f8a",
        "outputId": "fdee8436-35dd-430c-80f1-9c905a40d53f"
      },
      "outputs": [
        {
          "name": "stdout",
          "output_type": "stream",
          "text": [
            "[[0.77025527 0.3985401 ]\n",
            " [0.73479724 0.4260281 ]\n",
            " [0.53652225 0.84092422]\n",
            " [0.74905294 0.42623636]\n",
            " [0.7418765  0.44453942]]\n"
          ]
        }
      ],
      "source": [
        "# Checking the factor loadings\n",
        "loadings = fa.loadings_\n",
        "print(loadings)"
      ]
    },
    {
      "cell_type": "code",
      "execution_count": 24,
      "id": "8ef7bd58",
      "metadata": {
        "colab": {
          "base_uri": "https://localhost:8080/"
        },
        "id": "8ef7bd58",
        "outputId": "77d6749f-bdd8-43e2-ffd6-10339e4f72d4"
      },
      "outputs": [
        {
          "name": "stdout",
          "output_type": "stream",
          "text": [
            "['purchase_frequency', 'avg_spent', 'top_category', 'store_time', 'app_usage']\n"
          ]
        }
      ],
      "source": [
        "print(list(df.columns))"
      ]
    },
    {
      "cell_type": "markdown",
      "id": "fee393af",
      "metadata": {
        "id": "fee393af"
      },
      "source": [
        "### **Interpretation:**\n",
        "\n",
        "- **Factor 1 (F1):** This factor has strong factor loadings for `purchase_frequency`, `avg_spent`, `store_time`, and `app_usage`, suggesting that this factor may be related to \"overall customer engagement\" or \"intensity of the customer's relationship with the store.\" It may represent customers who not only purchase frequently but also spend more time in the store, spend a consistent average amount, and frequently use the app.\n",
        "\n",
        "- **Factor 2 (F2):** This factor has a very strong factor loading for `top_category`, suggesting that it may be related to \"customer loyalty to a product type or brand.\" It could represent customers who are looking for specific products or brands and are not solely focused on the product's price.\n",
        "\n",
        "Remember that the interpretation of factors depends not only on the loadings but also on the business context and substantial domain knowledge. The above interpretation is strictly based on the factor loading values from our model and should be adjusted based on additional information about the customers and the store.\n"
      ]
    },
    {
      "cell_type": "code",
      "execution_count": 25,
      "id": "06f2d2f5",
      "metadata": {
        "colab": {
          "base_uri": "https://localhost:8080/"
        },
        "id": "06f2d2f5",
        "outputId": "6fbad93e-e8d8-42fe-f210-4b54b8295b81"
      },
      "outputs": [
        {
          "name": "stdout",
          "output_type": "stream",
          "text": [
            "Author: panData\n",
            "\n"
          ]
        }
      ],
      "source": [
        "%reload_ext watermark\n",
        "%watermark -a \"panData\""
      ]
    },
    {
      "cell_type": "code",
      "execution_count": 31,
      "id": "5e39b8d0",
      "metadata": {
        "id": "5e39b8d0"
      },
      "outputs": [],
      "source": [
        "#%watermark -v -m"
      ]
    },
    {
      "cell_type": "code",
      "execution_count": 32,
      "id": "9bf486ef",
      "metadata": {
        "id": "9bf486ef"
      },
      "outputs": [],
      "source": [
        "#%watermark --iversions"
      ]
    },
    {
      "cell_type": "markdown",
      "id": "349e1f1e",
      "metadata": {
        "id": "349e1f1e"
      },
      "source": [
        "# **The End**"
      ]
    }
  ],
  "metadata": {
    "colab": {
      "provenance": []
    },
    "kernelspec": {
      "display_name": "Python 3 (ipykernel)",
      "language": "python",
      "name": "python3"
    },
    "language_info": {
      "codemirror_mode": {
        "name": "ipython",
        "version": 3
      },
      "file_extension": ".py",
      "mimetype": "text/x-python",
      "name": "python",
      "nbconvert_exporter": "python",
      "pygments_lexer": "ipython3",
      "version": "3.10.12"
    }
  },
  "nbformat": 4,
  "nbformat_minor": 5
}

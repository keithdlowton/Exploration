{
 "cells": [
  {
   "cell_type": "markdown",
   "id": "cc1172c4",
   "metadata": {},
   "source": [
    "### Dynamic programming"
   ]
  },
  {
   "cell_type": "code",
   "execution_count": 65,
   "id": "63b2d425",
   "metadata": {},
   "outputs": [],
   "source": [
    "def assert_sol(K, items, opt_value, sol):\n",
    "    v = 0\n",
    "    w = 0\n",
    "    for i in range(len(sol)):\n",
    "        if sol[i] == 1:\n",
    "            v += items[i].value\n",
    "            w += items[i].weight\n",
    "    assert(v == opt_value)\n",
    "    assert(w <= K)"
   ]
  },
  {
   "cell_type": "code",
   "execution_count": 66,
   "id": "5055fdc6",
   "metadata": {},
   "outputs": [],
   "source": [
    "def dynamic_prog(K, items):\n",
    "    N = len(items)\n",
    "    tab = [[0 for i in range(N + 1)] for j in range(K + 1)]\n",
    "    for i in range(1, K + 1):\n",
    "        for j in range(1, N + 1):\n",
    "            if items[j - 1].weight > i:\n",
    "                tab[i][j] = tab[i][j - 1]\n",
    "            else:                \n",
    "                tab[i][j] = max(tab[i][j - 1], tab[i - items[j - 1].weight][j - 1] + items[j - 1].value)\n",
    "                \n",
    "    opt = tab[K][N]\n",
    "    taken = [0] * N\n",
    "    i, j2 = (K, N)\n",
    "    while j2 >= 1:\n",
    "        if tab[i][j2] == tab[i][j2 - 1]:\n",
    "            taken[j2 - 1] = 0\n",
    "        else:\n",
    "            taken[j2 - 1] = 1\n",
    "            i -= items[j2 - 1].weight\n",
    "        j2 -= 1\n",
    "    assert_sol(K, items, opt, taken)\n",
    "    return opt, taken, tab"
   ]
  },
  {
   "cell_type": "markdown",
   "id": "967e72c9",
   "metadata": {},
   "source": [
    "#### Run the values"
   ]
  },
  {
   "cell_type": "code",
   "execution_count": 67,
   "id": "2157b84b",
   "metadata": {},
   "outputs": [
    {
     "data": {
      "text/plain": [
       "(11,\n",
       " [1, 1, 0],\n",
       " [[0, 0, 0, 0],\n",
       "  [0, 0, 0, 0],\n",
       "  [0, 0, 0, 3],\n",
       "  [0, 0, 0, 3],\n",
       "  [0, 5, 5, 5],\n",
       "  [0, 5, 6, 6],\n",
       "  [0, 5, 6, 8],\n",
       "  [0, 5, 6, 9],\n",
       "  [0, 5, 6, 9],\n",
       "  [0, 5, 11, 11],\n",
       "  [0, 5, 11, 11]])"
      ]
     },
     "execution_count": 67,
     "metadata": {},
     "output_type": "execute_result"
    }
   ],
   "source": [
    "from collections import namedtuple\n",
    "Item = namedtuple(\"Item\", ['index', 'value', 'weight'])\n",
    "K = 10 \n",
    "capacity = K\n",
    "items = [Item(index=0, value=5, weight=4), Item(index=1, value=6, weight=5), Item(index=2, value=3, weight=2)]\n",
    "\n",
    "dynamic_prog(K, items)"
   ]
  },
  {
   "cell_type": "markdown",
   "id": "d92ab82d",
   "metadata": {},
   "source": [
    "### Conventional way"
   ]
  },
  {
   "cell_type": "code",
   "execution_count": 68,
   "id": "cff24339",
   "metadata": {},
   "outputs": [
    {
     "name": "stdout",
     "output_type": "stream",
     "text": [
      "11 0\n",
      "1 1 0\n"
     ]
    }
   ],
   "source": [
    "    # a trivial algorithm for filling the knapsack\n",
    "    # it takes items in-order until the knapsack is full\n",
    "value = 0\n",
    "weight = 0\n",
    "taken = [0]*len(items)\n",
    "\n",
    "for item in items:\n",
    "        if weight + item.weight <= capacity:\n",
    "            taken[item.index] = 1\n",
    "            value += item.value\n",
    "            weight += item.weight\n",
    "    \n",
    "# prepare the solution in the specified output format\n",
    "output_data = str(value) + ' ' + str(0) + '\\n'\n",
    "output_data += ' '.join(map(str, taken))\n",
    "print(output_data)"
   ]
  },
  {
   "cell_type": "markdown",
   "id": "e6f9d23a",
   "metadata": {},
   "source": [
    "### Linprog way"
   ]
  },
  {
   "cell_type": "code",
   "execution_count": 69,
   "id": "a957598d",
   "metadata": {},
   "outputs": [
    {
     "name": "stdout",
     "output_type": "stream",
     "text": [
      "[5, 6, 3] [4, 5, 2]\n"
     ]
    }
   ],
   "source": [
    "value = []\n",
    "weight = []\n",
    "\n",
    "for item in items:\n",
    "    value.append(item.value)\n",
    "    weight.append(item.weight)\n",
    "print(value,weight)"
   ]
  },
  {
   "cell_type": "code",
   "execution_count": 17,
   "id": "a441fcbc",
   "metadata": {},
   "outputs": [],
   "source": [
    "import numpy as np\n",
    "\n",
    "# Set of items\n",
    "I = set(range(1, 4))\n",
    "\n",
    "# Weight associated with each item\n",
    "w = dict(zip(I, weight))\n",
    "\n",
    "# Value associated with each item\n",
    "v = dict(zip(I, value))"
   ]
  },
  {
   "cell_type": "code",
   "execution_count": 28,
   "id": "21d7ccfd",
   "metadata": {},
   "outputs": [
    {
     "name": "stdout",
     "output_type": "stream",
     "text": [
      "{1: 4, 2: 5, 3: 2} {1: 5, 2: 6, 3: 3} 10\n"
     ]
    }
   ],
   "source": [
    "print(w,v,K)"
   ]
  },
  {
   "cell_type": "code",
   "execution_count": 26,
   "id": "7a37925f",
   "metadata": {},
   "outputs": [],
   "source": [
    "# Costs\n",
    "c = -np.array(list(v.values()))\n",
    "\n",
    "# Inequality constraints matrix\n",
    "A_ub = np.array([\n",
    "    np.array(list(w.values()))\n",
    "])\n",
    "\n",
    "# Upper bounds for linear inequality constraints\n",
    "b_ub = np.array([K])\n",
    "\n",
    "# Bounds (one quantity of each item)\n",
    "bounds = [(0, 1),] * len(v)"
   ]
  },
  {
   "cell_type": "code",
   "execution_count": 31,
   "id": "df5fe4e6",
   "metadata": {},
   "outputs": [],
   "source": [
    "#print(A_ub, b_ub, bounds)"
   ]
  },
  {
   "cell_type": "code",
   "execution_count": 27,
   "id": "cc85ab1c",
   "metadata": {},
   "outputs": [
    {
     "name": "stdout",
     "output_type": "stream",
     "text": [
      "        message: Optimization terminated successfully. (HiGHS Status 7: Optimal)\n",
      "        success: True\n",
      "         status: 0\n",
      "            fun: -12.8\n",
      "              x: [ 1.000e+00  8.000e-01  1.000e+00]\n",
      "            nit: 1\n",
      "          lower:  residual: [ 1.000e+00  8.000e-01  1.000e+00]\n",
      "                 marginals: [ 0.000e+00  0.000e+00  0.000e+00]\n",
      "          upper:  residual: [ 0.000e+00  2.000e-01  0.000e+00]\n",
      "                 marginals: [-2.000e-01  0.000e+00 -6.000e-01]\n",
      "          eqlin:  residual: []\n",
      "                 marginals: []\n",
      "        ineqlin:  residual: [ 0.000e+00]\n",
      "                 marginals: [-1.200e+00]\n",
      " mip_node_count: 0\n",
      " mip_dual_bound: 0.0\n",
      "        mip_gap: 0.0\n"
     ]
    }
   ],
   "source": [
    "from scipy.optimize import linprog\n",
    "\n",
    "# Obtain solution\n",
    "sol = linprog(c, A_ub=A_ub, b_ub=b_ub, bounds=bounds)\n",
    "\n",
    "print(sol)"
   ]
  },
  {
   "cell_type": "markdown",
   "id": "27b75681",
   "metadata": {},
   "source": [
    "### Search method"
   ]
  },
  {
   "cell_type": "code",
   "execution_count": 46,
   "id": "86fb6e73",
   "metadata": {},
   "outputs": [],
   "source": [
    "def DFSearch(K, items):\n",
    "    n1 = Node(K, items, [])\n",
    "\n",
    "    items2 = sorted(items, key=lambda x: x.value/x.weight, reverse=True)\n",
    "    best_node, visited = search(K, items2, [n1])\n",
    "    sol = [0] * len(best_node.sol)\n",
    "    for i in range(len(best_node.sol)):\n",
    "        sol[items2[i].index] = best_node.sol[i]\n",
    "    assert_sol(K, items, best_node.value, sol)\n",
    "    return best_node.value, sol, visited"
   ]
  },
  {
   "cell_type": "code",
   "execution_count": 37,
   "id": "d13feda8",
   "metadata": {},
   "outputs": [],
   "source": [
    "class Node():\n",
    "    def __init__(self, K, items, sol):\n",
    "        w, v = (0, 0)\n",
    "        self.is_leaf = (len(sol) == len(items))\n",
    "        for n in range(len(sol)):\n",
    "            if sol[n]:\n",
    "                w += items[n].weight\n",
    "                v += items[n].value\n",
    "        if w > K:\n",
    "            self.feasible = False\n",
    "        else:\n",
    "            self.value = v\n",
    "            self.feasible = True\n",
    "            self.sol = sol\n",
    "        if self.feasible:\n",
    "            if not self.is_leaf:\n",
    "                self.estimate = relax(K, items, sol, self.value)\n",
    "            else:\n",
    "                self.estimate = self.value"
   ]
  },
  {
   "cell_type": "code",
   "execution_count": 39,
   "id": "a3a8f1dc",
   "metadata": {},
   "outputs": [],
   "source": [
    "def relax(K, items, curr_sol, curr_value):\n",
    "    global SORTED_RATIO\n",
    "    ratio = SORTED_RATIO[len(curr_sol):len(items)]\n",
    "    v = curr_value\n",
    "    w = 0\n",
    "    for i in range(len(curr_sol)):\n",
    "        if curr_sol[i] == 1:\n",
    "            w += items[i].weight\n",
    "    for r in ratio:\n",
    "        w += items[r[1]].weight\n",
    "        if w <= K:\n",
    "            v += items[r[1]].value\n",
    "        else:\n",
    "            extra = K -w\n",
    "            perc = 1 - extra/items[r[1]].weight\n",
    "            v += perc * items[r[1]].value\n",
    "            return v\n",
    "    return v"
   ]
  },
  {
   "cell_type": "code",
   "execution_count": 33,
   "id": "773cbbbb",
   "metadata": {},
   "outputs": [],
   "source": [
    "def search(K, items, node_list):\n",
    "    curr_best = None\n",
    "    visited = 0\n",
    "    time_limit = 300 # seconds\n",
    "    start_time = time.time()\n",
    "    while len(node_list) > 0:\n",
    "        node = node_list.pop()\n",
    "        if node.feasible:\n",
    "            if not node.is_leaf:\n",
    "                if curr_best is None or node.estimate > curr_best.value:\n",
    "                    visit(node, node_list, K, items)\n",
    "                    visited += 1\n",
    "            else:\n",
    "                if curr_best is None or node.value > curr_best.value:\n",
    "                    curr_best = node\n",
    "        if time.time() - start_time > time_limit:\n",
    "            print(\"Time interruption\")\n",
    "            break\n",
    "    return curr_best, visited"
   ]
  },
  {
   "cell_type": "code",
   "execution_count": 50,
   "id": "9d1da66d",
   "metadata": {},
   "outputs": [],
   "source": [
    "def visit(node, node_list, K, items):\n",
    "    sol1 = node.sol.copy()\n",
    "    sol_l = sol1 + [1]\n",
    "    sol_r = sol1 + [0]\n",
    "    left = Node(K, items, sol_l)\n",
    "    right = Node(K, items, sol_r)\n",
    "    #depth_first(node_list, left, right)\n",
    "    #best_first(node_list, left, right)\n",
    "    rand_first(node_list, left, right)"
   ]
  },
  {
   "cell_type": "code",
   "execution_count": 35,
   "id": "7c8850cc",
   "metadata": {},
   "outputs": [],
   "source": [
    "def depth_first(node_list, left, right):\n",
    "    if right.feasible:\n",
    "        node_list.append(right)\n",
    "    if left.feasible:\n",
    "        node_list.append(left)\n",
    "\n",
    "\n",
    "def best_first(node_list, left, right):\n",
    "    if right.feasible:\n",
    "        node_list.append(right)\n",
    "    if left.feasible:\n",
    "        node_list.append(left)\n",
    "    if left.feasible or right.feasible:\n",
    "        node_list.sort(key=lambda x: x.value)\n",
    "\n",
    "\n",
    "def rand_first(node_list, left, right):\n",
    "    r = random.random()\n",
    "    if r > 0.5:\n",
    "        l = [left, right]\n",
    "    else:\n",
    "        l = [right, left]\n",
    "    if l[0].feasible:\n",
    "        node_list.append(l[0])\n",
    "    if l[1].feasible:\n",
    "        node_list.append(l[1])"
   ]
  },
  {
   "cell_type": "code",
   "execution_count": 43,
   "id": "ac782e4e",
   "metadata": {},
   "outputs": [],
   "source": [
    "def make_sorted_ratio(items):\n",
    "    ratio = [(0, 0)] * len(items)\n",
    "    for idx in range(len(items)):\n",
    "        ratio[idx] = (items[idx].value /\n",
    "                     items[idx].weight, idx)\n",
    "    ratio.sort(key=lambda x: x[0])\n",
    "    return ratio"
   ]
  },
  {
   "cell_type": "code",
   "execution_count": 52,
   "id": "4784053e",
   "metadata": {},
   "outputs": [
    {
     "data": {
      "text/plain": [
       "(9, [0, 1, 1], 4)"
      ]
     },
     "execution_count": 52,
     "metadata": {},
     "output_type": "execute_result"
    }
   ],
   "source": [
    "import time\n",
    "import random\n",
    "\n",
    "SORTED_RATIO = make_sorted_ratio(items)\n",
    "\n",
    "DFSearch(K, items)"
   ]
  },
  {
   "cell_type": "markdown",
   "id": "f9bdc060",
   "metadata": {},
   "source": [
    "### Ortools"
   ]
  },
  {
   "cell_type": "code",
   "execution_count": 58,
   "id": "f88d1e8e",
   "metadata": {},
   "outputs": [],
   "source": [
    "from ortools.sat.python import cp_model"
   ]
  },
  {
   "cell_type": "code",
   "execution_count": 70,
   "id": "e6fcae4a",
   "metadata": {},
   "outputs": [],
   "source": [
    "# Instantiate model and solver\n",
    "model = cp_model.CpModel()\n",
    "solver = cp_model.CpSolver()\n",
    "\n",
    "# 1. Variables\n",
    "capacity = K\n",
    "weight1 = model.NewIntVar(0, 1, 'weight1')\n",
    "weight2 = model.NewIntVar(0, 1, 'weight2')\n",
    "weight3 = model.NewIntVar(0, 1, 'weight3')"
   ]
  },
  {
   "cell_type": "code",
   "execution_count": 71,
   "id": "d51305f0",
   "metadata": {},
   "outputs": [
    {
     "data": {
      "text/plain": [
       "<ortools.sat.python.cp_model.Constraint at 0x7f83e57c51e0>"
      ]
     },
     "execution_count": 71,
     "metadata": {},
     "output_type": "execute_result"
    }
   ],
   "source": [
    "# 2. Constraints\n",
    "model.Add(4 * weight1 + 5 * weight2 + 2 * weight3 <= capacity)"
   ]
  },
  {
   "cell_type": "code",
   "execution_count": 72,
   "id": "784e2e45",
   "metadata": {},
   "outputs": [],
   "source": [
    "# 3. Objective\n",
    "model.Maximize(5  * weight1 + 6 * weight2 + 3 * weight3)"
   ]
  },
  {
   "cell_type": "code",
   "execution_count": 73,
   "id": "f738f22e",
   "metadata": {},
   "outputs": [
    {
     "name": "stdout",
     "output_type": "stream",
     "text": [
      "================= Solution =================\n",
      "Solved in 0.00 milliseconds\n",
      "\n",
      "Optimal value = 11 popularity\n",
      "Food:\n",
      " - Weight1 = 1\n",
      " - Weight2  = 1\n",
      " - Weight3  = 0\n"
     ]
    }
   ],
   "source": [
    "# Solve problem\n",
    "status = solver.Solve(model)\n",
    "\n",
    "# If an optimal solution has been found, print results\n",
    "if status == cp_model.OPTIMAL:\n",
    "    print('================= Solution =================')\n",
    "    print(f'Solved in {solver.WallTime():.2f} milliseconds')\n",
    "    print()\n",
    "    print(f'Optimal value = {5*solver.Value(weight1) + 6*solver.Value(weight2) + 3*solver.Value(weight3)} popularity')\n",
    "    print('Food:')\n",
    "    print(f' - Weight1 = {solver.Value(weight1)}')\n",
    "    print(f' - Weight2  = {solver.Value(weight2)}')\n",
    "    print(f' - Weight3  = {solver.Value(weight3)}')\n",
    "else:\n",
    "    print('The solver could not find an optimal solution.')"
   ]
  },
  {
   "cell_type": "code",
   "execution_count": null,
   "id": "dd20c43d",
   "metadata": {},
   "outputs": [],
   "source": []
  }
 ],
 "metadata": {
  "kernelspec": {
   "display_name": "Python 3 (ipykernel)",
   "language": "python",
   "name": "python3"
  },
  "language_info": {
   "codemirror_mode": {
    "name": "ipython",
    "version": 3
   },
   "file_extension": ".py",
   "mimetype": "text/x-python",
   "name": "python",
   "nbconvert_exporter": "python",
   "pygments_lexer": "ipython3",
   "version": "3.10.11"
  }
 },
 "nbformat": 4,
 "nbformat_minor": 5
}

{
 "cells": [
  {
   "cell_type": "code",
   "execution_count": 7,
   "id": "c311e000",
   "metadata": {},
   "outputs": [
    {
     "name": "stdout",
     "output_type": "stream",
     "text": [
      "3712 + 467 = 4179\n",
      "6419 + 724 = 7143\n",
      "3821 + 468 = 4289\n",
      "8432 + 914 = 9346\n",
      "7429 + 814 = 8243\n",
      "8324 + 913 = 9237\n",
      "2817 + 368 = 3185\n",
      "6853 + 728 = 7581\n",
      "7531 + 825 = 8356\n",
      "2819 + 368 = 3187\n",
      "7316 + 823 = 8139\n",
      "8542 + 915 = 9457\n",
      "9567 + 1085 = 10652\n",
      "5731 + 647 = 6378\n",
      "3719 + 457 = 4176\n",
      "6415 + 734 = 7149\n",
      "7539 + 815 = 8354\n",
      "6851 + 738 = 7589\n",
      "7649 + 816 = 8465\n",
      "5732 + 647 = 6379\n",
      "6524 + 735 = 7259\n",
      "3829 + 458 = 4287\n",
      "7534 + 825 = 8359\n",
      "7643 + 826 = 8469\n",
      "5849 + 638 = 6487\n"
     ]
    }
   ],
   "source": [
    "from itertools import combinations, permutations\n",
    "\n",
    "a, b, c = 'SEND', 'MORE', 'MONEY'\n",
    "\n",
    "for comb in combinations(range(10), 8):\n",
    "    for perm in permutations(comb):\n",
    "        \n",
    "        d = dict(zip('SENDMORY', perm))\n",
    "        f = lambda x: sum(d[e] * 10**i for i, e in enumerate(x[::-1]))\n",
    "        if f(a) + f(b) == f(c):\n",
    "            print (\"{} + {} = {}\".format(f(a), f(b), f(c)))"
   ]
  },
  {
   "cell_type": "code",
   "execution_count": 8,
   "id": "c7fb5a10",
   "metadata": {},
   "outputs": [
    {
     "name": "stdout",
     "output_type": "stream",
     "text": [
      "9567 + 1085 = 10652\n"
     ]
    }
   ],
   "source": [
    "from itertools import combinations, permutations\n",
    "\n",
    "def replacements(): \n",
    "    for comb in combinations(range(10), 8): \n",
    "        for perm in permutations(comb): \n",
    "            if perm[0] * perm[1] != 0: \n",
    "                yield dict(zip('SMENDORY', perm))\n",
    "\n",
    "a, b, c = 'SEND', 'MORE', 'MONEY'\n",
    "\n",
    "for replacement in replacements(): \n",
    "    f = lambda x: sum(replacement[e] * 10**i for i, e in enumerate(x[::-1])) \n",
    "    if f(a) + f(b) == f(c):\n",
    "        print('{} + {} = {}'.format(f(a), f(b), f(c)))"
   ]
  },
  {
   "cell_type": "code",
   "execution_count": 9,
   "id": "c3e0c638",
   "metadata": {},
   "outputs": [
    {
     "name": "stdout",
     "output_type": "stream",
     "text": [
      "9567\n",
      "1085\n"
     ]
    }
   ],
   "source": [
    "perm = permutations([0,2,3,4,5,6,7,8,9], 7)\n",
    "\n",
    "for i in perm:\n",
    "\n",
    "    if((i[0]*1000 + i[1]*100 + i[2]*10 + i[3] + 1000 + 100*i[4] + 10 * i[5] + i[1]) == (10000+1000*i[4]+i[2]*100+i[1]*10+i[6])):\n",
    "\n",
    "        print(i[0]*1000 + i[1]*100 + i[2]*10 + i[3])\n",
    "        print(1000 + 100*i[4] + 10 * i[5] + i[1])"
   ]
  },
  {
   "cell_type": "code",
   "execution_count": null,
   "id": "be06203a",
   "metadata": {},
   "outputs": [],
   "source": []
  }
 ],
 "metadata": {
  "kernelspec": {
   "display_name": "Python 3 (ipykernel)",
   "language": "python",
   "name": "python3"
  },
  "language_info": {
   "codemirror_mode": {
    "name": "ipython",
    "version": 3
   },
   "file_extension": ".py",
   "mimetype": "text/x-python",
   "name": "python",
   "nbconvert_exporter": "python",
   "pygments_lexer": "ipython3",
   "version": "3.10.11"
  }
 },
 "nbformat": 4,
 "nbformat_minor": 5
}

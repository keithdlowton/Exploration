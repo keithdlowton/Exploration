{
 "cells": [
  {
   "cell_type": "markdown",
   "id": "774e2e7b",
   "metadata": {},
   "source": [
    "https://developers.google.com/optimization/lp/lp_example"
   ]
  },
  {
   "cell_type": "code",
   "execution_count": 1,
   "id": "2ce6d5f5",
   "metadata": {},
   "outputs": [
    {
     "name": "stdout",
     "output_type": "stream",
     "text": [
      "Requirement already satisfied: ortools in /Users/keithlowton/anaconda3/lib/python3.10/site-packages (9.7.2996)\r\n",
      "Requirement already satisfied: protobuf>=4.23.3 in /Users/keithlowton/anaconda3/lib/python3.10/site-packages (from ortools) (4.24.4)\r\n",
      "Requirement already satisfied: absl-py>=0.13 in /Users/keithlowton/anaconda3/lib/python3.10/site-packages (from ortools) (2.0.0)\r\n",
      "Requirement already satisfied: numpy>=1.13.3 in /Users/keithlowton/anaconda3/lib/python3.10/site-packages (from ortools) (1.24.3)\r\n"
     ]
    }
   ],
   "source": [
    "!pip install ortools"
   ]
  },
  {
   "cell_type": "code",
   "execution_count": 2,
   "id": "f5a744e5",
   "metadata": {},
   "outputs": [],
   "source": [
    "from ortools.sat.python import cp_model"
   ]
  },
  {
   "cell_type": "markdown",
   "id": "2bde7aae",
   "metadata": {},
   "source": [
    "### Problem 1  \n",
    "\n",
    "There are three possible rations:  \n",
    "  \n",
    "🥖 Bread: it takes only 1 space but soldiers don’t like it that much with a popularity of 3;  \n",
    "🥩 Meat: it takes 3 spaces and has a popularity of 10;  \n",
    "🍺 Beer: it takes 7 spaces but soldiers love it with a popularity of 26.  \n",
    "\n",
    "The supply wagons have a capacity of 19 spaces. How to select the best rations to maximize the popularity?"
   ]
  },
  {
   "cell_type": "code",
   "execution_count": 3,
   "id": "7e1ec136",
   "metadata": {},
   "outputs": [],
   "source": [
    "# Instantiate model and solver\n",
    "model = cp_model.CpModel()\n",
    "solver = cp_model.CpSolver()\n",
    "\n",
    "# 1. Variables\n",
    "capacity = 19\n",
    "bread = model.NewIntVar(0, capacity, 'bread')\n",
    "meat  = model.NewIntVar(0, capacity, 'meat')\n",
    "beer  = model.NewIntVar(0, capacity, 'beer')"
   ]
  },
  {
   "cell_type": "code",
   "execution_count": 4,
   "id": "aad1a21a",
   "metadata": {},
   "outputs": [
    {
     "data": {
      "text/plain": [
       "<ortools.sat.python.cp_model.Constraint at 0x7fcd6c394970>"
      ]
     },
     "execution_count": 4,
     "metadata": {},
     "output_type": "execute_result"
    }
   ],
   "source": [
    "# 2. Constraints\n",
    "model.Add(1 * bread + 3 * meat + 7 * beer <= capacity)"
   ]
  },
  {
   "cell_type": "code",
   "execution_count": 5,
   "id": "59564c65",
   "metadata": {},
   "outputs": [],
   "source": [
    "# 3. Objective\n",
    "model.Maximize(3  * bread + 10 * meat + 26 * beer)"
   ]
  },
  {
   "cell_type": "code",
   "execution_count": 6,
   "id": "3a127dc5",
   "metadata": {},
   "outputs": [
    {
     "name": "stdout",
     "output_type": "stream",
     "text": [
      "================= Solution =================\n",
      "Solved in 0.00 milliseconds\n",
      "\n",
      "Optimal value = 68 popularity\n",
      "Food:\n",
      " - 🥖Bread = 2\n",
      " - 🥩Meat  = 1\n",
      " - 🍺Beer  = 2\n"
     ]
    }
   ],
   "source": [
    "# Solve problem\n",
    "status = solver.Solve(model)\n",
    "\n",
    "# If an optimal solution has been found, print results\n",
    "if status == cp_model.OPTIMAL:\n",
    "    print('================= Solution =================')\n",
    "    print(f'Solved in {solver.WallTime():.2f} milliseconds')\n",
    "    print()\n",
    "    print(f'Optimal value = {3*solver.Value(bread)+10*solver.Value(meat)+26*solver.Value(beer)} popularity')\n",
    "    print('Food:')\n",
    "    print(f' - 🥖Bread = {solver.Value(bread)}')\n",
    "    print(f' - 🥩Meat  = {solver.Value(meat)}')\n",
    "    print(f' - 🍺Beer  = {solver.Value(beer)}')\n",
    "else:\n",
    "    print('The solver could not find an optimal solution.')"
   ]
  },
  {
   "cell_type": "code",
   "execution_count": 7,
   "id": "4eadfe7a",
   "metadata": {},
   "outputs": [],
   "source": [
    "class CountSolutions(cp_model.CpSolverSolutionCallback):\n",
    "    \"\"\"Count the number of solutions.\"\"\"\n",
    "\n",
    "    def __init__(self):\n",
    "        cp_model.CpSolverSolutionCallback.__init__(self)\n",
    "        self.__solution_count = 0\n",
    "\n",
    "    def on_solution_callback(self):\n",
    "        self.__solution_count += 1\n",
    "\n",
    "    def solution_count(self):\n",
    "        return self.__solution_count"
   ]
  },
  {
   "cell_type": "markdown",
   "id": "bcd7d916",
   "metadata": {},
   "source": [
    "### Problem 2  \n",
    "\n",
    "Our 3 scouts observed the enemy camp, and this is what they tell us:\n",
    "\n",
    "Scout 1: “the number of soldiers is a multiple of 13”;  \n",
    "Scout 2: “the number of soldiers is a multiple of 19”;  \n",
    "Scout 3: “the number of soldiers is a multiple of 37”;  \n",
    "They all agree that the number of soldiers doesn’t exceed 10,000."
   ]
  },
  {
   "cell_type": "code",
   "execution_count": 10,
   "id": "ad067b91",
   "metadata": {},
   "outputs": [],
   "source": [
    "# Instantiate model and solver\n",
    "model = cp_model.CpModel()\n",
    "solver = cp_model.CpSolver()"
   ]
  },
  {
   "cell_type": "code",
   "execution_count": 11,
   "id": "e8824837",
   "metadata": {},
   "outputs": [],
   "source": [
    "# 1. Variable\n",
    "army = model.NewIntVar(1, 10000, 'army')"
   ]
  },
  {
   "cell_type": "code",
   "execution_count": 12,
   "id": "9e95c743",
   "metadata": {},
   "outputs": [
    {
     "data": {
      "text/plain": [
       "<ortools.sat.python.cp_model.Constraint at 0x7fcd6d037be0>"
      ]
     },
     "execution_count": 12,
     "metadata": {},
     "output_type": "execute_result"
    }
   ],
   "source": [
    "# 2. Constraints\n",
    "# variable % mod = target → (target, variable, mod)\n",
    "model.AddModuloEquality(0, army, 13)\n",
    "model.AddModuloEquality(0, army, 19)\n",
    "model.AddModuloEquality(0, army, 37)"
   ]
  },
  {
   "cell_type": "code",
   "execution_count": 13,
   "id": "a3a5adb6",
   "metadata": {},
   "outputs": [
    {
     "name": "stdout",
     "output_type": "stream",
     "text": [
      "================= Solution =================\n",
      "Solved in 0.01 milliseconds\n",
      "\n",
      "🪖 Army = 9139\n",
      "\n",
      "Check solution:\n",
      " - Constraint 1: 9139 % 13 = 0\n",
      " - Constraint 2: 9139 % 19 = 0\n",
      " - Constraint 3: 9139 % 37 = 0\n"
     ]
    }
   ],
   "source": [
    "# Find the variable that satisfies these constraints\n",
    "status = solver.Solve(model)\n",
    "\n",
    "# If a solution has been found, print results\n",
    "if status == cp_model.OPTIMAL or status == cp_model.FEASIBLE:\n",
    "    print('================= Solution =================')\n",
    "    print(f'Solved in {solver.WallTime():.2f} milliseconds')\n",
    "    print()\n",
    "    print(f'🪖 Army = {solver.Value(army)}')\n",
    "    print()\n",
    "    print('Check solution:')\n",
    "    print(f' - Constraint 1: {solver.Value(army)} % 13 = {solver.Value(army) % 13}')\n",
    "    print(f' - Constraint 2: {solver.Value(army)} % 19 = {solver.Value(army) % 19}')\n",
    "    print(f' - Constraint 3: {solver.Value(army)} % 37 = {solver.Value(army) % 37}')\n",
    "\n",
    "else:\n",
    "    print('The solver could not find a solution.')"
   ]
  },
  {
   "cell_type": "markdown",
   "id": "32252727",
   "metadata": {},
   "source": [
    "### Problem 3"
   ]
  },
  {
   "cell_type": "code",
   "execution_count": 19,
   "id": "723ed832",
   "metadata": {},
   "outputs": [
    {
     "name": "stdout",
     "output_type": "stream",
     "text": [
      "================= Solution =================\n",
      "Solved in 0.00 milliseconds\n",
      "\n",
      "Optimal value = 789100 money produced\n",
      "Food:\n",
      " - Desk = 883\n",
      " - Table  = 190\n"
     ]
    }
   ],
   "source": [
    "# Instantiate model and solver\n",
    "model = cp_model.CpModel()\n",
    "solver = cp_model.CpSolver()\n",
    "\n",
    "# 1. Variables\n",
    "time = 16 * 50 * 60\n",
    "resource = 200 * 8\n",
    "wood = 3600\n",
    "desk = model.NewIntVar(0, 36000, 'desk')\n",
    "table  = model.NewIntVar(0, 36000, 'table')\n",
    "\n",
    "# 2. Constraints\n",
    "model.Add(1 * desk + 2 * table <= resource)\n",
    "model.Add(3 * desk + 5 * table <= wood)\n",
    "model.Add(50 * desk + 20 * table <= time)\n",
    "\n",
    "# 3. Objective\n",
    "model.Maximize(700  * desk + 900 * table)\n",
    "\n",
    "# Solve problem\n",
    "status = solver.Solve(model)\n",
    "\n",
    "# If an optimal solution has been found, print results\n",
    "if status == cp_model.OPTIMAL:\n",
    "    print('================= Solution =================')\n",
    "    print(f'Solved in {solver.WallTime():.2f} milliseconds')\n",
    "    print()\n",
    "    print(f'Optimal value = {700*solver.Value(desk) + 900*solver.Value(table)} money produced')\n",
    "    print('Food:')\n",
    "    print(f' - Desk = {solver.Value(desk)}')\n",
    "    print(f' - Table  = {solver.Value(table)}')\n",
    "\n",
    "else:\n",
    "    print('The solver could not find an optimal solution.')"
   ]
  },
  {
   "cell_type": "code",
   "execution_count": 15,
   "id": "0faa7487",
   "metadata": {},
   "outputs": [
    {
     "name": "stdout",
     "output_type": "stream",
     "text": [
      "================= Solution =================\n",
      "Solved in 1.00 milliseconds\n",
      "\n",
      "Optimal value = 789473.6842105264 money produced\n",
      "Variables:\n",
      " - Desk = 884.2105263157898\n",
      " - Table  = 189.47368421052613\n"
     ]
    }
   ],
   "source": [
    "from ortools.linear_solver import pywraplp\n",
    "\n",
    "# Instantiate model and solver\n",
    "model = cp_model.CpModel()\n",
    "solver = pywraplp.Solver.CreateSolver(\"GLOP\")\n",
    "\n",
    "# 1. Variables\n",
    "time = 16 * 50 * 60\n",
    "resource = 200 * 8\n",
    "wood = 3600\n",
    "desk = solver.NumVar(0, solver.infinity(), 'desk')\n",
    "table  = solver.NumVar(0, solver.infinity(), 'table')\n",
    "\n",
    "# 2. Constraints\n",
    "\n",
    "solver.Add(1 * desk + 2 * table <= resource)\n",
    "solver.Add(3 * desk + 5 * table <= wood)\n",
    "solver.Add(50 * desk + 20 * table <= time)\n",
    "\n",
    "# 3. Objective\n",
    "solver.Maximize(700  * desk + 900 * table)\n",
    "\n",
    "# Solve problem\n",
    "status = solver.Solve()\n",
    "\n",
    "# If an optimal solution has been found, print results\n",
    "if status == pywraplp.Solver.OPTIMAL:\n",
    "    print('================= Solution =================')\n",
    "    print(f'Solved in {solver.WallTime():.2f} milliseconds')\n",
    "    print()\n",
    "    print(f'Optimal value = {700*desk.solution_value() + 900*table.solution_value()} money produced')\n",
    "    print('Variables:')\n",
    "    print(f' - Desk = {desk.solution_value()}')\n",
    "    print(f' - Table  = {table.solution_value()}')\n",
    "\n",
    "else:\n",
    "    print('The solver could not find an optimal solution.')"
   ]
  },
  {
   "cell_type": "markdown",
   "id": "d24c7d6b",
   "metadata": {},
   "source": [
    "### Problem 4"
   ]
  },
  {
   "cell_type": "code",
   "execution_count": 29,
   "id": "8b327799",
   "metadata": {},
   "outputs": [
    {
     "name": "stdout",
     "output_type": "stream",
     "text": [
      "================= Solution =================\n",
      "Solved in 0.00 milliseconds\n",
      "\n",
      "Optimal value = 5950 cost\n",
      "Food:\n",
      " - Day 1 = 250\n",
      " - Day 2 = 0\n",
      " - Day 3 = 370\n",
      " - Day 4 = 0\n"
     ]
    }
   ],
   "source": [
    "# Instantiate model and solver\n",
    "model = cp_model.CpModel()\n",
    "solver = cp_model.CpSolver()\n",
    "\n",
    "# 1. Variables\n",
    "time = 16 * 50 * 60\n",
    "production = 620\n",
    "wood = 3600\n",
    "\n",
    "x1 = model.NewIntVar(100, 10000, 'x1')\n",
    "x2 = model.NewIntVar(0, 10000, 'x2')\n",
    "x3 = model.NewIntVar(0, 10000, 'x3')\n",
    "x4 = model.NewIntVar(0, 10000, 'x4')\n",
    "y1 = model.NewIntVar(0, 10000, 'y1')\n",
    "y2 = model.NewIntVar(0, 10000, 'y2')\n",
    "y3 = model.NewIntVar(0, 10000, 'y3')\n",
    "y4 = model.NewIntVar(0, 10000, 'y4')\n",
    "\n",
    "# 2. Constraints\n",
    "#model.Add(x1 + x2 + x3 + x4 == production)\n",
    "#model.Add(x1 >= 100)\n",
    "#model.Add(x2 + y1 >= 150)\n",
    "#model.Add(x3 + y2 >= 200)\n",
    "#model.Add(x4 + y3 >= 170)\n",
    "model.Add(x1 - 100 == y1)\n",
    "model.Add(x2 + y1 - 150 == y2)\n",
    "model.Add(x3 + y2 - 200 == y3)\n",
    "model.Add(x4 + y3 - 170 == 0)\n",
    "\n",
    "# 3. Objective\n",
    "model.Minimize(9 * x1 + 12 * x2 + 10 * x3 + 12 * x4 + y1 + y2 + y3)\n",
    "\n",
    "# Solve problem\n",
    "status = solver.Solve(model)\n",
    "\n",
    "# If an optimal solution has been found, print results\n",
    "if status == cp_model.OPTIMAL:\n",
    "    print('================= Solution =================')\n",
    "    print(f'Solved in {solver.WallTime():.2f} milliseconds')\n",
    "    print()\n",
    "    print(f'Optimal value = {9*solver.Value(x1) + 12*solver.Value(x2) + 10*solver.Value(x3) + 12*solver.Value(x4)} cost')\n",
    "    print('Food:')\n",
    "    print(f' - Day 1 = {solver.Value(x1)}')\n",
    "    print(f' - Day 2 = {solver.Value(x2)}')\n",
    "    print(f' - Day 3 = {solver.Value(x3)}')\n",
    "    print(f' - Day 4 = {solver.Value(x4)}')\n",
    "\n",
    "else:\n",
    "    print('The solver could not find an optimal solution.')"
   ]
  },
  {
   "cell_type": "code",
   "execution_count": null,
   "id": "9baf3c02",
   "metadata": {},
   "outputs": [],
   "source": []
  },
  {
   "cell_type": "code",
   "execution_count": 13,
   "id": "839d8670",
   "metadata": {},
   "outputs": [
    {
     "name": "stdout",
     "output_type": "stream",
     "text": [
      "================= Solution =================\n",
      "Solved in 2.00 milliseconds\n",
      "\n",
      "Optimal value = 163.33333333333331 cost\n",
      "Food:\n",
      " - Day 1 = 3.3333333333333415\n",
      " - Day 2 = 40.0\n",
      " - Day 3 = 13.33333333333334\n",
      " - Day 4 = 0.0\n",
      " - Day 5 = 13.333333333333332\n",
      " - Day 6 = 93.33333333333331\n",
      " - Day 7 = 0.0\n"
     ]
    }
   ],
   "source": [
    "from ortools.linear_solver import pywraplp\n",
    "\n",
    "# Instantiate model and solver\n",
    "model = cp_model.CpModel()\n",
    "solver = pywraplp.Solver.CreateSolver(\"GLOP\")\n",
    "\n",
    "# 1. Variables\n",
    "\n",
    "x1 = solver.NumVar(0, solver.infinity(), 'x1')\n",
    "x2 = solver.NumVar(0, solver.infinity(), 'x2')\n",
    "x3 = solver.NumVar(0, solver.infinity(), 'x3')\n",
    "x4 = solver.NumVar(0, solver.infinity(), 'x4')\n",
    "x5 = solver.NumVar(0, solver.infinity(), 'x5')\n",
    "x6 = solver.NumVar(0, solver.infinity(), 'x6')\n",
    "x7 = solver.NumVar(0, solver.infinity(), 'x7')\n",
    "\n",
    "# 2. Constraints\n",
    "#model.Add(x1 + x2 + x3 + x4 == production)\n",
    "#model.Add(x1 >= 100)\n",
    "#model.Add(x2 + y1 >= 150)\n",
    "#model.Add(x3 + y2 >= 200)\n",
    "#model.Add(x4 + y3 >= 170)\n",
    "solver.Add(x1 + x4 + x5 + x6 + x7 >= 110)\n",
    "solver.Add(x1 + x2 + x5 + x6 + x7 >= 80)\n",
    "solver.Add(x1 + x2 + x3 + x6 + x7 >= 150)\n",
    "solver.Add(x1 + x2 + x3 + x4 + x7 >= 30)\n",
    "solver.Add(x1 + x2 + x3 + x4 + x5 >= 70)\n",
    "solver.Add(x2 + x3 + x4 + x5 + x6 >= 160)\n",
    "solver.Add(x3 + x4 + x5 + x6 + x7 >= 120)\n",
    "\n",
    "# 3. Objective\n",
    "solver.Minimize(x1 + x2 + x3 + x4 + x5 + x6 + x7)\n",
    "\n",
    "# Solve problem\n",
    "status = solver.Solve()\n",
    "\n",
    "# If an optimal solution has been found, print results\n",
    "if status == pywraplp.Solver.OPTIMAL:\n",
    "    print('================= Solution =================')\n",
    "    print(f'Solved in {solver.WallTime():.2f} milliseconds')\n",
    "    print()\n",
    "    print(f'Optimal value = {x1.solution_value() + x2.solution_value() + x3.solution_value() + x4.solution_value() + x5.solution_value() + x6.solution_value() + x7.solution_value()} cost')\n",
    "    print('Food:')\n",
    "    print(f' - Day 1 = {x1.solution_value()}')\n",
    "    print(f' - Day 2 = {x2.solution_value()}')\n",
    "    print(f' - Day 3 = {x3.solution_value()}')\n",
    "    print(f' - Day 4 = {x4.solution_value()}')\n",
    "    print(f' - Day 5 = {x5.solution_value()}')\n",
    "    print(f' - Day 6 = {x6.solution_value()}')\n",
    "    print(f' - Day 7 = {x7.solution_value()}')\n",
    "\n",
    "else:\n",
    "    print('The solver could not find an optimal solution.')"
   ]
  },
  {
   "cell_type": "code",
   "execution_count": null,
   "id": "3078659b",
   "metadata": {},
   "outputs": [],
   "source": []
  }
 ],
 "metadata": {
  "kernelspec": {
   "display_name": "Python 3 (ipykernel)",
   "language": "python",
   "name": "python3"
  },
  "language_info": {
   "codemirror_mode": {
    "name": "ipython",
    "version": 3
   },
   "file_extension": ".py",
   "mimetype": "text/x-python",
   "name": "python",
   "nbconvert_exporter": "python",
   "pygments_lexer": "ipython3",
   "version": "3.10.11"
  }
 },
 "nbformat": 4,
 "nbformat_minor": 5
}

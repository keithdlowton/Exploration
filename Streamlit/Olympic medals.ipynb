{
 "cells": [
  {
   "cell_type": "markdown",
   "metadata": {},
   "source": [
    "https://levelup.gitconnected.com/a-timely-python-multi-page-streamlit-application-on-olympic-results-fb6d63c14ddd"
   ]
  },
  {
   "cell_type": "code",
   "execution_count": 3,
   "metadata": {},
   "outputs": [],
   "source": [
    "import os\n",
    "\n",
    "import pandas as pd\n",
    "import plotly.express as px\n",
    "import plotly.graph_objects as go\n",
    "import streamlit as st"
   ]
  },
  {
   "cell_type": "code",
   "execution_count": 2,
   "metadata": {},
   "outputs": [
    {
     "name": "stdout",
     "output_type": "stream",
     "text": [
      "True\n",
      "/Users/keithlowton/Desktop/Ks/Python code/Kaggle/Country Medals\n"
     ]
    }
   ],
   "source": [
    "from pathlib import Path\n",
    "path_folder = Path(\"/Users/keithlowton/Desktop/Ks/Python code/Kaggle/Country Medals\")\n",
    "print(path_folder.exists())\n",
    "print(path_folder)"
   ]
  },
  {
   "cell_type": "markdown",
   "metadata": {},
   "source": [
    "### Read data in"
   ]
  },
  {
   "cell_type": "code",
   "execution_count": 5,
   "metadata": {},
   "outputs": [
    {
     "name": "stdout",
     "output_type": "stream",
     "text": [
      "(1344, 8)\n"
     ]
    },
    {
     "data": {
      "text/html": [
       "<div>\n",
       "<style scoped>\n",
       "    .dataframe tbody tr th:only-of-type {\n",
       "        vertical-align: middle;\n",
       "    }\n",
       "\n",
       "    .dataframe tbody tr th {\n",
       "        vertical-align: top;\n",
       "    }\n",
       "\n",
       "    .dataframe thead th {\n",
       "        text-align: right;\n",
       "    }\n",
       "</style>\n",
       "<table border=\"1\" class=\"dataframe\">\n",
       "  <thead>\n",
       "    <tr style=\"text-align: right;\">\n",
       "      <th></th>\n",
       "      <th>Year</th>\n",
       "      <th>Host_country</th>\n",
       "      <th>Host_city</th>\n",
       "      <th>Country_Name</th>\n",
       "      <th>Country_Code</th>\n",
       "      <th>Gold</th>\n",
       "      <th>Silver</th>\n",
       "      <th>Bronze</th>\n",
       "    </tr>\n",
       "  </thead>\n",
       "  <tbody>\n",
       "    <tr>\n",
       "      <th>0</th>\n",
       "      <td>1896</td>\n",
       "      <td>Greece</td>\n",
       "      <td>Athens</td>\n",
       "      <td>Great Britain</td>\n",
       "      <td>GBR</td>\n",
       "      <td>2</td>\n",
       "      <td>3</td>\n",
       "      <td>2</td>\n",
       "    </tr>\n",
       "    <tr>\n",
       "      <th>1</th>\n",
       "      <td>1896</td>\n",
       "      <td>Greece</td>\n",
       "      <td>Athens</td>\n",
       "      <td>Hungary</td>\n",
       "      <td>HUN</td>\n",
       "      <td>2</td>\n",
       "      <td>1</td>\n",
       "      <td>3</td>\n",
       "    </tr>\n",
       "    <tr>\n",
       "      <th>2</th>\n",
       "      <td>1896</td>\n",
       "      <td>Greece</td>\n",
       "      <td>Athens</td>\n",
       "      <td>France</td>\n",
       "      <td>FRA</td>\n",
       "      <td>5</td>\n",
       "      <td>4</td>\n",
       "      <td>2</td>\n",
       "    </tr>\n",
       "    <tr>\n",
       "      <th>3</th>\n",
       "      <td>1896</td>\n",
       "      <td>Greece</td>\n",
       "      <td>Athens</td>\n",
       "      <td>United States</td>\n",
       "      <td>USA</td>\n",
       "      <td>11</td>\n",
       "      <td>7</td>\n",
       "      <td>2</td>\n",
       "    </tr>\n",
       "    <tr>\n",
       "      <th>4</th>\n",
       "      <td>1896</td>\n",
       "      <td>Greece</td>\n",
       "      <td>Athens</td>\n",
       "      <td>Germany</td>\n",
       "      <td>GER</td>\n",
       "      <td>6</td>\n",
       "      <td>5</td>\n",
       "      <td>2</td>\n",
       "    </tr>\n",
       "  </tbody>\n",
       "</table>\n",
       "</div>"
      ],
      "text/plain": [
       "   Year Host_country Host_city   Country_Name Country_Code  Gold  Silver  \\\n",
       "0  1896       Greece    Athens  Great Britain          GBR     2       3   \n",
       "1  1896       Greece    Athens        Hungary          HUN     2       1   \n",
       "2  1896       Greece    Athens         France          FRA     5       4   \n",
       "3  1896       Greece    Athens  United States          USA    11       7   \n",
       "4  1896       Greece    Athens        Germany          GER     6       5   \n",
       "\n",
       "   Bronze  \n",
       "0       2  \n",
       "1       3  \n",
       "2       2  \n",
       "3       2  \n",
       "4       2  "
      ]
     },
     "execution_count": 5,
     "metadata": {},
     "output_type": "execute_result"
    }
   ],
   "source": [
    "# Load dataset\n",
    "data = pd.read_csv(os.path.join(path_folder,\"data/Summer_olympic_Medals.csv\"))\n",
    "print(data.shape)\n",
    "# (1344, 8)\n",
    "data.head()\n"
   ]
  },
  {
   "cell_type": "markdown",
   "metadata": {},
   "source": [
    "### Functions"
   ]
  },
  {
   "cell_type": "code",
   "execution_count": 6,
   "metadata": {},
   "outputs": [],
   "source": [
    "# Helper function to get medal counts\n",
    "def get_medal_counts(df, group_by_column):\n",
    "    return df.groupby([group_by_column])[['Gold', 'Silver', 'Bronze']].sum().reset_index()"
   ]
  },
  {
   "cell_type": "markdown",
   "metadata": {},
   "source": [
    "#### Streamlit Page 1: Olympic Medal Overview"
   ]
  },
  {
   "cell_type": "code",
   "execution_count": 7,
   "metadata": {},
   "outputs": [],
   "source": [
    "def page_overview():\n",
    "    st.subheader(\"Global Medal Counts By Year Range (Choose Range)\")\n",
    "    year_filter = st.slider(\n",
    "        \"Year Range\",\n",
    "        int(data[\"Year\"].min()),\n",
    "        int(data[\"Year\"].max()),\n",
    "        (int(data[\"Year\"].min()), int(data[\"Year\"].max())),\n",
    "    )\n",
    "    filtered_data = data[(data[\"Year\"] >= year_filter[0]) & (data[\"Year\"] <= year_filter[1])]\n",
    "    medal_counts = get_medal_counts(filtered_data, \"Country_Name\")\n",
    "    medal_counts[\"Total\"] = medal_counts[\"Gold\"] + medal_counts[\"Silver\"] + medal_counts[\"Bronze\"]\n",
    "    top_countries = medal_counts.sort_values(by=\"Total\", ascending=False).head(20)\n",
    "    # st.subheader(\"Top 20 Countries by Total Medals\")\n",
    "    fig = px.bar(\n",
    "        top_countries,\n",
    "        x=\"Total\",\n",
    "        y=\"Country_Name\",\n",
    "        orientation=\"h\",\n",
    "        title=\"Top 20 Countries by Total Medals\",\n",
    "        color=\"Country_Name\",\n",
    "        color_discrete_sequence=px.colors.qualitative.Prism,\n",
    "    )\n",
    "    fig.update_layout(showlegend=False, height=600)\n",
    "    st.plotly_chart(fig)\n"
   ]
  },
  {
   "cell_type": "markdown",
   "metadata": {},
   "source": [
    "#### Streamlit Page 2: Country-Specific Analysis"
   ]
  },
  {
   "cell_type": "code",
   "execution_count": 8,
   "metadata": {},
   "outputs": [],
   "source": [
    "def page_country_analysis():\n",
    "    st.subheader(\"Country-Specific Analysis\")\n",
    "\n",
    "    country = st.selectbox(\"Select Country\", data[\"Country_Name\"].unique())\n",
    "    country_data = data[data[\"Country_Name\"] == country]\n",
    "    # st.subheader(f\"Medal Count for {country}\")\n",
    "    fig = go.Figure()\n",
    "    fig.add_trace(\n",
    "        go.Scatter(\n",
    "            x=country_data[\"Year\"], y=country_data[\"Gold\"], mode=\"lines\", name=\"Gold\", line=dict(color=\"gold\", width=2)\n",
    "        )\n",
    "    )\n",
    "    fig.add_trace(\n",
    "        go.Scatter(\n",
    "            x=country_data[\"Year\"],\n",
    "            y=country_data[\"Silver\"],\n",
    "            mode=\"lines\",\n",
    "            name=\"Silver\",\n",
    "            line=dict(color=\"silver\", width=2),\n",
    "        )\n",
    "    )\n",
    "    fig.add_trace(\n",
    "        go.Scatter(\n",
    "            x=country_data[\"Year\"],\n",
    "            y=country_data[\"Bronze\"],\n",
    "            mode=\"lines\",\n",
    "            name=\"Bronze\",\n",
    "            line=dict(color=\"#cd7f32\", width=2),\n",
    "        )\n",
    "    )\n",
    "    fig.update_layout(title=f\"Medal Count for {country} Over the Years\", height=400)\n",
    "    st.plotly_chart(fig)\n",
    "    total_medals = country_data[[\"Gold\", \"Silver\", \"Bronze\"]].sum().reset_index()\n",
    "    total_medals.columns = [\"Medal Type\", \"Count\"]\n",
    "    # st.subheader(f\"Total Medals for {country}\")\n",
    "    fig = px.bar(\n",
    "        total_medals,\n",
    "        x=\"Count\",\n",
    "        y=\"Medal Type\",\n",
    "        orientation=\"h\",\n",
    "        title=f\"Total Medals for {country}\",\n",
    "        color=\"Medal Type\",\n",
    "        color_discrete_map={\"Gold\": \"gold\", \"Silver\": \"silver\", \"Bronze\": \"#cd7f32\"},\n",
    "    )\n",
    "    fig.update_layout(height=300)\n",
    "    st.plotly_chart(fig)\n"
   ]
  },
  {
   "cell_type": "markdown",
   "metadata": {},
   "source": [
    "#### Streamlit Page 3: Global Choropleth Map and Medal Table"
   ]
  },
  {
   "cell_type": "code",
   "execution_count": 9,
   "metadata": {},
   "outputs": [],
   "source": [
    "def page_choropleth():\n",
    "    # st.subheader(\"Choropleth Mapping\")\n",
    "\n",
    "    year = st.selectbox(\"Select Year\", sorted(data[\"Year\"].unique()), key=\"year_select\")\n",
    "    year_data = data[data[\"Year\"] == year]\n",
    "    medal_counts = get_medal_counts(year_data, \"Country_Name\")\n",
    "    medal_counts[\"Total\"] = medal_counts[\"Gold\"] + medal_counts[\"Silver\"] + medal_counts[\"Bronze\"]\n",
    "    st.subheader(f\"Global Distribution of Total Medals in {year}\")\n",
    "    fig = px.choropleth(\n",
    "        medal_counts,\n",
    "        locations=\"Country_Name\",\n",
    "        locationmode=\"country names\",\n",
    "        color=\"Total\",\n",
    "        hover_name=\"Country_Name\",\n",
    "        color_continuous_scale=px.colors.sequential.YlOrBr,\n",
    "    )\n",
    "    fig.update_layout(height=500)\n",
    "    st.plotly_chart(fig)\n",
    "    st.subheader(f\"Medal Counts by Country in {year}\")\n",
    "    sorted_medal_counts = medal_counts.sort_values(by=\"Total\", ascending=False)\n",
    "    st.dataframe(sorted_medal_counts)\n"
   ]
  },
  {
   "cell_type": "markdown",
   "metadata": {},
   "source": [
    "#### Streamlit"
   ]
  },
  {
   "cell_type": "code",
   "execution_count": 10,
   "metadata": {},
   "outputs": [
    {
     "name": "stderr",
     "output_type": "stream",
     "text": [
      "2024-07-08 12:34:26.298 \n",
      "  \u001b[33m\u001b[1mWarning:\u001b[0m to view this Streamlit app on a browser, run it with the following\n",
      "  command:\n",
      "\n",
      "    streamlit run /Users/keithlowton/anaconda3/envs/Streamlit/lib/python3.10/site-packages/ipykernel_launcher.py [ARGUMENTS]\n"
     ]
    }
   ],
   "source": [
    "def main():\n",
    "    st.sidebar.title(\"Summer Olympic Medals\")\n",
    "    page = st.sidebar.radio(\"Go to\", [\"Global Medals\", \"Country Analysis\", \"Global Mapping\"])\n",
    "\n",
    "    if page == \"Global Medals\":\n",
    "        page_overview()\n",
    "    elif page == \"Country Analysis\":\n",
    "        page_country_analysis()\n",
    "    elif page == \"Global Mapping\":\n",
    "        page_choropleth()\n",
    "\n",
    "if __name__ == \"__main__\":\n",
    "    main()"
   ]
  },
  {
   "cell_type": "code",
   "execution_count": 11,
   "metadata": {},
   "outputs": [
    {
     "ename": "SyntaxError",
     "evalue": "invalid syntax (2629686799.py, line 1)",
     "output_type": "error",
     "traceback": [
      "\u001b[0;36m  Cell \u001b[0;32mIn[11], line 1\u001b[0;36m\u001b[0m\n\u001b[0;31m    streamlit run /Users/keithlowton/anaconda3/envs/Streamlit/lib/python3.10/site-packages/ipykernel_launcher.py\u001b[0m\n\u001b[0m              ^\u001b[0m\n\u001b[0;31mSyntaxError\u001b[0m\u001b[0;31m:\u001b[0m invalid syntax\n"
     ]
    }
   ],
   "source": [
    "streamlit run /Users/keithlowton/anaconda3/envs/Streamlit/lib/python3.10/site-packages/ipykernel_launcher.py"
   ]
  },
  {
   "cell_type": "code",
   "execution_count": null,
   "metadata": {},
   "outputs": [],
   "source": []
  }
 ],
 "metadata": {
  "kernelspec": {
   "display_name": "Streamlit",
   "language": "python",
   "name": "python3"
  },
  "language_info": {
   "codemirror_mode": {
    "name": "ipython",
    "version": 3
   },
   "file_extension": ".py",
   "mimetype": "text/x-python",
   "name": "python",
   "nbconvert_exporter": "python",
   "pygments_lexer": "ipython3",
   "version": "3.10.14"
  }
 },
 "nbformat": 4,
 "nbformat_minor": 2
}
